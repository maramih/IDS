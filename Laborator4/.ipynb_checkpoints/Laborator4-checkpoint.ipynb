{
 "cells": [
  {
   "cell_type": "markdown",
   "metadata": {},
   "source": [
    "# Laborator 4"
   ]
  },
  {
   "cell_type": "markdown",
   "metadata": {},
   "source": [
    "## 1. Exercitii cu Pandas"
   ]
  },
  {
   "cell_type": "markdown",
   "metadata": {},
   "source": [
    "1. Incarcati setul de date in format tsv [https://raw.githubusercontent.com/justmarkham/DAT8/master/data/chipotle.tsv](https://raw.githubusercontent.com/justmarkham/DAT8/master/data/chipotle.tsv) intr-un obiect Pandas DataFrame.\n",
    "    1. Afisati primele 5 linii din tabel\n",
    "    1. Care este numarul de date din DataFrame?\n",
    "    1. Comparati iesirea metodelor `info()` si `describe()`.\n",
    "    1. Care e numarul de coloane? afisati numele lor.\n",
    "    1. Cum e indexat setul de date? sunt valorile din index unice?\n",
    "    1. Care sunt marfurile vandute, in ordine alfabetica? Cate sunt?\n",
    "    1. Cate obiecte (items) au fost comandate, in total - suma pe coloana 'quantity'?\n",
    "    1. Transformati intr-un ant dataframe coloana 'item_price' din stringuri in valori floating point. Care sunt preturile (minim, maxim, mediu, median) cu care s-a vandut produsul 'Chicken Crispy Tacos'? Cate astfel de produse au fost comandate in total? Care sunt veniturile obtinute din vanzarea acestui produs? *Nota*: puteti folosi metoda `describe()` a unui dataframe/series.\n",
    "    1. Care sunt cele mai comandate 3 marfuri? Folositi `groupby()` pentru grupare, ne intereseaza cantitatile cele mai mari. *Nota:* sectiunea 'Aggregation and Grouping' din ref bibliografica 1 din curs e utila pentru intelegerea agregarilor.\n",
    "    1. De cate ori s-a comandat 'Veggie Salad Bowl'?\n",
    "    1. De cate ori intr-o comanda s-au cerut mai mult de o 'Canned Soda'?\n",
    "    1. Care sunt banii incasati pentru fiecare comanda? atentie, pentru fiecare item comandat trebuie luat in considerare si cantitatea. Puteti crea coloane auxiliare (pret transformat din string in float, pret total pe acel item = pret_unitar * cantitate etc.)\n",
    "1. Incarcati setul de date de la [https://raw.githubusercontent.com/jokecamp/FootballData/master/UEFA_European_Championship/Euro%202012/Euro%202012%20stats%20TEAM.csv](https://raw.githubusercontent.com/jokecamp/FootballData/master/UEFA_European_Championship/Euro%202012/Euro%202012%20stats%20TEAM.csv) intr-un obiect Pandas DataFrame.\n",
    "    1. Cate echipe au participat la Euro 2012?\n",
    "    1. Sa se sorteze echipele dupa numarul de cartonase rosii, apoi dupa cele galbene, descrescator - sortare dupa criteriu dublu.\n",
    "    1. Care e numarul mediu de cartonase rosii date? Dar mediana?\n",
    "    1. Care sunt echipele care au luat mai multe cartonase rosii decat media?\n",
    "    1. Care sunt echipele al caror nume incepe cu litera G? *Indicatie*: documentati-va despre Vectorized String Operations, sectiunea omonima din Ref bib 1 din curs 1.\n",
    "    1. Care sunt Shooting accuracy pentru Anglia, Grecia, Rusia?\n",
    "1. Incarcati setul de date de la [https://raw.githubusercontent.com/justmarkham/DAT8/master/data/drinks.csv](https://raw.githubusercontent.com/justmarkham/DAT8/master/data/drinks.csv). Folosind grupari (`groupby`) dupa o documentare serioasa in sectiunea 'Aggregation and Grouping' din ref bibliografica [1] din primul curs, rezolvati:\n",
    "    1. Pe care continent se bea mai multa bere, in medie?\n",
    "    1. Pentru fiecare continent sa se afiseze statisticile pentru consumul de vin.\n",
    "    1. Sa se tipareasca min, max, media pentru consumul de bere pe fiecare continent. Folositi functia `agg`."
   ]
  },
  {
   "cell_type": "markdown",
   "metadata": {},
   "source": [
    "**Precizari**:\n",
    "* Predarea se va face in saptamana 25-29 martie 2019.\n",
    "* Temele se pot lucra in echipa se se depun in acest caz in repository-urile github create pentru prima tema.\n",
    "* Punctajul problemelor va fi precizat in decursul acestei saptamanini, urmariti documentul."
   ]
  },
  {
   "cell_type": "code",
   "execution_count": null,
   "metadata": {},
   "outputs": [],
   "source": []
  }
 ],
 "metadata": {
  "kernelspec": {
   "display_name": "Python 3",
   "language": "python",
   "name": "python3"
  },
  "language_info": {
   "codemirror_mode": {
    "name": "ipython",
    "version": 3
   },
   "file_extension": ".py",
   "mimetype": "text/x-python",
   "name": "python",
   "nbconvert_exporter": "python",
   "pygments_lexer": "ipython3",
   "version": "3.7.2"
  }
 },
 "nbformat": 4,
 "nbformat_minor": 2
}
