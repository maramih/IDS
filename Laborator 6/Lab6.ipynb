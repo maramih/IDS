{
 "cells": [
  {
   "cell_type": "code",
   "execution_count": 3,
   "metadata": {},
   "outputs": [],
   "source": [
    "import pandas as pd\n",
    "import numpy as np\n",
    "from sklearn.model_selection import train_test_split,cross_val_score,KFold\n",
    "from sklearn.neighbors import KNeighborsClassifier\n",
    "from sklearn import metrics\n",
    "from sklearn.metrics import accuracy_score, f1_score\n",
    "from sklearn.neural_network import MLPClassifier\n",
    "from sklearn import svm\n",
    "from sklearn import tree\n",
    "from sklearn.ensemble import RandomForestClassifier\n",
    "from sklearn.model_selection import GridSearchCV\n",
    "from sklearn.neighbors import KNeighborsClassifier\n",
    "import warnings\n",
    "warnings.filterwarnings('ignore')\n",
    "from sklearn.model_selection import RandomizedSearchCV"
   ]
  },
  {
   "cell_type": "code",
   "execution_count": 15,
   "metadata": {},
   "outputs": [],
   "source": [
    "cvk=KFold(n_splits=5)\n",
    "def read(cale):\n",
    "    file = pd.read_csv(cale)\n",
    "    df=file.values\n",
    "    X=df[:,:-1]\n",
    "    y=df[:,-1:].ravel()\n",
    "    X_trainval, X_test, y_trainval, y_test = train_test_split(X, y, test_size=1/3,shuffle=True,random_state=1)\n",
    "    return X_trainval, X_test, y_trainval, y_test"
   ]
  },
  {
   "cell_type": "code",
   "execution_count": 42,
   "metadata": {},
   "outputs": [],
   "source": [
    "def mlp_classifier(X_trainval, X_test, y_trainval, y_test):\n",
    "    nn=MLPClassifier()\n",
    "    nn.fit(X_trainval,y_trainval)\n",
    "    pred=nn.predict(X_test)\n",
    "    \n",
    "    print(\"Accuracy:\",accuracy_score(y_test,pred),\"\\nF1_score:\",f1_score(y_test,pred, average='macro'))\n",
    "    \n",
    "    print(\"cvs train\")\n",
    "    scores = cross_val_score(nn, X_trainval, y_trainval, cv=cvk, scoring=\"accuracy\")\n",
    "    print(scores)\n",
    "    print(scores.mean())\n",
    "    \n",
    "    print(\"cvs test\")\n",
    "    scores_test = cross_val_score(nn, X_test, y_test, cv=cvk, scoring=\"accuracy\")\n",
    "    print(scores_test)\n",
    "    print(scores_test.mean())\n",
    "    \n",
    "    print(\"Grid Search\")\n",
    "    parameters = {'solver': ['lbfgs'], \n",
    "              'max_iter': [400, 500], \n",
    "              'alpha': [0.01, 0.0001, 1.0]\n",
    "             }\n",
    "    model = GridSearchCV(MLPClassifier(), param_grid=parameters, n_jobs = -1, cv=5, iid=False)\n",
    "    model.fit(X_trainval, y_trainval)\n",
    "    print(\"MLP best score: \", model.best_score_)\n",
    "    print(\"MLP best parameters: \", model.best_params_)\n",
    "    \n",
    "    print(\"Random Search\")\n",
    "    parameters = {'solver': ['lbfgs'], \n",
    "              'max_iter': [400, 500], \n",
    "              'alpha': [0.01, 0.0001, 1.0]\n",
    "             }\n",
    "    model = RandomizedSearchCV(MLPClassifier(), param_distributions = parameters, cv=5)\n",
    "    model.fit(X_trainval, y_trainval)\n",
    "    \n",
    "    print(\"MLP best score: \", model.best_score_)\n",
    "    print(\"MLP best parameters: \", model.best_params_)\n",
    "    \n",
    "    \"\"\"scores = cross_val_score(nn, X_trainval, y_trainval, cv=cvk, scoring=\"f1\")\n",
    "    print(scores)\n",
    "    print(scores.mean())\n",
    "    scores_test = cross_val_score(nn, X_test, y_test, cv=cvk, scoring=\"f1\")\n",
    "    print(scores_test)\n",
    "    print(scores_test.mean())\"\"\""
   ]
  },
  {
   "cell_type": "code",
   "execution_count": 50,
   "metadata": {},
   "outputs": [],
   "source": [
    "def support_vector_machines(X_trainval, X_test, y_trainval, y_test):\n",
    "    clf = svm.SVC(gamma='scale')\n",
    "    clf.fit(X_trainval,y_trainval)\n",
    "    pred2=clf.predict(X_test)\n",
    "    print(\"Accuracy:\",accuracy_score(y_test,pred2),\"\\nF1_score:\",f1_score(y_test,pred2,average='macro'))\n",
    "    \n",
    "    print(\"cvs train\")\n",
    "    scores = cross_val_score(clf, X_trainval, y_trainval, cv=cvk, scoring=\"accuracy\")\n",
    "    print(scores)\n",
    "    print(scores.mean())\n",
    "    print(\"cvs test\")\n",
    "    scores_test = cross_val_score(clf, X_test, y_test, cv=cvk, scoring=\"accuracy\")\n",
    "    print(scores_test)\n",
    "    print(scores_test.mean())\n",
    "    \n",
    "    print(\"Grid Search\")\n",
    "    parameters = {\n",
    "            'C':[1,5, 10],\n",
    "            'cache_size':[200, 1000],\n",
    "            'max_iter':[100, 500, 1000]\n",
    "    }\n",
    "    model = GridSearchCV(svm.SVC(gamma='scale'), param_grid=parameters, n_jobs=-1, cv=5, iid=False)\n",
    "    model.fit(X_trainval, y_trainval)\n",
    "    print(\"SVC best score: \", model.best_score_)\n",
    "    print(\"SVC best parameters\",model.best_params_)\n",
    "    \n",
    "    print(\"Random search\")\n",
    "    parameters = {\n",
    "            'C':[1,5, 10],\n",
    "            'cache_size':[200, 1000],\n",
    "            'max_iter':[100, 500, 1000]\n",
    "    }\n",
    "    model = RandomizedSearchCV(svm.SVC(gamma='scale'), param_distributions=parameters, cv=5)\n",
    "    model.fit(X_trainval, y_trainval)\n",
    "    print(\"SVC best score: \", model.best_score_)\n",
    "    print(\"SVC best parameters\",model.best_params_)\n",
    "    \n",
    "    '''scores = cross_val_score(clf, X_trainval, y_trainval, cv=cvk, scoring=\"f1\")\n",
    "    print(scores)\n",
    "    print(scores.mean())\n",
    "    scores_test = cross_val_score(clf, X_test, y_test, cv=cvk, scoring=\"f1\")\n",
    "    print(scores_test)\n",
    "    print(scores_test.mean())'''"
   ]
  },
  {
   "cell_type": "code",
   "execution_count": 60,
   "metadata": {},
   "outputs": [],
   "source": [
    "def decision_tree(X_trainval, X_test, y_trainval, y_test):\n",
    "    dtc = tree.DecisionTreeClassifier()\n",
    "    dtc.fit(X_trainval,y_trainval)\n",
    "    pred3=dtc.predict(X_test)\n",
    "    print(\"Accuracy:\",accuracy_score(y_test,pred3),\"\\nF1_score:\",f1_score(y_test,pred3,average='macro'))\n",
    "    \n",
    "    print(\"cvs train\")\n",
    "    scores = cross_val_score(dtc, X_trainval, y_trainval, cv=cvk, scoring=\"accuracy\")\n",
    "    print(scores)\n",
    "    print(scores.mean())\n",
    "    print(\"cvs test\")\n",
    "    scores_test = cross_val_score(dtc, X_test, y_test, cv=cvk, scoring=\"accuracy\")\n",
    "    print(scores_test)\n",
    "    print(scores_test.mean())\n",
    "    \n",
    "    ''' scores = cross_val_score(dtc, X_trainval, y_trainval, cv=cvk, scoring=\"f1\")\n",
    "    print(scores)\n",
    "    print(scores.mean())\n",
    "    scores_test = cross_val_score(dtc, X_test, y_test, cv=cvk, scoring=\"f1\")\n",
    "    print(scores_test)\n",
    "    print(scores_test.mean())'''\n",
    "    \n",
    "    print(\"Grid Search\")\n",
    "    parameters = {\n",
    "        'min_samples_split':[2,5,8, 10],\n",
    "        'splitter':['best', 'random'],\n",
    "        'max_depth':[1, 10, 20, 30]\n",
    "    }\n",
    "    model = GridSearchCV(dtc, param_grid=parameters, n_jobs=-1, cv=5, iid=False)\n",
    "    model.fit(X_trainval, y_trainval)\n",
    "    print(\"Decision tree best score: \" ,model.best_score_)\n",
    "    print(\"Decision tree best parameters: \", model.best_params_)\n",
    "    \n",
    "    print(\"Random search\")\n",
    "    parameters = {\n",
    "            'min_samples_split':[2,5,8, 10],\n",
    "            'splitter':['best', 'random'],\n",
    "            'max_depth':[1, 10, 20, 30]\n",
    "    }\n",
    "    model = RandomizedSearchCV(dtc, param_distributions=parameters, cv=5)\n",
    "    model.fit(X_trainval, y_trainval)\n",
    "    print(\"Decision tree best score: \" ,model.best_score_)\n",
    "    print(\"Decision tree best parameters: \", model.best_params_)"
   ]
  },
  {
   "cell_type": "code",
   "execution_count": 76,
   "metadata": {},
   "outputs": [],
   "source": [
    "def random_forest_classifier(X_trainval, X_test, y_trainval, y_test):\n",
    "    rfc = RandomForestClassifier(n_estimators=100)\n",
    "    rfc = rfc.fit(X_trainval, y_trainval)\n",
    "    pred_rfc=rfc.predict(X_test)\n",
    "    print(\"Accuracy:\",accuracy_score(y_test,pred_rfc),\"\\nF1_score:\",f1_score(y_test,pred_rfc,average='macro'))\n",
    "    \n",
    "    print(\"cvs train\")\n",
    "    scores = cross_val_score(rfc, X_trainval, y_trainval, cv=cvk, scoring=\"accuracy\")\n",
    "    print(scores)\n",
    "    print(scores.mean())\n",
    "    print(\"cvs test\")\n",
    "    scores_test = cross_val_score(rfc, X_test, y_test, cv=cvk, scoring=\"accuracy\")\n",
    "    print(scores_test)\n",
    "    print(scores_test.mean())\n",
    "    \n",
    "    print(\"Grid search\")\n",
    "    parameters = {\n",
    "    'n_estimators'      : [320,330,340],\n",
    "    'max_depth'         : [8, 9, 10, 11, 12],\n",
    "    'random_state'      : [0]\n",
    "    }\n",
    "    model = GridSearchCV(rfc, param_grid=parameters, n_jobs=-1, cv=5, iid=False)\n",
    "    model.fit(X_trainval, y_trainval)\n",
    "    print(\"Random Forest score: \" ,model.best_score_)\n",
    "    print(\"Random Forest best parameters: \", model.best_params_)\n",
    "    \n",
    "    print(\"Random search\")\n",
    "    parameters = {\n",
    "    'n_estimators'      : [320,330,340],\n",
    "    'max_depth'         : [8, 9, 10, 11, 12],\n",
    "    'random_state'      : [0]\n",
    "    }\n",
    "    model = RandomizedSearchCV(rfc,param_distributions=parameters, cv=5)\n",
    "    model.fit(X_trainval, y_trainval)\n",
    "    print(\"Random Forest score: \" ,model.best_score_)\n",
    "    print(\"Random Forest best parameters: \", model.best_params_)\n",
    "\n",
    "    \n",
    "    ''' scores = cross_val_score(rfc, X_trainval, y_trainval, cv=cvk, scoring=\"f1\")\n",
    "    print(scores)\n",
    "    print(scores.mean())\n",
    "    scores_test = cross_val_score(rfc, X_test, y_test, cv=cvk, scoring=\"f1\")\n",
    "    print(scores_test)\n",
    "    print(scores_test.mean())'''"
   ]
  },
  {
   "cell_type": "code",
   "execution_count": 58,
   "metadata": {},
   "outputs": [],
   "source": [
    "def kneighbors_classifier(X_trainval, X_test, y_trainval, y_test):\n",
    "    neigh = KNeighborsClassifier(n_neighbors=5)\n",
    "    neigh.fit(X_trainval, y_trainval)\n",
    "    pred_neigh=neigh.predict(X_test)\n",
    "    print(\"Accuracy:\",accuracy_score(y_test,pred_neigh),\"\\nF1_score:\",f1_score(y_test,pred_neigh,average='macro'))\n",
    "    \n",
    "    print(\"cvs train:\")\n",
    "    scores = cross_val_score(neigh, X_trainval, y_trainval, cv=cvk, scoring=\"accuracy\")\n",
    "    print(scores)\n",
    "    print(scores.mean())\n",
    "    print(\"cvs test:\")\n",
    "    scores_test = cross_val_score(neigh, X_test, y_test, cv=cvk, scoring=\"accuracy\")\n",
    "    print(scores_test)\n",
    "    print(scores_test.mean())\n",
    "    \n",
    "    print(\"Grid Search\")\n",
    "    parameters = {'n_neighbors':[4,5,7],\n",
    "              'leaf_size':[1,3,5],\n",
    "              'algorithm':['auto', 'kd_tree']\n",
    "             }\n",
    "\n",
    "    model = GridSearchCV(KNeighborsClassifier(), param_grid=parameters, cv=5, n_jobs= -1, iid=False)\n",
    "    model.fit(X_trainval, y_trainval)\n",
    "    print(\"KNN best score: \", model.best_score_)\n",
    "    print(\"KNN best parameters: \", model.best_params_)\n",
    "    \n",
    "    print(\"Random Search\")\n",
    "    parameters = {'n_neighbors':[4,5,7],\n",
    "              'leaf_size':[1,3,5],\n",
    "              'algorithm':['auto', 'kd_tree']\n",
    "             }\n",
    "\n",
    "    model = RandomizedSearchCV(KNeighborsClassifier(), param_distributions = parameters, cv=5)\n",
    "    model.fit(X_trainval, y_trainval)\n",
    "    print(\"KNN best score: \", model.best_score_)\n",
    "    print(\"KNN best parameters: \", model.best_params_)\n",
    "    \n",
    "    '''  scores = cross_val_score(neigh, X_trainval, y_trainval, cv=cvk, scoring=\"f1\")\n",
    "    print(scores)\n",
    "    print(scores.mean())\n",
    "    scores_test = cross_val_score(neigh, X_test, y_test, cv=cvk, scoring=\"f1\")\n",
    "    print(scores_test)\n",
    "    print(scores_test.mean())'''"
   ]
  },
  {
   "cell_type": "markdown",
   "metadata": {},
   "source": [
    "Spambase"
   ]
  },
  {
   "cell_type": "code",
   "execution_count": 32,
   "metadata": {},
   "outputs": [],
   "source": [
    "X_trainval, X_test, y_trainval, y_test = read('spambase.data')"
   ]
  },
  {
   "cell_type": "code",
   "execution_count": 35,
   "metadata": {},
   "outputs": [
    {
     "name": "stdout",
     "output_type": "stream",
     "text": [
      "Accuracy: 0.9380704041720991 \n",
      "F1_score: 0.9356585385883202\n",
      "cvs train\n",
      "[0.93322476 0.92659054 0.87438825 0.89396411 0.94453507]\n",
      "0.9145405465723654\n",
      "cvs test\n",
      "[0.93811075 0.91856678 0.90553746 0.92508143 0.91176471]\n",
      "0.9198122245640927\n",
      "Grid Search\n",
      "MLP best score:  0.9129186093547081\n",
      "MLP best parameters:  {'alpha': 0.0001, 'max_iter': 500, 'solver': 'lbfgs'}\n",
      "Random Search\n",
      "MLP best score:  0.9099804305283757\n",
      "MLP best parameters:  {'solver': 'lbfgs', 'max_iter': 500, 'alpha': 0.0001}\n"
     ]
    }
   ],
   "source": [
    "mlp_classifier(X_trainval, X_test, y_trainval, y_test)"
   ]
  },
  {
   "cell_type": "code",
   "execution_count": 49,
   "metadata": {},
   "outputs": [
    {
     "name": "stdout",
     "output_type": "stream",
     "text": [
      "Accuracy: 0.7698826597131682 \n",
      "F1_score: 0.7513302519522684\n",
      "[0.75407166 0.75856444 0.76998369 0.76998369 0.75693312]\n",
      "0.7619073175656647\n",
      "[0.76547231 0.77850163 0.71661238 0.73615635 0.66993464]\n",
      "0.7333354623065296\n",
      "Grid Search\n",
      "SVC best score:  0.8545442932873476\n",
      "SVC best parameters {'C': 10, 'cache_size': 200, 'max_iter': 1000}\n",
      "Random search\n",
      "SVC best score:  0.8545335942596216\n",
      "SVC best parameters {'max_iter': 1000, 'cache_size': 1000, 'C': 10}\n"
     ]
    }
   ],
   "source": [
    "support_vector_machines(X_trainval, X_test, y_trainval, y_test)"
   ]
  },
  {
   "cell_type": "code",
   "execution_count": 61,
   "metadata": {},
   "outputs": [
    {
     "name": "stdout",
     "output_type": "stream",
     "text": [
      "Accuracy: 0.9256844850065189 \n",
      "F1_score: 0.9225627155390004\n",
      "cvs train\n",
      "[0.90228013 0.92006525 0.89233279 0.89885808 0.91517129]\n",
      "0.9057415072984363\n",
      "cvs test\n",
      "[0.88925081 0.89250814 0.87947883 0.8990228  0.89869281]\n",
      "0.8917906793553468\n",
      "Grid Search\n",
      "Decision tree best score:  0.9148740712354432\n",
      "Decision tree best parameters:  {'max_depth': 10, 'min_samples_split': 2, 'splitter': 'best'}\n",
      "Random search\n",
      "Decision tree best score:  0.910958904109589\n",
      "Decision tree best parameters:  {'splitter': 'best', 'min_samples_split': 2, 'max_depth': 20}\n"
     ]
    }
   ],
   "source": [
    "decision_tree(X_trainval, X_test, y_trainval, y_test)"
   ]
  },
  {
   "cell_type": "code",
   "execution_count": 77,
   "metadata": {},
   "outputs": [
    {
     "name": "stdout",
     "output_type": "stream",
     "text": [
      "Accuracy: 0.9550195567144719 \n",
      "F1_score: 0.9528507760872906\n",
      "cvs train\n",
      "[0.94299674 0.94616639 0.93964111 0.95758564 0.95758564]\n",
      "0.9487951070986392\n",
      "cvs test\n",
      "[0.93811075 0.95114007 0.91205212 0.95114007 0.94444444]\n",
      "0.9393774882374231\n",
      "Grid search\n",
      "Random Forest score:  0.9442336760980179\n",
      "Random Forest best parameters:  {'max_depth': 12, 'n_estimators': 340, 'random_state': 0}\n",
      "Random search\n",
      "Random Forest score:  0.9442270058708415\n",
      "Random Forest best parameters:  {'random_state': 0, 'n_estimators': 340, 'max_depth': 12}\n"
     ]
    }
   ],
   "source": [
    "random_forest_classifier(X_trainval, X_test, y_trainval, y_test)"
   ]
  },
  {
   "cell_type": "code",
   "execution_count": 63,
   "metadata": {},
   "outputs": [
    {
     "name": "stdout",
     "output_type": "stream",
     "text": [
      "Accuracy: 0.8089960886571056 \n",
      "F1_score: 0.7995501873773284\n",
      "cvs train:\n",
      "[0.78664495 0.7634584  0.78466558 0.79445351 0.78466558]\n",
      "0.7827776036048482\n",
      "cvs test:\n",
      "[0.7752443  0.73941368 0.79478827 0.80456026 0.74836601]\n",
      "0.7724745055459752\n",
      "Grid Search\n",
      "KNN best score:  0.7834397819931447\n",
      "KNN best parameters:  {'algorithm': 'auto', 'leaf_size': 1, 'n_neighbors': 5}\n",
      "Random Search\n",
      "KNN best score:  0.7834311806914547\n",
      "KNN best parameters:  {'n_neighbors': 5, 'leaf_size': 3, 'algorithm': 'auto'}\n"
     ]
    }
   ],
   "source": [
    "kneighbors_classifier(X_trainval, X_test, y_trainval, y_test)"
   ]
  },
  {
   "cell_type": "markdown",
   "metadata": {},
   "source": [
    "Handwriting"
   ]
  },
  {
   "cell_type": "code",
   "execution_count": 78,
   "metadata": {},
   "outputs": [],
   "source": [
    "data=pd.read_csv(\"semeion.data\", sep=\" \")\n",
    "y_set = data.iloc[:, 256:266].values\n",
    "x_set = data.iloc[:, :256].values\n",
    "y_set = np.array([np.argmax(y_set[x]) for x in range(0,y_set.shape[0])])\n",
    "X_train, X_test1, y_train, y_test1 = train_test_split(x_set, y_set, test_size=1/3,shuffle=True,random_state=1)"
   ]
  },
  {
   "cell_type": "code",
   "execution_count": 65,
   "metadata": {},
   "outputs": [
    {
     "name": "stdout",
     "output_type": "stream",
     "text": [
      "Accuracy: 0.9152542372881356 \n",
      "F1_score: 0.9161710399602336\n",
      "cvs train\n",
      "[0.9342723  0.91981132 0.90566038 0.89150943 0.94339623]\n",
      "0.9189299317920099\n",
      "cvs test\n",
      "[0.90654206 0.90566038 0.87735849 0.88679245 0.91509434]\n",
      "0.898289543290425\n",
      "Grid Search\n",
      "MLP best score:  0.9283172014700204\n",
      "MLP best parameters:  {'alpha': 1.0, 'max_iter': 400, 'solver': 'lbfgs'}\n",
      "Random Search\n",
      "MLP best score:  0.9255419415645617\n",
      "MLP best parameters:  {'solver': 'lbfgs', 'max_iter': 400, 'alpha': 1.0}\n"
     ]
    }
   ],
   "source": [
    "mlp_classifier(X_train, X_test1, y_train, y_test1)"
   ]
  },
  {
   "cell_type": "code",
   "execution_count": 66,
   "metadata": {},
   "outputs": [
    {
     "name": "stdout",
     "output_type": "stream",
     "text": [
      "Accuracy: 0.9378531073446328 \n",
      "F1_score: 0.9393595225732776\n",
      "cvs train\n",
      "[0.94835681 0.93396226 0.93867925 0.91509434 0.91981132]\n",
      "0.9311807954646115\n",
      "cvs test\n",
      "[0.85981308 0.93396226 0.90566038 0.89622642 0.85849057]\n",
      "0.8908305413507318\n",
      "Grid Search\n",
      "SVC best score:  0.9404719375699786\n",
      "SVC best parameters {'C': 10, 'cache_size': 200, 'max_iter': 100}\n",
      "Random search\n",
      "SVC best score:  0.94062205466541\n",
      "SVC best parameters {'max_iter': 500, 'cache_size': 1000, 'C': 10}\n"
     ]
    }
   ],
   "source": [
    "support_vector_machines(X_train, X_test1, y_train, y_test1)"
   ]
  },
  {
   "cell_type": "code",
   "execution_count": 67,
   "metadata": {},
   "outputs": [
    {
     "name": "stdout",
     "output_type": "stream",
     "text": [
      "Accuracy: 0.7382297551789078 \n",
      "F1_score: 0.7336210936393488\n",
      "cvs train\n",
      "[0.70892019 0.73113208 0.69339623 0.70283019 0.72641509]\n",
      "0.7125387545398174\n",
      "cvs test\n",
      "[0.64485981 0.69811321 0.6509434  0.67924528 0.6509434 ]\n",
      "0.6648210192205959\n",
      "Grid Search\n",
      "Decision tree best score:  0.7285142205081354\n",
      "Decision tree best parameters:  {'max_depth': 10, 'min_samples_split': 2, 'splitter': 'random'}\n",
      "Random search\n",
      "Decision tree best score:  0.7238454288407163\n",
      "Decision tree best parameters:  {'splitter': 'random', 'min_samples_split': 5, 'max_depth': 10}\n"
     ]
    }
   ],
   "source": [
    "decision_tree(X_train, X_test1, y_train, y_test1)"
   ]
  },
  {
   "cell_type": "code",
   "execution_count": 79,
   "metadata": {},
   "outputs": [
    {
     "name": "stdout",
     "output_type": "stream",
     "text": [
      "Accuracy: 0.9322033898305084 \n",
      "F1_score: 0.9338893996055025\n",
      "cvs train\n",
      "[0.92488263 0.92924528 0.9245283  0.9245283  0.91509434]\n",
      "0.9236557711046152\n",
      "cvs test\n",
      "[0.87850467 0.91509434 0.89622642 0.90566038 0.83018868]\n",
      "0.8851348968435901\n",
      "Grid search\n",
      "Random Forest score:  0.9321609106280224\n",
      "Random Forest best parameters:  {'max_depth': 12, 'n_estimators': 320, 'random_state': 0}\n",
      "Random search\n",
      "Random Forest score:  0.9321394910461829\n",
      "Random Forest best parameters:  {'random_state': 0, 'n_estimators': 320, 'max_depth': 12}\n"
     ]
    }
   ],
   "source": [
    "random_forest_classifier(X_train, X_test1, y_train, y_test1)"
   ]
  },
  {
   "cell_type": "code",
   "execution_count": 69,
   "metadata": {},
   "outputs": [
    {
     "name": "stdout",
     "output_type": "stream",
     "text": [
      "Accuracy: 0.8907721280602636 \n",
      "F1_score: 0.8908926869848213\n",
      "cvs train:\n",
      "[0.88262911 0.88679245 0.88207547 0.88207547 0.91509434]\n",
      "0.8897333687660554\n",
      "cvs test:\n",
      "[0.81308411 0.89622642 0.83018868 0.83018868 0.80188679]\n",
      "0.8343149356374537\n",
      "Grid Search\n",
      "KNN best score:  0.8926695531857464\n",
      "KNN best parameters:  {'algorithm': 'auto', 'leaf_size': 1, 'n_neighbors': 5}\n",
      "Random Search\n",
      "KNN best score:  0.8925541941564562\n",
      "KNN best parameters:  {'n_neighbors': 5, 'leaf_size': 1, 'algorithm': 'auto'}\n"
     ]
    }
   ],
   "source": [
    "kneighbors_classifier(X_train, X_test1, y_train, y_test1)"
   ]
  },
  {
   "cell_type": "markdown",
   "metadata": {},
   "source": [
    "Smartphone"
   ]
  },
  {
   "cell_type": "code",
   "execution_count": 80,
   "metadata": {},
   "outputs": [],
   "source": [
    "x_train_smartphone = pd.read_csv('final_X_train.txt', header = None)\n",
    "x_test_smartphone = pd.read_csv('final_X_test.txt', header = None)\n",
    "y_train_smartphone = pd.read_csv('final_y_train.txt', header = None)\n",
    "y_test_smartphone = pd.read_csv('final_y_test.txt', header = None)\n",
    "\n",
    "y_train_smartphone = np.ravel(y_train_smartphone)\n",
    "y_test_smartphone = np.ravel(y_test_smartphone)\n"
   ]
  },
  {
   "cell_type": "code",
   "execution_count": null,
   "metadata": {},
   "outputs": [],
   "source": [
    "mlp_classifier(x_train_smartphone, x_test_smartphone, y_train_smartphone, y_test_smartphone)"
   ]
  },
  {
   "cell_type": "code",
   "execution_count": null,
   "metadata": {},
   "outputs": [],
   "source": [
    "support_vector_machines(x_train_smartphone, x_test_smartphone, y_train_smartphone, y_test_smartphone)"
   ]
  },
  {
   "cell_type": "code",
   "execution_count": null,
   "metadata": {},
   "outputs": [],
   "source": [
    "decision_tree(x_train_smartphone, x_test_smartphone, y_train_smartphone, y_test_smartphone)"
   ]
  },
  {
   "cell_type": "code",
   "execution_count": null,
   "metadata": {},
   "outputs": [],
   "source": [
    "random_forest_classifier(x_train_smartphone, x_test_smartphone, y_train_smartphone, y_test_smartphone)"
   ]
  },
  {
   "cell_type": "code",
   "execution_count": null,
   "metadata": {},
   "outputs": [],
   "source": [
    "kneighbors_classifier(x_train_smartphone, x_test_smartphone, y_train_smartphone, y_test_smartphone)"
   ]
  },
  {
   "cell_type": "markdown",
   "metadata": {},
   "source": [
    "WIRELESS"
   ]
  },
  {
   "cell_type": "code",
   "execution_count": 7,
   "metadata": {},
   "outputs": [],
   "source": [
    "data_set = pd.read_csv('wifi_localization.txt', delimiter = '\\t', header = None)\n",
    "data_set=data_set.values\n",
    "X=data_set[:,:-1]\n",
    "y=data_set[:,-1:].ravel()\n",
    "X_trainval, X_test, y_trainval, y_test = train_test_split(X, y, test_size=1/3,shuffle=True,random_state=1)"
   ]
  },
  {
   "cell_type": "code",
   "execution_count": 17,
   "metadata": {},
   "outputs": [
    {
     "name": "stdout",
     "output_type": "stream",
     "text": [
      "Accuracy: 0.974512743628186 \n",
      "F1_score: 0.974490236855597\n",
      "[0.97752809 0.98876404 0.95505618 0.98120301 0.9887218 ]\n",
      "0.9782546253273633\n",
      "[0.97014925 0.96268657 0.98496241 0.97744361 0.96992481]\n",
      "0.9730333295926383\n"
     ]
    }
   ],
   "source": [
    "mlp_classifier(X_trainval, X_test, y_trainval, y_test)"
   ]
  },
  {
   "cell_type": "code",
   "execution_count": null,
   "metadata": {},
   "outputs": [],
   "source": [
    "support_vector_machines(X_trainval, X_test, y_trainval, y_test)"
   ]
  },
  {
   "cell_type": "code",
   "execution_count": null,
   "metadata": {},
   "outputs": [],
   "source": [
    "random_forest_classifier(X_trainval, X_test, y_trainval, y_test)"
   ]
  },
  {
   "cell_type": "code",
   "execution_count": null,
   "metadata": {},
   "outputs": [],
   "source": [
    "decision_tree(X_trainval, X_test, y_trainval, y_test)"
   ]
  },
  {
   "cell_type": "code",
   "execution_count": null,
   "metadata": {},
   "outputs": [],
   "source": [
    "kneighbors_classifier(X_trainval, X_test, y_trainval, y_test)"
   ]
  },
  {
   "cell_type": "markdown",
   "metadata": {},
   "source": [
    "WINE"
   ]
  },
  {
   "cell_type": "code",
   "execution_count": 16,
   "metadata": {},
   "outputs": [],
   "source": [
    "wine = pd.read_csv(\"winequality-white.csv\", delimiter=\";\")\n",
    "wine.head()\n",
    "y_set = wine.iloc[:, 11:]\n",
    "x_set = wine.iloc[:, :11]\n",
    "X_train_wine, X_test_wine, y_train_wine, y_test_wine = train_test_split(x_set, y_set, test_size = 1/3)\n",
    "\n",
    "y_train_wine = np.ravel(y_train_wine)\n",
    "y_test_wine = np.ravel(y_test_wine)"
   ]
  },
  {
   "cell_type": "code",
   "execution_count": null,
   "metadata": {},
   "outputs": [],
   "source": [
    "mlp_classifier(X_train_wine, X_test_wine, y_train_wine, y_test_wine)"
   ]
  },
  {
   "cell_type": "code",
   "execution_count": null,
   "metadata": {},
   "outputs": [],
   "source": [
    "support_vector_machines(X_train_wine, X_test_wine, y_train_wine, y_test_wine)"
   ]
  },
  {
   "cell_type": "code",
   "execution_count": null,
   "metadata": {},
   "outputs": [],
   "source": [
    "random_forest_classifier(X_train_wine, X_test_wine, y_train_wine, y_test_wine)"
   ]
  },
  {
   "cell_type": "code",
   "execution_count": null,
   "metadata": {},
   "outputs": [],
   "source": [
    "decision_tree(X_train_wine, X_test_wine, y_train_wine, y_test_wine)"
   ]
  },
  {
   "cell_type": "code",
   "execution_count": null,
   "metadata": {},
   "outputs": [],
   "source": [
    "kneighbors_classifier(X_train_wine, X_test_wine, y_train_wine, y_test_wine)"
   ]
  }
 ],
 "metadata": {
  "kernelspec": {
   "display_name": "Python 3",
   "language": "python",
   "name": "python3"
  },
  "language_info": {
   "codemirror_mode": {
    "name": "ipython",
    "version": 3
   },
   "file_extension": ".py",
   "mimetype": "text/x-python",
   "name": "python",
   "nbconvert_exporter": "python",
   "pygments_lexer": "ipython3",
   "version": "3.7.1"
  }
 },
 "nbformat": 4,
 "nbformat_minor": 2
}
