{
 "cells": [
  {
   "cell_type": "markdown",
   "metadata": {},
   "source": [
    "# Laborator 2\n",
    "\n",
    "Saptamana 4-8 martie, 2019"
   ]
  },
  {
   "cell_type": "markdown",
   "metadata": {},
   "source": [
    "## Exercitii `ipywidgets`:\n",
    "\n",
    "\n",
    "1. Generati o lista de 20 de perechi de valori $\\{x_i, y_i\\}_{i=0,19}$ in intervalul [0, 1], afisati aceste valori pe un grafic, impreuna cu o dreapta definita de o functie liniara $y=a*x+b$. Intr-un alt plot afisati, ca histograma, distanta dintre un punct de coordonate $(x_i, y_i)$ si punctul de intersectie a verticalei duse prin $x_i$ cu dreapta data. Dreapta trebuie sa fie controlabila din widgets, prin cei doi coeficienti. Constatati modificarea histogramei in functie de pozitia dreptei si calculati suma: $\\sum_{i=0}^{19} (y_i - (a\\cdot x_i + b))^2$, adica suma patratelor lungimilor segmentelor verzi de mai jos.\n",
    "![linear regression](./images/linreg.png)\n",
    "*Indicatii:*\n",
    "    1. Pentru generare de valori distribuite uniform in intervalul [0, 1] puteti folosi functia [numy.random.uniform](https://docs.scipy.org/doc/numpy/reference/generated/numpy.random.uniform.html)\n",
    "    1. Puteti opta sa returnati cele 20 de puncte sub forma `vector_x`, `vector_y`.\n",
    "    \n",
    "1. (Optional) Incarcati fisierul `yacht_hydrodynamics.csv` (adaptare dupa [Carbon Nanotubes Data Set](http://archive.ics.uci.edu/ml/datasets/Carbon+Nanotubes)). In functie de alegerile exprimate de un utilizator, afisati intr-un grafic 2D coloanele numerice alese (de exemplu, coloana 0 si coloana 2).\n",
    "*Indicatii/optiuni*:\n",
    "    1. Incarcarea de date se poate face cu numpy, functia [loadtxt](https://docs.scipy.org/doc/numpy/reference/generated/numpy.loadtxt.html). Specificati faptul ca se sare peste prima linie din fisier (header). Alternativ, puteti folosi [pandas.read_csv](https://pandas.pydata.org/pandas-docs/stable/reference/api/pandas.read_csv.html).\n",
    "    1. Numarul de coloane din setul de date se poate afla cu `data.shape[1]`.\n",
    "    1. Pentru cele doua alegeri puteti sa instantiati doua obiecte [Dropdown](https://ipywidgets.readthedocs.io/en/stable/examples/Widget%20List.html#Dropdown) sau [Select](https://ipywidgets.readthedocs.io/en/stable/examples/Widget%20List.html#Select).\n",
    "    1. Daca in variabila `data` sunt datele incarcate, selectarea coloanei `i` se face cu `data[:, i]`.\n"
   ]
  },
  {
   "cell_type": "code",
   "execution_count": 1,
   "metadata": {},
   "outputs": [
    {
     "data": {
      "application/vnd.jupyter.widget-view+json": {
       "model_id": "899dc34904f249db8bd358af4d7436b9",
       "version_major": 2,
       "version_minor": 0
      },
      "text/plain": [
       "interactive(children=(Dropdown(description='op1', options=(0, 1, 2, 3, 4, 5, 6, 7, 8, 9, 10, 11), value=0), Se…"
      ]
     },
     "metadata": {},
     "output_type": "display_data"
    },
    {
     "data": {
      "text/plain": [
       "<function __main__.showColumn(op1=2, op2=3)>"
      ]
     },
     "execution_count": 1,
     "metadata": {},
     "output_type": "execute_result"
    }
   ],
   "source": [
    "import sys\n",
    "import pandas as pd\n",
    "import matplotlib.pyplot as plt\n",
    "import ipywidgets as wgt\n",
    "from ipywidgets import interact, interactive, fixed, interact_manual\n",
    "\n",
    "def showColumn(op1=2,op2=3):\n",
    "    file=pd.read_csv(\"winequality-white.csv\",header=1,delimiter=';',engine='python')\n",
    "    x=file.iloc[:,op1].values.tolist()\n",
    "    y=file.iloc[:,op2].values.tolist()\n",
    "    plt.figure(figsize=(20,10))\n",
    "    plt.scatter(x,y,c='y',marker='*')\n",
    "    print(file.shape[1])\n",
    "    \n",
    "columns=[x for x in range(0,12)]   \n",
    "    \n",
    "w1=wgt.Dropdown(options=columns)\n",
    "w2=wgt.Select(options=columns)\n",
    "#showColumn(0,2)\n",
    "#\n",
    "interact(showColumn,op1=w1,op2=w2)\n",
    "\n"
   ]
  },
  {
   "cell_type": "markdown",
   "metadata": {},
   "source": [
    "## Ciclari, siruri de caractere, colectii\n",
    "\n",
    "Se recomanda ca urmatoarele exercitii sa le lucrati in Jupyter notebook.\n",
    "\n",
    "1. (fizz-buzz test) Sa se scrie numerele de la 1 la n; pentru fiecare multiplu de 3 se va scrie in locul numarului 'Fizz', pentru multiplu al lui 5 se va scrie 'Buzz'; daca numarul este multiplu de 15 se va scrie in locul lui 'FizzBuzz'.\n",
    "1. Sa se verifice [conjectura Collatz](https://en.wikipedia.org/wiki/Collatz_conjecture) pentru numerele intre 1 si $n$. Reprezentati intr-un scatter plot numarul de pasi neceseri pentru stabilizare, precum [aici](https://en.wikipedia.org/wiki/Collatz_conjecture#/media/File:Collatz-stopping-time.svg). Numarul $n$ se da printr-un control ipywidgets.\n",
    "1. Sa se creeze o functie care preia un numar $n$ - via ipywidgets- si returneaza un alt numar pe baza cifrelor lui $n$, astfel: se calculeaza numarul cifrelor pare din $n$ (posibil sa fie si 0), numarul de cifre impare (poate fi si 0), suma lor si se formeaza numarul din acestea 3; daca exista vreun zero nesemnificativ, acesta se va ignora. Numarul obtinut se va supune aceleiasi transformari. Exemplu: 3->11->22->202->303->123->123->123... Verificati ca dupa un numar finit de transformari se ajunge la numarul 123; faceti aceste verificari pentru numerele din intevalul 1, $n$.\n",
    "1. Se pleaca de la un numar intreg $n$, citit prin ipywidgets. Fiecare cifra a sa se scrie cu litere, in limba engleza (de exemplu 5->five). Calculati numarul total de caractere rezultate, iar pentru numarul obtinut repetati procedura. Verificati pentru numerele de la 1 la n ca se obtine intr-un numar finit de pasi numarul 4. Exemplu: 123->onetwothree->11->oneone->6->six->3->three->5->five->4->four->4->four....\n",
    "1. Este comportamentul de mai sus valabil si pentru transcriere in limba romana, eventual pentru alt cuvant?\n",
    "1. Se pleaca de la un numar n; se scriu toti divizorii sai, inclusiv 1 si n; se aduna *cifrele* tuturor acestor divizori; pentru numarul obtinut se aplica acelasi procedeu. Verificati ca procesul se stabilizeaza in numarul 15. \n",
    "Exemplu: 20->1, 2, 4, 5, 10, 20 -> suma cifrelor: 15->1, 3, 5, 15-> suma cifrelor: 15...\n",
    "1. Pentru o lista de cuvinte (stringuri), sa se obtina un dictionar care are drept cheie cuvintele distincte din lista, iar valorile corespunzatoare sa fie numarul de aparitii ale fiecarui cuvant. \n",
    "1. Dandu-se o lista de tuple de maxim 4 elemente, sa se obtina o lista care contine valoarea maxima a fiecarui tuplu. Sa se verifice ca fiecare tuplu din lista are cel  mult 4 elemente."
   ]
  },
  {
   "cell_type": "markdown",
   "metadata": {
    "ExecuteTime": {
     "end_time": "2019-03-05T18:34:32.294814Z",
     "start_time": "2019-03-05T18:34:32.283406Z"
    }
   },
   "source": [
    "## Functii\n",
    "\n",
    "1. Pentru o lista de numere, sa se scrie o functie care returneaza suma elementelor si diferenta maxima dintre ele.\n",
    "1. Scrieti o functie care preia doua liste si returneaza `True` daca cele doua liste contin cel putin k elemente comune (k dat ca parametru, intreg >= 1, valoare implicita 1), `False` altfel.\n",
    "1. Sa se scrie o functie care determina daca o lista contine doar cuvinte. Functia trebuie sa testeze daca elementele din lista sunt stringuri; un string este cuvant daca nu contine: spatiu, virgula si alti separatori.\n",
    "1. Sa se scrie o functie care returneaza numarul de litere mici si mari - 2 rezultate - dintr-un parametru dat.\n",
    "1. Sa se scrie o functie care primind o lista de dictionare, returneaza `True` daca toate dictionarele sunt goale si `False` altfel.\n",
    "1. Sa se scrie o functie recursiva care sa faca ridicarea la putere a unui numar, astfel:\n",
    "$$\n",
    "a^n = \\begin{cases}\n",
    "a & \\text{daca }n=1\n",
    "\\\\\n",
    "\\left(a^{n//2}\\right)^2 & \\text{daca } n \\text{ e par}\n",
    "\\\\\n",
    "\\left(a^{n//2}\\right)^2 \\cdot a & \\text{daca } n \\text{ e impar}, n>1\n",
    "\\\\\n",
    "\\end{cases}\n",
    "$$\n",
    "unde prin $n//2$ se reprezinta catul impartirii intregi intre $n$ si 2."
   ]
  },
  {
   "cell_type": "code",
   "execution_count": 2,
   "metadata": {},
   "outputs": [
    {
     "data": {
      "application/vnd.jupyter.widget-view+json": {
       "model_id": "693b4b16087645f2a8ad65140717c7f8",
       "version_major": 2,
       "version_minor": 0
      },
      "text/plain": [
       "interactive(children=(IntSlider(value=25, description='n', min=1), Output()), _dom_classes=('widget-interact',…"
      ]
     },
     "metadata": {},
     "output_type": "display_data"
    },
    {
     "data": {
      "text/plain": [
       "<function __main__.fizzBuzz(n=25)>"
      ]
     },
     "execution_count": 2,
     "metadata": {},
     "output_type": "execute_result"
    }
   ],
   "source": [
    "###2.1\n",
    "import matplotlib.pyplot as plt\n",
    "import numpy as np\n",
    "import ipywidgets as widgets\n",
    "from ipywidgets import interact, interactive, fixed, interact_manual\n",
    "\n",
    "def fizzBuzz(n=25):\n",
    "    lista=[]\n",
    "    for i in range(n):\n",
    "        if i%15==0:\n",
    "            lista.append('FizzBuzz')\n",
    "        else:\n",
    "            if i%3==0:\n",
    "                lista.append('Fizz')\n",
    "            elif i%5==0:\n",
    "                lista.append('Buzz')\n",
    "            else:\n",
    "                lista.append(i)\n",
    "\n",
    "    print(lista)\n",
    "\n",
    "interact(fizzBuzz,n=(1,100))"
   ]
  },
  {
   "cell_type": "code",
   "execution_count": 3,
   "metadata": {},
   "outputs": [
    {
     "data": {
      "application/vnd.jupyter.widget-view+json": {
       "model_id": "5e0b215b39f74cd1a37fb33d7c4b41f0",
       "version_major": 2,
       "version_minor": 0
      },
      "text/plain": [
       "interactive(children=(IntSlider(value=2000, description='nr_of_checkings', max=6000, min=-2000), Output()), _d…"
      ]
     },
     "metadata": {},
     "output_type": "display_data"
    },
    {
     "data": {
      "text/plain": [
       "<function __main__.collatz(nr_of_checkings=2000)>"
      ]
     },
     "execution_count": 3,
     "metadata": {},
     "output_type": "execute_result"
    }
   ],
   "source": [
    "###2.2\n",
    "import ipywidgets as widgets\n",
    "from ipywidgets import interact, interactive, fixed, interact_manual\n",
    "def collatz(nr_of_checkings=2000):\n",
    "    y_contor=[]\n",
    "    plt.figure(figsize=(20,20))\n",
    "    for number in range(1,nr_of_checkings+1):\n",
    "        contor=0\n",
    "        #print(str(number)+\"=>\")\n",
    "        aux=number\n",
    "        while(number!=1):\n",
    "            if number%2==0:\n",
    "                number=number//2\n",
    "            else:\n",
    "                number=number*3+1\n",
    "            contor=contor+1\n",
    "        y_contor.insert(aux,contor)\n",
    "                \n",
    "            #print(str(number))\n",
    "    plt.scatter(range(1,nr_of_checkings+1),y_contor)\n",
    "    plt.show()\n",
    "interact(collatz,nr_ofcheckings=1000)\n"
   ]
  },
  {
   "cell_type": "code",
   "execution_count": 16,
   "metadata": {},
   "outputs": [
    {
     "data": {
      "application/vnd.jupyter.widget-view+json": {
       "model_id": "b6b04b1ee77f40bea9def9bb84324607",
       "version_major": 2,
       "version_minor": 0
      },
      "text/plain": [
       "interactive(children=(IntSlider(value=123, description='n', max=150), Output()), _dom_classes=('widget-interac…"
      ]
     },
     "metadata": {},
     "output_type": "display_data"
    },
    {
     "data": {
      "text/plain": [
       "<function __main__.nrToLetters(n=123)>"
      ]
     },
     "execution_count": 16,
     "metadata": {},
     "output_type": "execute_result"
    }
   ],
   "source": [
    "###2.4 &2.5\n",
    "def nrToLetters(n=123):\n",
    "    lista = ['zero', 'one', 'two', 'three', 'four', 'five', 'six', 'seven', 'eight', 'nine']\n",
    "    lista2=['zero','unu','doi','trei','patru','cinci','sase','sapte','opt','noua']\n",
    "    number = str(n)\n",
    "    while (number != '5'): # 4 pentru engleza\n",
    "        str1 = ''\n",
    "        for cifra in number:\n",
    "            str1 = str1 + lista2[int(cifra)]\n",
    "        number = str(len(str1))\n",
    "        print(str1)\n",
    "\n",
    "    print(lista2[int(number)]+';')\n",
    "\n",
    "\n",
    "interact(nrToLetters,n=(0,150))"
   ]
  },
  {
   "cell_type": "code",
   "execution_count": 5,
   "metadata": {},
   "outputs": [
    {
     "data": {
      "application/vnd.jupyter.widget-view+json": {
       "model_id": "89ec2972dca3411593d3ebbebee33b8d",
       "version_major": 2,
       "version_minor": 0
      },
      "text/plain": [
       "interactive(children=(IntSlider(value=50, description='number'), Output()), _dom_classes=('widget-interact',))"
      ]
     },
     "metadata": {},
     "output_type": "display_data"
    },
    {
     "data": {
      "text/plain": [
       "<function __main__.oddEven(number=50)>"
      ]
     },
     "execution_count": 5,
     "metadata": {},
     "output_type": "execute_result"
    }
   ],
   "source": [
    "###2.3\n",
    "def oddEven(number=50):\n",
    "    if(number==123):\n",
    "        print(str(number))\n",
    "        return\n",
    "    else:\n",
    "        print(str(number))\n",
    "        pare=impare=0\n",
    "        while(number!=0):\n",
    "            cifra=number%10\n",
    "            if cifra%2==0:\n",
    "                pare=pare+1\n",
    "            else:\n",
    "                impare=impare+1\n",
    "            number=number//10\n",
    "        suma=pare+impare\n",
    "        number=pare*100+impare*10+suma\n",
    "        oddEven(number)\n",
    "        \n",
    "interact(oddEven, number=(0,100))\n",
    "    \n",
    "    "
   ]
  },
  {
   "cell_type": "code",
   "execution_count": 6,
   "metadata": {},
   "outputs": [
    {
     "data": {
      "application/vnd.jupyter.widget-view+json": {
       "model_id": "f137f0b45943456d9e99e5dd10a32713",
       "version_major": 2,
       "version_minor": 0
      },
      "text/plain": [
       "interactive(children=(IntSlider(value=50, description='number', min=1), Output()), _dom_classes=('widget-inter…"
      ]
     },
     "metadata": {},
     "output_type": "display_data"
    },
    {
     "data": {
      "text/plain": [
       "<function __main__.div(number=50)>"
      ]
     },
     "execution_count": 6,
     "metadata": {},
     "output_type": "execute_result"
    }
   ],
   "source": [
    "###2.6\n",
    "import math\n",
    "def div(number=50):\n",
    "    if(number==15):\n",
    "        print(number)\n",
    "        return\n",
    "    else:\n",
    "        print(number)\n",
    "        divizori=[1,number]\n",
    "        for i in range(2, number):\n",
    "            if number%i==0:\n",
    "                divizori.append(i)\n",
    "        suma=0\n",
    "        for divizor in divizori:\n",
    "            print(divizor)\n",
    "            while(divizor!=0):\n",
    "                suma=suma+divizor%10\n",
    "                divizor=divizor//10\n",
    "                \n",
    "    div(suma)\n",
    "\n",
    "interact(div,number=(1,100))"
   ]
  },
  {
   "cell_type": "markdown",
   "metadata": {},
   "source": []
  },
  {
   "cell_type": "code",
   "execution_count": 7,
   "metadata": {},
   "outputs": [
    {
     "data": {
      "application/vnd.jupyter.widget-view+json": {
       "model_id": "c0f3e12c1f80432d893e8a9a35e793f8",
       "version_major": 2,
       "version_minor": 0
      },
      "text/plain": [
       "interactive(children=(FloatSlider(value=0.0, description='a', max=1.0, min=-1.0), FloatSlider(value=0.0, descr…"
      ]
     },
     "metadata": {},
     "output_type": "display_data"
    },
    {
     "data": {
      "text/plain": [
       "<function __main__.demo(a, b)>"
      ]
     },
     "execution_count": 7,
     "metadata": {},
     "output_type": "execute_result"
    }
   ],
   "source": [
    "###1.1\n",
    "import matplotlib.pyplot as plt\n",
    "import numpy as np\n",
    "\n",
    "\n",
    "def get_points():\n",
    "    x=np.random.uniform(0,1,20)\n",
    "    y=np.random.uniform(0,1,20)\n",
    "    return x,y\n",
    "\n",
    "px,py=get_points()\n",
    "\n",
    "def demo(a,b):\n",
    "    plt.subplot(1,2,2)\n",
    "    plt.scatter(px,py)\n",
    "    plt.plot([0,1],[b,a+b])\n",
    "    \n",
    "    y=a*px+b\n",
    "    dist=y-py\n",
    "    \n",
    "    #Mean Square Error\n",
    "    mse=np.sum(dist**2)\n",
    "    plt.subplot(1,2,1)\n",
    "    plt.hist(abs(dist))\n",
    "    print(mse)\n",
    "    \n",
    "\n",
    "\n",
    "interact(demo,a=(-1,1,0.1),b=(-1,1,0.1))"
   ]
  },
  {
   "cell_type": "code",
   "execution_count": 8,
   "metadata": {},
   "outputs": [
    {
     "name": "stdout",
     "output_type": "stream",
     "text": [
      "{'ana': 2, 'are': 2, 'mere': 1, 'dar': 1, 'si': 1, 'pere': 1}\n"
     ]
    }
   ],
   "source": [
    "###2.7\n",
    "lista=['ana','are','mere','dar','ana','are','si','pere']\n",
    "dictionar={}\n",
    "for item in lista:\n",
    "    if item not in dictionar:\n",
    "        dictionar[item]=1\n",
    "    else:\n",
    "        dictionar[item]+=1\n",
    "print(dictionar)"
   ]
  },
  {
   "cell_type": "code",
   "execution_count": 9,
   "metadata": {},
   "outputs": [
    {
     "name": "stdout",
     "output_type": "stream",
     "text": [
      "['c', 123]\n"
     ]
    }
   ],
   "source": [
    "###2.8\n",
    "lista_tpl=[('a','b','c'),(123,2,-1,2.3),('ab1','6721s','ajsj1','89',123)]\n",
    "lista_max=[max(item) for item in lista_tpl if len(item)<5]\n",
    "print(lista_max)"
   ]
  },
  {
   "cell_type": "code",
   "execution_count": 10,
   "metadata": {},
   "outputs": [
    {
     "name": "stdout",
     "output_type": "stream",
     "text": [
      "109 47\n"
     ]
    }
   ],
   "source": [
    "###3.1\n",
    "lista_numere=[20,15,21,-2,45,10]\n",
    "def sumDif(lista_numere):\n",
    "    suma=sum(lista_numere)\n",
    "    difMax=max(lista_numere)-min(lista_numere)\n",
    "    return suma, difMax\n",
    "\n",
    "a,b=sumDif(lista_numere)\n",
    "print(a,b)"
   ]
  },
  {
   "cell_type": "code",
   "execution_count": 11,
   "metadata": {},
   "outputs": [
    {
     "name": "stdout",
     "output_type": "stream",
     "text": [
      "True\n"
     ]
    }
   ],
   "source": [
    "###3.2\n",
    "lista1=[1,2,3,6,7]\n",
    "lista2=[2,7,1]\n",
    "def elementeComune(lista1, lista2,k=1):\n",
    "    if len(set(lista1).intersection(lista2))>=k:\n",
    "        return True\n",
    "    else:\n",
    "        return False\n",
    "\n",
    "print(elementeComune(lista1,lista2,2))\n",
    "\n",
    "    "
   ]
  },
  {
   "cell_type": "code",
   "execution_count": 12,
   "metadata": {},
   "outputs": [
    {
     "name": "stdout",
     "output_type": "stream",
     "text": [
      "(2, 2)\n"
     ]
    }
   ],
   "source": [
    "###3.4\n",
    "def upperLower(str):\n",
    "    up,low=0,0\n",
    "    for char in str:\n",
    "        if char.isupper()==True:\n",
    "            up+=1\n",
    "        else:\n",
    "            low+=1\n",
    "    return up, low\n",
    "\n",
    "print(upperLower('AnaM'))\n",
    "        "
   ]
  },
  {
   "cell_type": "code",
   "execution_count": 13,
   "metadata": {},
   "outputs": [
    {
     "data": {
      "text/plain": [
       "1"
      ]
     },
     "execution_count": 13,
     "metadata": {},
     "output_type": "execute_result"
    }
   ],
   "source": [
    "###3.6\n",
    "def power(number, exponent):\n",
    "    if exponent==0: \n",
    "        return 1\n",
    "    elif exponent==1:\n",
    "        return number\n",
    "    elif (exponent%2==0): \n",
    "        return power((number*number),exponent//2)\n",
    "    else: \n",
    "        return (number*power((number*number),exponent//2))\n",
    "power(3,0)"
   ]
  },
  {
   "cell_type": "code",
   "execution_count": 14,
   "metadata": {},
   "outputs": [
    {
     "name": "stdout",
     "output_type": "stream",
     "text": [
      "False\n"
     ]
    }
   ],
   "source": [
    "##3.5\n",
    "lista=[{},{(2,'ana')},{},{}]\n",
    "\n",
    "def checkIfEmpty(lista):\n",
    "    for item in lista:\n",
    "        if len(item)>0:\n",
    "            return False\n",
    "            break\n",
    "    return True\n",
    "print(checkIfEmpty(lista))\n"
   ]
  },
  {
   "cell_type": "code",
   "execution_count": 15,
   "metadata": {},
   "outputs": [
    {
     "name": "stdout",
     "output_type": "stream",
     "text": [
      "False\n"
     ]
    }
   ],
   "source": [
    "##3.3\n",
    "import re\n",
    "\n",
    "lista_stringuri=['A lice','we','anka','van-rossum']\n",
    "\n",
    "def checkIfString(lista):\n",
    "    for item in lista_stringuri:\n",
    "        if item.isalpha()==False: \n",
    "            return False\n",
    "            break\n",
    "    return True\n",
    "\n",
    "print(checkIfString(lista_stringuri))"
   ]
  }
 ],
 "metadata": {
  "kernelspec": {
   "display_name": "Python 3",
   "language": "python",
   "name": "python3"
  },
  "language_info": {
   "codemirror_mode": {
    "name": "ipython",
    "version": 3
   },
   "file_extension": ".py",
   "mimetype": "text/x-python",
   "name": "python",
   "nbconvert_exporter": "python",
   "pygments_lexer": "ipython3",
   "version": "3.7.1"
  },
  "toc": {
   "base_numbering": 1,
   "nav_menu": {},
   "number_sections": true,
   "sideBar": true,
   "skip_h1_title": false,
   "title_cell": "Table of Contents",
   "title_sidebar": "Contents",
   "toc_cell": false,
   "toc_position": {},
   "toc_section_display": true,
   "toc_window_display": false
  },
  "varInspector": {
   "cols": {
    "lenName": 16,
    "lenType": 16,
    "lenVar": 40
   },
   "kernels_config": {
    "python": {
     "delete_cmd_postfix": "",
     "delete_cmd_prefix": "del ",
     "library": "var_list.py",
     "varRefreshCmd": "print(var_dic_list())"
    },
    "r": {
     "delete_cmd_postfix": ") ",
     "delete_cmd_prefix": "rm(",
     "library": "var_list.r",
     "varRefreshCmd": "cat(var_dic_list()) "
    }
   },
   "types_to_exclude": [
    "module",
    "function",
    "builtin_function_or_method",
    "instance",
    "_Feature"
   ],
   "window_display": false
  }
 },
 "nbformat": 4,
 "nbformat_minor": 2
}
