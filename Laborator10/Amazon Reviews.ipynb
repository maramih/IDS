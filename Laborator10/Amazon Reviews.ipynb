{
 "cells": [
  {
   "cell_type": "code",
   "execution_count": 4,
   "metadata": {},
   "outputs": [
    {
     "data": {
      "text/plain": [
       "'\\nEste un algoritm de învățare supervizată bazat pe asocieri care nu\\nnecesită o etapă de antrenare propriu-zisă. Se bazează pe învățarea prin analogie și\\nstabilește clasa corespunzătoare unui exemplu de testare pe baza similarității acestuia\\ncu k exemple, cele mai similare, din setul de date de antrenament.\\nCele k exemple luate în considerare vor stabili clasa exemplului de test pe baza votului majoritar. \\n'"
      ]
     },
     "execution_count": 4,
     "metadata": {},
     "output_type": "execute_result"
    }
   ],
   "source": [
    "import pandas as pd\n",
    "from sklearn.datasets import load_files\n",
    "import numpy as np\n",
    "from sklearn.model_selection import train_test_split,cross_val_score,KFold\n",
    "from sklearn import metrics\n",
    "from sklearn.metrics import accuracy_score, f1_score\n",
    "from sklearn.model_selection import GridSearchCV\n",
    "from sklearn.model_selection import cross_validate\n",
    "import warnings\n",
    "warnings.filterwarnings('ignore')\n",
    "from sklearn.model_selection import RandomizedSearchCV\n",
    "\n",
    "from sklearn.neural_network import MLPClassifier\n",
    "'''\n",
    "MLP (Perceptronul multistrat) este un algoritm supervizat de învățare.\n",
    "Acesta învață o funcție, prin antrenament pe un set de date.\n",
    "Cu ajutorul unui set de caracteristici și a rezultatului acestora poate învăța să aproximeze o funcție nonlineară,\n",
    "fie pentru clasificare, fie pentru regresie.\n",
    "Perceptronul Multistrat este diferit de regresiile logistice în sensul că între stratul de intrare și cel de ieșire\n",
    "pot exista unul sau mai multe straturi neliniare, numite straturi ascunse.\n",
    "\n",
    "https://scikit-learn.org/stable/modules/neural_networks_supervised.html\n",
    "'''\n",
    "from sklearn import svm\n",
    "'''\n",
    "În general, SVM sunt considerate a fi o abordare de clasificare, dar pot fi utilizate în ambele\n",
    "tipuri de probleme de clasificare și regresie.\n",
    "Se poate ocupa cu ușurință mai multe variabile continue și categorice.\n",
    "SVM construiește un hyperplan în spațiul multidimensional pentru a separa diferite clase.\n",
    "SVM generează un hyperplan optim într-o manieră iterativă, care este folosită pentru a minimiza o eroare.\n",
    "Ideea principală a SVM este găsirea unui hiperplan marginal maxim (MMH) care divide cel mai bine setul de date în clase.\n",
    "Clasificatorul separă punctele de date utilizând un hyperplane cu cea mai mare valoare a marjei. De aceea, un clasificator\n",
    "SVM este, de asemenea, cunoscut ca un clasificator discriminativ.\n",
    "SVM oferă o precizie foarte mare în comparație cu alți clasificatori, cum ar fi regresia logistică și arborii de decizie.\n",
    "'''\n",
    "from sklearn import tree #Decision tree\n",
    "'''\n",
    "Are ca scop divizarea unei colecţii în seturi mai mici prin aplicarea succesivă a unor reguli de decizie.\n",
    "În arborele de decizie, nodurile rădăcină și interne conțin condiții de testare a atributelor pentru a separa\n",
    "înregistrările care au caracteristici diferite.\n",
    "'''\n",
    "from sklearn.ensemble import RandomForestClassifier\n",
    "'''\n",
    "Random Forest Classifier este o metoda de clasificare, regresie si alte sarcini care opereaza prin construirea prin construirea\n",
    "unei multitudini de arbori de decizie în timpul antrenării și furnizarea clasei necesare clasificării sau a mediei (în cazul\n",
    "unei regresii) a arborilor individuali. De asemenea, corectează obiceiul de overfitting pe setul de antrenare.\n",
    "'''\n",
    "\n",
    "from sklearn.neighbors import KNeighborsClassifier\n",
    "'''\n",
    "Este un algoritm de învățare supervizată bazat pe asocieri care nu\n",
    "necesită o etapă de antrenare propriu-zisă. Se bazează pe învățarea prin analogie și\n",
    "stabilește clasa corespunzătoare unui exemplu de testare pe baza similarității acestuia\n",
    "cu k exemple, cele mai similare, din setul de date de antrenament.\n",
    "Cele k exemple luate în considerare vor stabili clasa exemplului de test pe baza votului majoritar. \n",
    "'''"
   ]
  },
  {
   "cell_type": "markdown",
   "metadata": {},
   "source": [
    "<h1> Setul de date IMDB </h1>\n",
    "\n",
    "- Descriere/Continut:\n",
    "Contine fraze etichetate ca parere pozitiva sau parere negativa, extrase din recenziile produselor de pe site-ul amazon.com.\n",
    "\n",
    "- Format:\n",
    "propozitie \\t scor \\n\n",
    "\n",
    "- Detalii:\n",
    "Scorul poate fi 1 (pentru recenzie pozitiva) sau 0 (pentru recenzie negativa).\n",
    "In setul de date exista 500 de fragmente de recenzii pozitive si 500 de fragmente de recenzii negative, care au fost selectate in mod aleator pentru baze si mai mari de recenzii.\n",
    "S-a incercat selectarea frazelor care au o conotatie pozitiva/negativa clara, sperand ca nicio fraza neutra sa nu fi fost aleasa.\n",
    "\n",
    "- Se urmareste analizarea opiniei pentru a determina daca este una negativa sau pozitiva in legatura cu produsul respectiv; \n"
   ]
  },
  {
   "cell_type": "code",
   "execution_count": 6,
   "metadata": {},
   "outputs": [],
   "source": [
    "namesCol = [\"Review\",\"Sentiment\"]\n",
    "df=pd.read_csv('amazon_cells_labelled.txt', delimiter = '\\t', header = None, names=namesCol)"
   ]
  },
  {
   "cell_type": "code",
   "execution_count": 7,
   "metadata": {},
   "outputs": [
    {
     "data": {
      "text/html": [
       "<div>\n",
       "<style scoped>\n",
       "    .dataframe tbody tr th:only-of-type {\n",
       "        vertical-align: middle;\n",
       "    }\n",
       "\n",
       "    .dataframe tbody tr th {\n",
       "        vertical-align: top;\n",
       "    }\n",
       "\n",
       "    .dataframe thead th {\n",
       "        text-align: right;\n",
       "    }\n",
       "</style>\n",
       "<table border=\"1\" class=\"dataframe\">\n",
       "  <thead>\n",
       "    <tr style=\"text-align: right;\">\n",
       "      <th></th>\n",
       "      <th>Review</th>\n",
       "      <th>Sentiment</th>\n",
       "    </tr>\n",
       "  </thead>\n",
       "  <tbody>\n",
       "    <tr>\n",
       "      <th>0</th>\n",
       "      <td>So there is no way for me to plug it in here i...</td>\n",
       "      <td>0</td>\n",
       "    </tr>\n",
       "    <tr>\n",
       "      <th>1</th>\n",
       "      <td>Good case, Excellent value.</td>\n",
       "      <td>1</td>\n",
       "    </tr>\n",
       "    <tr>\n",
       "      <th>2</th>\n",
       "      <td>Great for the jawbone.</td>\n",
       "      <td>1</td>\n",
       "    </tr>\n",
       "    <tr>\n",
       "      <th>3</th>\n",
       "      <td>Tied to charger for conversations lasting more...</td>\n",
       "      <td>0</td>\n",
       "    </tr>\n",
       "    <tr>\n",
       "      <th>4</th>\n",
       "      <td>The mic is great.</td>\n",
       "      <td>1</td>\n",
       "    </tr>\n",
       "  </tbody>\n",
       "</table>\n",
       "</div>"
      ],
      "text/plain": [
       "                                              Review  Sentiment\n",
       "0  So there is no way for me to plug it in here i...          0\n",
       "1                        Good case, Excellent value.          1\n",
       "2                             Great for the jawbone.          1\n",
       "3  Tied to charger for conversations lasting more...          0\n",
       "4                                  The mic is great.          1"
      ]
     },
     "execution_count": 7,
     "metadata": {},
     "output_type": "execute_result"
    }
   ],
   "source": [
    "df.head()"
   ]
  },
  {
   "cell_type": "code",
   "execution_count": 8,
   "metadata": {},
   "outputs": [
    {
     "name": "stdout",
     "output_type": "stream",
     "text": [
      "Dimensiunea tabelului este:  (1000, 2)\n"
     ]
    }
   ],
   "source": [
    "print(\"Dimensiunea tabelului este: \", df.shape)"
   ]
  },
  {
   "cell_type": "code",
   "execution_count": 16,
   "metadata": {},
   "outputs": [
    {
     "data": {
      "text/html": [
       "<div>\n",
       "<style scoped>\n",
       "    .dataframe tbody tr th:only-of-type {\n",
       "        vertical-align: middle;\n",
       "    }\n",
       "\n",
       "    .dataframe tbody tr th {\n",
       "        vertical-align: top;\n",
       "    }\n",
       "\n",
       "    .dataframe thead th {\n",
       "        text-align: right;\n",
       "    }\n",
       "</style>\n",
       "<table border=\"1\" class=\"dataframe\">\n",
       "  <thead>\n",
       "    <tr style=\"text-align: right;\">\n",
       "      <th></th>\n",
       "      <th>Sentiment</th>\n",
       "      <th>review_len</th>\n",
       "      <th>word_count</th>\n",
       "    </tr>\n",
       "  </thead>\n",
       "  <tbody>\n",
       "    <tr>\n",
       "      <th>count</th>\n",
       "      <td>1000.00000</td>\n",
       "      <td>1000.000000</td>\n",
       "      <td>1000.000000</td>\n",
       "    </tr>\n",
       "    <tr>\n",
       "      <th>mean</th>\n",
       "      <td>0.50000</td>\n",
       "      <td>55.007000</td>\n",
       "      <td>10.189000</td>\n",
       "    </tr>\n",
       "    <tr>\n",
       "      <th>std</th>\n",
       "      <td>0.50025</td>\n",
       "      <td>34.489193</td>\n",
       "      <td>6.639983</td>\n",
       "    </tr>\n",
       "    <tr>\n",
       "      <th>min</th>\n",
       "      <td>0.00000</td>\n",
       "      <td>11.000000</td>\n",
       "      <td>1.000000</td>\n",
       "    </tr>\n",
       "    <tr>\n",
       "      <th>25%</th>\n",
       "      <td>0.00000</td>\n",
       "      <td>26.000000</td>\n",
       "      <td>5.000000</td>\n",
       "    </tr>\n",
       "    <tr>\n",
       "      <th>50%</th>\n",
       "      <td>0.50000</td>\n",
       "      <td>47.000000</td>\n",
       "      <td>9.000000</td>\n",
       "    </tr>\n",
       "    <tr>\n",
       "      <th>75%</th>\n",
       "      <td>1.00000</td>\n",
       "      <td>77.000000</td>\n",
       "      <td>15.000000</td>\n",
       "    </tr>\n",
       "    <tr>\n",
       "      <th>max</th>\n",
       "      <td>1.00000</td>\n",
       "      <td>149.000000</td>\n",
       "      <td>30.000000</td>\n",
       "    </tr>\n",
       "  </tbody>\n",
       "</table>\n",
       "</div>"
      ],
      "text/plain": [
       "        Sentiment   review_len   word_count\n",
       "count  1000.00000  1000.000000  1000.000000\n",
       "mean      0.50000    55.007000    10.189000\n",
       "std       0.50025    34.489193     6.639983\n",
       "min       0.00000    11.000000     1.000000\n",
       "25%       0.00000    26.000000     5.000000\n",
       "50%       0.50000    47.000000     9.000000\n",
       "75%       1.00000    77.000000    15.000000\n",
       "max       1.00000   149.000000    30.000000"
      ]
     },
     "execution_count": 16,
     "metadata": {},
     "output_type": "execute_result"
    }
   ],
   "source": [
    "df.describe()"
   ]
  },
  {
   "cell_type": "markdown",
   "metadata": {},
   "source": [
    "- lungimea maxima a unei recenzii este de 30 de cuvinte\n",
    "- lungimea minima a unei recenzii este de 1 cuvant\n",
    "- lungimea medie  a unei recenzii este de 10 cuvinte"
   ]
  },
  {
   "cell_type": "code",
   "execution_count": 13,
   "metadata": {},
   "outputs": [
    {
     "data": {
      "text/html": [
       "<div>\n",
       "<style scoped>\n",
       "    .dataframe tbody tr th:only-of-type {\n",
       "        vertical-align: middle;\n",
       "    }\n",
       "\n",
       "    .dataframe tbody tr th {\n",
       "        vertical-align: top;\n",
       "    }\n",
       "\n",
       "    .dataframe thead th {\n",
       "        text-align: right;\n",
       "    }\n",
       "</style>\n",
       "<table border=\"1\" class=\"dataframe\">\n",
       "  <thead>\n",
       "    <tr style=\"text-align: right;\">\n",
       "      <th></th>\n",
       "      <th>Review</th>\n",
       "    </tr>\n",
       "  </thead>\n",
       "  <tbody>\n",
       "    <tr>\n",
       "      <th>count</th>\n",
       "      <td>1000</td>\n",
       "    </tr>\n",
       "    <tr>\n",
       "      <th>unique</th>\n",
       "      <td>987</td>\n",
       "    </tr>\n",
       "    <tr>\n",
       "      <th>top</th>\n",
       "      <td>great phone.</td>\n",
       "    </tr>\n",
       "    <tr>\n",
       "      <th>freq</th>\n",
       "      <td>4</td>\n",
       "    </tr>\n",
       "  </tbody>\n",
       "</table>\n",
       "</div>"
      ],
      "text/plain": [
       "              Review\n",
       "count           1000\n",
       "unique           987\n",
       "top     great phone.\n",
       "freq               4"
      ]
     },
     "execution_count": 13,
     "metadata": {},
     "output_type": "execute_result"
    }
   ],
   "source": [
    "df.describe(include=['O'])"
   ]
  },
  {
   "cell_type": "markdown",
   "metadata": {},
   "source": [
    "- convertim textul la scriere cu litera mica pentru a evita ca de exemplu \"Plot\" si \"plot\" sa fie luate ca elemente diferite"
   ]
  },
  {
   "cell_type": "code",
   "execution_count": 9,
   "metadata": {},
   "outputs": [],
   "source": [
    "df['Review']=df['Review'].str.lower()"
   ]
  },
  {
   "cell_type": "markdown",
   "metadata": {},
   "source": [
    "- eliminam cifrele"
   ]
  },
  {
   "cell_type": "code",
   "execution_count": 10,
   "metadata": {},
   "outputs": [],
   "source": [
    "import re\n",
    "df['Review']=df['Review'].str.replace(r'\\d+','')"
   ]
  },
  {
   "cell_type": "markdown",
   "metadata": {},
   "source": [
    "- adaugam coloane noi pentru numarul de cuvinte pe care il contine o recenzie si pentru lungimea recenziei\n"
   ]
  },
  {
   "cell_type": "code",
   "execution_count": 11,
   "metadata": {},
   "outputs": [],
   "source": [
    "df['review_len'] = df['Review'].astype(str).apply(len)\n",
    "df['word_count'] = df['Review'].apply(lambda x: len(str(x).split()))"
   ]
  },
  {
   "cell_type": "code",
   "execution_count": 12,
   "metadata": {},
   "outputs": [
    {
     "data": {
      "text/html": [
       "<div>\n",
       "<style scoped>\n",
       "    .dataframe tbody tr th:only-of-type {\n",
       "        vertical-align: middle;\n",
       "    }\n",
       "\n",
       "    .dataframe tbody tr th {\n",
       "        vertical-align: top;\n",
       "    }\n",
       "\n",
       "    .dataframe thead th {\n",
       "        text-align: right;\n",
       "    }\n",
       "</style>\n",
       "<table border=\"1\" class=\"dataframe\">\n",
       "  <thead>\n",
       "    <tr style=\"text-align: right;\">\n",
       "      <th></th>\n",
       "      <th>Review</th>\n",
       "      <th>Sentiment</th>\n",
       "      <th>review_len</th>\n",
       "      <th>word_count</th>\n",
       "    </tr>\n",
       "  </thead>\n",
       "  <tbody>\n",
       "    <tr>\n",
       "      <th>0</th>\n",
       "      <td>so there is no way for me to plug it in here i...</td>\n",
       "      <td>0</td>\n",
       "      <td>82</td>\n",
       "      <td>21</td>\n",
       "    </tr>\n",
       "    <tr>\n",
       "      <th>1</th>\n",
       "      <td>good case, excellent value.</td>\n",
       "      <td>1</td>\n",
       "      <td>27</td>\n",
       "      <td>4</td>\n",
       "    </tr>\n",
       "    <tr>\n",
       "      <th>2</th>\n",
       "      <td>great for the jawbone.</td>\n",
       "      <td>1</td>\n",
       "      <td>22</td>\n",
       "      <td>4</td>\n",
       "    </tr>\n",
       "    <tr>\n",
       "      <th>3</th>\n",
       "      <td>tied to charger for conversations lasting more...</td>\n",
       "      <td>0</td>\n",
       "      <td>77</td>\n",
       "      <td>10</td>\n",
       "    </tr>\n",
       "    <tr>\n",
       "      <th>4</th>\n",
       "      <td>the mic is great.</td>\n",
       "      <td>1</td>\n",
       "      <td>17</td>\n",
       "      <td>4</td>\n",
       "    </tr>\n",
       "  </tbody>\n",
       "</table>\n",
       "</div>"
      ],
      "text/plain": [
       "                                              Review  Sentiment  review_len  \\\n",
       "0  so there is no way for me to plug it in here i...          0          82   \n",
       "1                        good case, excellent value.          1          27   \n",
       "2                             great for the jawbone.          1          22   \n",
       "3  tied to charger for conversations lasting more...          0          77   \n",
       "4                                  the mic is great.          1          17   \n",
       "\n",
       "   word_count  \n",
       "0          21  \n",
       "1           4  \n",
       "2           4  \n",
       "3          10  \n",
       "4           4  "
      ]
     },
     "execution_count": 12,
     "metadata": {},
     "output_type": "execute_result"
    }
   ],
   "source": [
    "df.head()"
   ]
  },
  {
   "cell_type": "code",
   "execution_count": 26,
   "metadata": {},
   "outputs": [
    {
     "data": {
      "image/png": "[encoded data removed]",
      "text/plain": [
       "<Figure size 432x288 with 1 Axes>"
      ]
     },
     "metadata": {
      "needs_background": "light"
     },
     "output_type": "display_data"
    }
   ],
   "source": [
    "import matplotlib.pyplot as plt\n",
    "#df['Sentiment'].plot(legend=True)\n",
    "#df['review_len'].plot(kind=legend=True)\n",
    "ax=df.plot(0,2,\n",
    "    legend=True,\n",
    "    title='Review Text Length Distribution')\n",
    "ax.set_xlabel(\"Review\")\n",
    "ax.set_ylabel(\"Review length\")\n",
    "plt.show()"
   ]
  },
  {
   "cell_type": "code",
   "execution_count": 21,
   "metadata": {},
   "outputs": [
    {
     "data": {
      "image/png": "[encoded data removed]",
      "text/plain": [
       "<Figure size 432x288 with 1 Axes>"
      ]
     },
     "metadata": {
      "needs_background": "light"
     },
     "output_type": "display_data"
    }
   ],
   "source": [
    "ax=df.plot(1,2,\n",
    "    kind='scatter',\n",
    "    legend=True,\n",
    "    title='Review Sentiment Distribution')\n",
    "ax.set_xlabel(\"Review length\")\n",
    "ax.set_ylabel(\"Sentiment\")\n",
    "plt.show()"
   ]
  },
  {
   "cell_type": "code",
   "execution_count": 22,
   "metadata": {},
   "outputs": [
    {
     "data": {
      "image/png": "[encoded data removed]",
      "text/plain": [
       "<Figure size 432x288 with 1 Axes>"
      ]
     },
     "metadata": {
      "needs_background": "light"
     },
     "output_type": "display_data"
    }
   ],
   "source": [
    "ax=df['Sentiment'].plot(kind='hist',\n",
    "                       title='Review Sentiment Distribution')\n",
    "ax.set_xlabel(\"Sentiment\")\n",
    "ax.set_ylabel(\"No of reviews\")\n",
    "plt.show()"
   ]
  },
  {
   "cell_type": "code",
   "execution_count": 33,
   "metadata": {},
   "outputs": [],
   "source": [
    "X=df.iloc[:,0].values\n",
    "y=np.ravel(df.iloc[:,1])"
   ]
  },
  {
   "cell_type": "markdown",
   "metadata": {},
   "source": [
    "- se foloseste clasa <b>CountVectorizer</b>, care serveste la selectarea cuvintelor din text si calculul frecventei de aparitie;\n",
    "- prin aplicarea metodei transform se va obtine un vector <b>Bag Of Words</b>;"
   ]
  },
  {
   "cell_type": "code",
   "execution_count": 54,
   "metadata": {},
   "outputs": [],
   "source": [
    "from sklearn.feature_extraction.text import CountVectorizer\n",
    "\n",
    "vec = CountVectorizer().fit(df['Review'])\n",
    "bag_of_words = vec.transform(df['Review'])\n",
    "sum_words = bag_of_words.sum(axis=0) \n",
    "words_freq = [(word, sum_words[0, idx]) for word, idx in vec.vocabulary_.items()]\n",
    "words_freq =sorted(words_freq, key = lambda x: x[1], reverse=True)"
   ]
  },
  {
   "cell_type": "code",
   "execution_count": 56,
   "metadata": {},
   "outputs": [
    {
     "data": {
      "text/plain": [
       "[('the', 519),\n",
       " ('it', 311),\n",
       " ('and', 311),\n",
       " ('is', 243),\n",
       " ('this', 208),\n",
       " ('to', 197),\n",
       " ('phone', 168),\n",
       " ('my', 145),\n",
       " ('for', 121),\n",
       " ('of', 120),\n",
       " ('not', 117),\n",
       " ('with', 112),\n",
       " ('very', 104),\n",
       " ('great', 99),\n",
       " ('was', 90)]"
      ]
     },
     "execution_count": 56,
     "metadata": {},
     "output_type": "execute_result"
    }
   ],
   "source": [
    "words_freq[:15]"
   ]
  },
  {
   "cell_type": "code",
   "execution_count": 36,
   "metadata": {},
   "outputs": [
    {
     "data": {
      "image/png": "[encoded data removed]",
      "text/plain": [
       "<Figure size 432x288 with 1 Axes>"
      ]
     },
     "metadata": {
      "needs_background": "light"
     },
     "output_type": "display_data"
    }
   ],
   "source": [
    "df1 = pd.DataFrame(words_freq[:15], columns = ['ReviewText' , 'count'])\n",
    "ax=df1.groupby('ReviewText').sum()['count'].sort_values(ascending=False).plot(\n",
    "    kind='bar', title='Top 15 cuvinte in review inainte de eliminarea stop words')\n",
    "ax.set_ylabel(\"Aparitii\")\n",
    "ax.set_xlabel(\"Cuvant in reviews\")\n",
    "plt.show()"
   ]
  },
  {
   "cell_type": "markdown",
   "metadata": {},
   "source": [
    "- Excludere cuvinte neinformative(stop words)\n"
   ]
  },
  {
   "cell_type": "code",
   "execution_count": 27,
   "metadata": {},
   "outputs": [
    {
     "data": {
      "image/png": "[encoded data removed]",
      "text/plain": [
       "<Figure size 432x288 with 1 Axes>"
      ]
     },
     "metadata": {
      "needs_background": "light"
     },
     "output_type": "display_data"
    }
   ],
   "source": [
    "vec = CountVectorizer(stop_words = 'english').fit(df['Review'])\n",
    "bag_of_words = vec.transform(df['Review'])\n",
    "sum_words = bag_of_words.sum(axis=0) \n",
    "words_freq = [(word, sum_words[0, idx]) for word, idx in vec.vocabulary_.items()]\n",
    "words_freq =sorted(words_freq, key = lambda x: x[1], reverse=True)\n",
    "\n",
    "df1 = pd.DataFrame(words_freq[:15], columns = ['ReviewText' , 'count'])\n",
    "ax=df1.groupby('ReviewText').sum()['count'].sort_values(ascending=False).plot(\n",
    "    kind='bar', \n",
    "    title='Top 15 cuvinte in review dupa eliminarea stop words')\n",
    "ax.set_ylabel(\"Aparitii\")\n",
    "ax.set_xlabel(\"Cuvant in reviews\")\n",
    "plt.show()"
   ]
  },
  {
   "cell_type": "code",
   "execution_count": 51,
   "metadata": {},
   "outputs": [
    {
     "name": "stdout",
     "output_type": "stream",
     "text": [
      "1802\n"
     ]
    }
   ],
   "source": [
    "feature_names=vec.get_feature_names()\n",
    "print(len(feature_names))"
   ]
  },
  {
   "cell_type": "markdown",
   "metadata": {},
   "source": [
    "- vocabularul are un total de 1802 cuvinte;\n",
    "- pentru fiecare cuvant in parte este precizat si de cate ori a fost intalnit in texte;\n"
   ]
  },
  {
   "cell_type": "code",
   "execution_count": 15,
   "metadata": {},
   "outputs": [],
   "source": [
    "from sklearn.datasets import make_blobs\n",
    "from sklearn.cluster import KMeans\n",
    "from sklearn.feature_extraction.text import TfidfVectorizer"
   ]
  },
  {
   "cell_type": "markdown",
   "metadata": {},
   "source": [
    "- TfidfVectorizer “Term Frequency – Inverse Document”\n",
    "- Term Frequency -insumeaza aparitiile unui cuvant in documentul dat\n",
    "- Inverse Document Frequency -reduce cuvintele care apar de foarte multe ori in document"
   ]
  },
  {
   "cell_type": "code",
   "execution_count": 17,
   "metadata": {},
   "outputs": [],
   "source": [
    "tfidf_vectorizer = TfidfVectorizer()\n",
    "X_trainval, X_test, y_trainval, y_test = train_test_split(X, y, test_size=1/3,random_state=1, stratify=y)\n",
    "tfidf = tfidf_vectorizer.fit_transform(X_trainval)"
   ]
  },
  {
   "cell_type": "code",
   "execution_count": 58,
   "metadata": {},
   "outputs": [
    {
     "name": "stdout",
     "output_type": "stream",
     "text": [
      "[6.80964287 6.40417776 6.80964287 ... 4.45826761 6.80964287 6.80964287]\n"
     ]
    }
   ],
   "source": [
    "print(tfidf_vectorizer.idf_)"
   ]
  },
  {
   "cell_type": "markdown",
   "metadata": {},
   "source": [
    "K-means Clustering propune centri de cluster care sa minimizeze valoarea functiei.\n",
    "\n",
    "Scop: partitionarea datelor in grupuri. \n",
    "\n",
    "Ideal, clusterele ar trebui sa aiba urmatoarele proprietati: \n",
    "- punctele dintr-un cluster oarecare ar trebui sa fie similare\n",
    "- punctele din clustere diferite sa fie foarte diferite. \n",
    "Pentru un punct nou dat trebuie determinat clusterul de care apartine. "
   ]
  },
  {
   "cell_type": "code",
   "execution_count": 24,
   "metadata": {},
   "outputs": [],
   "source": [
    "kmeans = KMeans(n_clusters=2).fit(tfidf)\n",
    "test2=kmeans.predict(tfidf_vectorizer.transform(X_test))\n",
    "test=np.array(test2==y_test, dtype=int)\n",
    "test=pd.DataFrame(test)"
   ]
  },
  {
   "cell_type": "code",
   "execution_count": 50,
   "metadata": {},
   "outputs": [
    {
     "data": {
      "image/png": "[encoded data removed]",
      "text/plain": [
       "<Figure size 432x288 with 1 Axes>"
      ]
     },
     "metadata": {
      "needs_background": "light"
     },
     "output_type": "display_data"
    },
    {
     "name": "stdout",
     "output_type": "stream",
     "text": [
      "[[0 0 0 ... 0 0 0]\n",
      " [0 0 0 ... 0 0 0]\n",
      " [0 0 0 ... 0 0 0]\n",
      " ...\n",
      " [0 0 0 ... 0 0 0]\n",
      " [0 0 0 ... 0 0 0]\n",
      " [0 0 0 ... 0 0 0]]\n"
     ]
    }
   ],
   "source": [
    "ax=test.plot(kind='hist',\n",
    "            title='Predictii incorecte vs predictii corecte')\n",
    "ax.set_xlabel(\"Sentiment\")\n",
    "ax.set_ylabel(\"No of predictions\")\n",
    "plt.show()\n",
    "print(bag_of_words.toarray())"
   ]
  },
  {
   "cell_type": "markdown",
   "metadata": {},
   "source": [
    "<b>Hiperparametrii</b> sunt parametrii care nu sunt direct invatati de estimatori. In scikit-learn ei sunt dati ca argumente la constructorul claselor de estimare.\n",
    "\n",
    "O cautare are:\n",
    "- un estimator (regresor sau clasificator);\n",
    "- un spatiu pentru parametri;\n",
    "- o metoda de cautare sau de a imparti datele in sample-uri;\n",
    "- o schema pentru cross validation;\n",
    "- o functie pentru scoring;\n",
    "\n",
    "<b>Grid Search</b> genereaza in mod exhaustiv valori-candidat dintr-o lista de valori de parametri specificate prin param_grid. Instanta GridSearchCV implementeaza estimatorul obisnuit API, cand se incearca pe un set de date toate combinatiile posibile ale valorilor parametrilor, fiind evaluate, ca in final sa fie aleasa combinatia optima. \n",
    "\n",
    "Desi folosirea unui grid de valori pentru parametrii este cea mai utilizata metoda de optimizare a parametrilor, alte metode de cautare au proprietati mai favorabile. \n",
    "\n",
    "<b>RandomSearchCV</b> implementeaza o cautare aleatorie peste parametri, unde fiecare setare este luata dintr-o distributie pe valorile posibile ale parametrilor. Acest lucru are doua mari beneficii fata de modul exhaustiv de cautare:\n",
    "\n",
    "- un buget poate fi ales independent de numarul parametrilor sau posibilele valori;\n",
    "- adaugand parametri care nu influenteaza performanta, nu face sa scada eficienta;"
   ]
  },
  {
   "cell_type": "code",
   "execution_count": 35,
   "metadata": {},
   "outputs": [],
   "source": [
    "def score_report(model, parameters):\n",
    "    model_GS = GridSearchCV(model, param_grid=parameters,scoring='f1_macro', cv = 5, iid = False, return_train_score=True, n_jobs=-1)\n",
    "    model_RS = RandomizedSearchCV(estimator = model, param_distributions = parameters,scoring='f1_macro', cv=5, n_iter=5, iid=False, n_jobs=-1)\n",
    "    scores_GS = cross_validate(model_GS, bag_of_words, y, return_train_score=True, scoring=('f1_macro','accuracy'),cv=5)\n",
    "    scores_RS = cross_validate(model_RS, bag_of_words, y, return_train_score=True, scoring=('f1_macro','accuracy'),cv=5)\n",
    "    return scores_GS, scores_RS"
   ]
  },
  {
   "cell_type": "markdown",
   "metadata": {},
   "source": [
    "<h3>Creare tabel pentru rezultatele clasificatorilor</h3>"
   ]
  },
  {
   "cell_type": "code",
   "execution_count": 39,
   "metadata": {},
   "outputs": [],
   "source": [
    "results = pd.DataFrame(columns = ['Model',\n",
    "                                  'Search_strategy',\n",
    "                                  'train_f1_macro',\n",
    "                                  'test_f1_macro',\n",
    "                                  'train_accuracy',\n",
    "                                  'test_accuracy',\n",
    "                                  'score_time',\n",
    "                                  'fit_time'])\n",
    "def make_line(model:str, search_strategy:str, results):\n",
    "    results['Model'] = model\n",
    "    results['Search_strategy'] = search_strategy\n",
    "    for key, value in results.items():\n",
    "        if(type(results[key])!=str):\n",
    "            results[key] = results[key].mean()\n",
    "    return results"
   ]
  },
  {
   "cell_type": "markdown",
   "metadata": {},
   "source": [
    "<h1>Decision Tree Classifier</h1>"
   ]
  },
  {
   "cell_type": "code",
   "execution_count": 40,
   "metadata": {},
   "outputs": [],
   "source": [
    "parameters = {\n",
    "        'min_samples_split':[2,5,8, 10],\n",
    "        'splitter':['best', 'random'],\n",
    "        'max_depth':[1, 10, 20, 30]\n",
    "    }\n",
    "res_GS, res_RS = score_report(tree.DecisionTreeClassifier(), parameters=parameters)"
   ]
  },
  {
   "cell_type": "code",
   "execution_count": 41,
   "metadata": {},
   "outputs": [],
   "source": [
    "res_GSaux = make_line('Decision Tree', 'GridSearchCV', res_GS)\n",
    "res_RSaux = make_line('Decision Tree', 'RandomSearchCV', res_RS)\n",
    "results = results.append(res_GSaux, ignore_index=True)\n",
    "results = results.append(res_RSaux, ignore_index=True)"
   ]
  },
  {
   "cell_type": "markdown",
   "metadata": {},
   "source": [
    "<h1>Random Forest Classifier</h1>"
   ]
  },
  {
   "cell_type": "code",
   "execution_count": 42,
   "metadata": {},
   "outputs": [],
   "source": [
    "parameters = {\n",
    "    'n_estimators'      : [320,330,340],\n",
    "    'max_depth'         : [8, 9, 10, 11, 12],\n",
    "    'random_state'      : [0]\n",
    "    }\n",
    "res_GS2, res_RS2 = score_report(RandomForestClassifier(n_estimators=100), parameters=parameters)"
   ]
  },
  {
   "cell_type": "code",
   "execution_count": 43,
   "metadata": {},
   "outputs": [],
   "source": [
    "res_GSaux = make_line('Random Forest', 'GridSearchCV', res_GS2)\n",
    "res_RSaux = make_line('Random Forest', 'RandomSearchCV', res_RS2)\n",
    "results = results.append(res_GSaux, ignore_index=True)\n",
    "results = results.append(res_RSaux, ignore_index=True)"
   ]
  },
  {
   "cell_type": "markdown",
   "metadata": {},
   "source": [
    "<h1> KNeighbours Classifier</h1>"
   ]
  },
  {
   "cell_type": "code",
   "execution_count": 44,
   "metadata": {},
   "outputs": [],
   "source": [
    "parameters = {'n_neighbors':[4,5,7],\n",
    "              'leaf_size':[1,3,5],\n",
    "              'algorithm':['auto', 'kd_tree']\n",
    "             }\n",
    "res_GS3, res_RS3 = score_report(KNeighborsClassifier(n_neighbors=5), parameters=parameters)"
   ]
  },
  {
   "cell_type": "code",
   "execution_count": 45,
   "metadata": {},
   "outputs": [],
   "source": [
    "res_GSaux = make_line('KNeighborsClassifier', 'GridSearchCV', res_GS3)\n",
    "res_RSaux = make_line('KNeighborsClassifier', 'RandomSearchCV', res_RS3)\n",
    "results = results.append(res_GSaux, ignore_index=True)\n",
    "results = results.append(res_RSaux, ignore_index=True)"
   ]
  },
  {
   "cell_type": "markdown",
   "metadata": {},
   "source": [
    "<h1>Support Vector Machine</h1>"
   ]
  },
  {
   "cell_type": "code",
   "execution_count": 46,
   "metadata": {},
   "outputs": [],
   "source": [
    "parameters = {\n",
    "            'C':[1,5, 10],\n",
    "            'cache_size':[200, 1000],\n",
    "            'max_iter':[100, 500, 1000]\n",
    "    }\n",
    "res_GS4, res_RS4 = score_report(svm.SVC(gamma='scale'), parameters=parameters)"
   ]
  },
  {
   "cell_type": "code",
   "execution_count": 47,
   "metadata": {},
   "outputs": [],
   "source": [
    "res_GSaux = make_line('SVM', 'GridSearchCV', res_GS4)\n",
    "res_RSaux = make_line('SVM', 'RandomSearchCV', res_RS4)\n",
    "results = results.append(res_GSaux, ignore_index=True)\n",
    "results = results.append(res_RSaux, ignore_index=True)"
   ]
  },
  {
   "cell_type": "code",
   "execution_count": 48,
   "metadata": {},
   "outputs": [
    {
     "data": {
      "text/html": [
       "<div>\n",
       "<style scoped>\n",
       "    .dataframe tbody tr th:only-of-type {\n",
       "        vertical-align: middle;\n",
       "    }\n",
       "\n",
       "    .dataframe tbody tr th {\n",
       "        vertical-align: top;\n",
       "    }\n",
       "\n",
       "    .dataframe thead th {\n",
       "        text-align: right;\n",
       "    }\n",
       "</style>\n",
       "<table border=\"1\" class=\"dataframe\">\n",
       "  <thead>\n",
       "    <tr style=\"text-align: right;\">\n",
       "      <th></th>\n",
       "      <th>Model</th>\n",
       "      <th>Search_strategy</th>\n",
       "      <th>train_f1_macro</th>\n",
       "      <th>test_f1_macro</th>\n",
       "      <th>train_accuracy</th>\n",
       "      <th>test_accuracy</th>\n",
       "      <th>score_time</th>\n",
       "      <th>fit_time</th>\n",
       "    </tr>\n",
       "  </thead>\n",
       "  <tbody>\n",
       "    <tr>\n",
       "      <th>0</th>\n",
       "      <td>Decision Tree</td>\n",
       "      <td>GridSearchCV</td>\n",
       "      <td>0.864609</td>\n",
       "      <td>0.764920</td>\n",
       "      <td>0.86650</td>\n",
       "      <td>0.769</td>\n",
       "      <td>0.001489</td>\n",
       "      <td>1.823892</td>\n",
       "    </tr>\n",
       "    <tr>\n",
       "      <th>1</th>\n",
       "      <td>Decision Tree</td>\n",
       "      <td>RandomSearchCV</td>\n",
       "      <td>0.837848</td>\n",
       "      <td>0.754563</td>\n",
       "      <td>0.84150</td>\n",
       "      <td>0.761</td>\n",
       "      <td>0.002677</td>\n",
       "      <td>0.326788</td>\n",
       "    </tr>\n",
       "    <tr>\n",
       "      <th>2</th>\n",
       "      <td>Random Forest</td>\n",
       "      <td>GridSearchCV</td>\n",
       "      <td>0.851217</td>\n",
       "      <td>0.764270</td>\n",
       "      <td>0.85325</td>\n",
       "      <td>0.769</td>\n",
       "      <td>0.088784</td>\n",
       "      <td>20.244200</td>\n",
       "    </tr>\n",
       "    <tr>\n",
       "      <th>3</th>\n",
       "      <td>Random Forest</td>\n",
       "      <td>RandomSearchCV</td>\n",
       "      <td>0.853021</td>\n",
       "      <td>0.763394</td>\n",
       "      <td>0.85500</td>\n",
       "      <td>0.768</td>\n",
       "      <td>0.118740</td>\n",
       "      <td>9.450439</td>\n",
       "    </tr>\n",
       "    <tr>\n",
       "      <th>4</th>\n",
       "      <td>KNeighborsClassifier</td>\n",
       "      <td>GridSearchCV</td>\n",
       "      <td>0.824036</td>\n",
       "      <td>0.701205</td>\n",
       "      <td>0.82425</td>\n",
       "      <td>0.702</td>\n",
       "      <td>0.019428</td>\n",
       "      <td>1.309059</td>\n",
       "    </tr>\n",
       "    <tr>\n",
       "      <th>5</th>\n",
       "      <td>KNeighborsClassifier</td>\n",
       "      <td>RandomSearchCV</td>\n",
       "      <td>0.824036</td>\n",
       "      <td>0.701205</td>\n",
       "      <td>0.82425</td>\n",
       "      <td>0.702</td>\n",
       "      <td>0.018934</td>\n",
       "      <td>0.400724</td>\n",
       "    </tr>\n",
       "    <tr>\n",
       "      <th>6</th>\n",
       "      <td>SVM</td>\n",
       "      <td>GridSearchCV</td>\n",
       "      <td>0.946982</td>\n",
       "      <td>0.795189</td>\n",
       "      <td>0.94700</td>\n",
       "      <td>0.797</td>\n",
       "      <td>0.024799</td>\n",
       "      <td>3.385035</td>\n",
       "    </tr>\n",
       "    <tr>\n",
       "      <th>7</th>\n",
       "      <td>SVM</td>\n",
       "      <td>RandomSearchCV</td>\n",
       "      <td>0.932835</td>\n",
       "      <td>0.786652</td>\n",
       "      <td>0.93300</td>\n",
       "      <td>0.789</td>\n",
       "      <td>0.039580</td>\n",
       "      <td>1.438491</td>\n",
       "    </tr>\n",
       "  </tbody>\n",
       "</table>\n",
       "</div>"
      ],
      "text/plain": [
       "                  Model Search_strategy  train_f1_macro  test_f1_macro  \\\n",
       "0         Decision Tree    GridSearchCV        0.864609       0.764920   \n",
       "1         Decision Tree  RandomSearchCV        0.837848       0.754563   \n",
       "2         Random Forest    GridSearchCV        0.851217       0.764270   \n",
       "3         Random Forest  RandomSearchCV        0.853021       0.763394   \n",
       "4  KNeighborsClassifier    GridSearchCV        0.824036       0.701205   \n",
       "5  KNeighborsClassifier  RandomSearchCV        0.824036       0.701205   \n",
       "6                   SVM    GridSearchCV        0.946982       0.795189   \n",
       "7                   SVM  RandomSearchCV        0.932835       0.786652   \n",
       "\n",
       "   train_accuracy  test_accuracy  score_time   fit_time  \n",
       "0         0.86650          0.769    0.001489   1.823892  \n",
       "1         0.84150          0.761    0.002677   0.326788  \n",
       "2         0.85325          0.769    0.088784  20.244200  \n",
       "3         0.85500          0.768    0.118740   9.450439  \n",
       "4         0.82425          0.702    0.019428   1.309059  \n",
       "5         0.82425          0.702    0.018934   0.400724  \n",
       "6         0.94700          0.797    0.024799   3.385035  \n",
       "7         0.93300          0.789    0.039580   1.438491  "
      ]
     },
     "execution_count": 48,
     "metadata": {},
     "output_type": "execute_result"
    }
   ],
   "source": [
    "results"
   ]
  },
  {
   "cell_type": "code",
   "execution_count": 29,
   "metadata": {},
   "outputs": [],
   "source": [
    "def color(grid):\n",
    "    return ['background-color: red' if value == grid.max() else ('background-color: green' if value == grid.min() else '') for value in grid]"
   ]
  },
  {
   "cell_type": "code",
   "execution_count": null,
   "metadata": {},
   "outputs": [],
   "source": [
    "results_highlighted1= results.style.apply(color, subset=[\n",
    "                                  'train_f1_macro',\n",
    "                                  'test_f1_macro',\n",
    "                                  'train_accuracy',\n",
    "                                  'test_accuracy',\n",
    "                                  'score_time',\n",
    "                                  'fit_time'])"
   ]
  },
  {
   "cell_type": "code",
   "execution_count": 51,
   "metadata": {},
   "outputs": [
    {
     "data": {
      "text/html": [
       "<style  type=\"text/css\" >\n",
       "    #T_7e031240_7b74_11e9_a7fd_40490f6fd5e0row0_col6 {\n",
       "            background-color:  green;\n",
       "        }    #T_7e031240_7b74_11e9_a7fd_40490f6fd5e0row1_col7 {\n",
       "            background-color:  green;\n",
       "        }    #T_7e031240_7b74_11e9_a7fd_40490f6fd5e0row2_col7 {\n",
       "            background-color:  red;\n",
       "        }    #T_7e031240_7b74_11e9_a7fd_40490f6fd5e0row3_col6 {\n",
       "            background-color:  red;\n",
       "        }    #T_7e031240_7b74_11e9_a7fd_40490f6fd5e0row4_col2 {\n",
       "            background-color:  green;\n",
       "        }    #T_7e031240_7b74_11e9_a7fd_40490f6fd5e0row4_col3 {\n",
       "            background-color:  green;\n",
       "        }    #T_7e031240_7b74_11e9_a7fd_40490f6fd5e0row4_col4 {\n",
       "            background-color:  green;\n",
       "        }    #T_7e031240_7b74_11e9_a7fd_40490f6fd5e0row4_col5 {\n",
       "            background-color:  green;\n",
       "        }    #T_7e031240_7b74_11e9_a7fd_40490f6fd5e0row5_col2 {\n",
       "            background-color:  green;\n",
       "        }    #T_7e031240_7b74_11e9_a7fd_40490f6fd5e0row5_col3 {\n",
       "            background-color:  green;\n",
       "        }    #T_7e031240_7b74_11e9_a7fd_40490f6fd5e0row5_col4 {\n",
       "            background-color:  green;\n",
       "        }    #T_7e031240_7b74_11e9_a7fd_40490f6fd5e0row5_col5 {\n",
       "            background-color:  green;\n",
       "        }    #T_7e031240_7b74_11e9_a7fd_40490f6fd5e0row6_col2 {\n",
       "            background-color:  red;\n",
       "        }    #T_7e031240_7b74_11e9_a7fd_40490f6fd5e0row6_col3 {\n",
       "            background-color:  red;\n",
       "        }    #T_7e031240_7b74_11e9_a7fd_40490f6fd5e0row6_col4 {\n",
       "            background-color:  red;\n",
       "        }    #T_7e031240_7b74_11e9_a7fd_40490f6fd5e0row6_col5 {\n",
       "            background-color:  red;\n",
       "        }</style>  \n",
       "<table id=\"T_7e031240_7b74_11e9_a7fd_40490f6fd5e0\" > \n",
       "<thead>    <tr> \n",
       "        <th class=\"blank level0\" ></th> \n",
       "        <th class=\"col_heading level0 col0\" >Model</th> \n",
       "        <th class=\"col_heading level0 col1\" >Search_strategy</th> \n",
       "        <th class=\"col_heading level0 col2\" >train_f1_macro</th> \n",
       "        <th class=\"col_heading level0 col3\" >test_f1_macro</th> \n",
       "        <th class=\"col_heading level0 col4\" >train_accuracy</th> \n",
       "        <th class=\"col_heading level0 col5\" >test_accuracy</th> \n",
       "        <th class=\"col_heading level0 col6\" >score_time</th> \n",
       "        <th class=\"col_heading level0 col7\" >fit_time</th> \n",
       "    </tr></thead> \n",
       "<tbody>    <tr> \n",
       "        <th id=\"T_7e031240_7b74_11e9_a7fd_40490f6fd5e0level0_row0\" class=\"row_heading level0 row0\" >0</th> \n",
       "        <td id=\"T_7e031240_7b74_11e9_a7fd_40490f6fd5e0row0_col0\" class=\"data row0 col0\" >Decision Tree</td> \n",
       "        <td id=\"T_7e031240_7b74_11e9_a7fd_40490f6fd5e0row0_col1\" class=\"data row0 col1\" >GridSearchCV</td> \n",
       "        <td id=\"T_7e031240_7b74_11e9_a7fd_40490f6fd5e0row0_col2\" class=\"data row0 col2\" >0.864609</td> \n",
       "        <td id=\"T_7e031240_7b74_11e9_a7fd_40490f6fd5e0row0_col3\" class=\"data row0 col3\" >0.76492</td> \n",
       "        <td id=\"T_7e031240_7b74_11e9_a7fd_40490f6fd5e0row0_col4\" class=\"data row0 col4\" >0.8665</td> \n",
       "        <td id=\"T_7e031240_7b74_11e9_a7fd_40490f6fd5e0row0_col5\" class=\"data row0 col5\" >0.769</td> \n",
       "        <td id=\"T_7e031240_7b74_11e9_a7fd_40490f6fd5e0row0_col6\" class=\"data row0 col6\" >0.00148883</td> \n",
       "        <td id=\"T_7e031240_7b74_11e9_a7fd_40490f6fd5e0row0_col7\" class=\"data row0 col7\" >1.82389</td> \n",
       "    </tr>    <tr> \n",
       "        <th id=\"T_7e031240_7b74_11e9_a7fd_40490f6fd5e0level0_row1\" class=\"row_heading level0 row1\" >1</th> \n",
       "        <td id=\"T_7e031240_7b74_11e9_a7fd_40490f6fd5e0row1_col0\" class=\"data row1 col0\" >Decision Tree</td> \n",
       "        <td id=\"T_7e031240_7b74_11e9_a7fd_40490f6fd5e0row1_col1\" class=\"data row1 col1\" >RandomSearchCV</td> \n",
       "        <td id=\"T_7e031240_7b74_11e9_a7fd_40490f6fd5e0row1_col2\" class=\"data row1 col2\" >0.837848</td> \n",
       "        <td id=\"T_7e031240_7b74_11e9_a7fd_40490f6fd5e0row1_col3\" class=\"data row1 col3\" >0.754563</td> \n",
       "        <td id=\"T_7e031240_7b74_11e9_a7fd_40490f6fd5e0row1_col4\" class=\"data row1 col4\" >0.8415</td> \n",
       "        <td id=\"T_7e031240_7b74_11e9_a7fd_40490f6fd5e0row1_col5\" class=\"data row1 col5\" >0.761</td> \n",
       "        <td id=\"T_7e031240_7b74_11e9_a7fd_40490f6fd5e0row1_col6\" class=\"data row1 col6\" >0.00267706</td> \n",
       "        <td id=\"T_7e031240_7b74_11e9_a7fd_40490f6fd5e0row1_col7\" class=\"data row1 col7\" >0.326788</td> \n",
       "    </tr>    <tr> \n",
       "        <th id=\"T_7e031240_7b74_11e9_a7fd_40490f6fd5e0level0_row2\" class=\"row_heading level0 row2\" >2</th> \n",
       "        <td id=\"T_7e031240_7b74_11e9_a7fd_40490f6fd5e0row2_col0\" class=\"data row2 col0\" >Random Forest</td> \n",
       "        <td id=\"T_7e031240_7b74_11e9_a7fd_40490f6fd5e0row2_col1\" class=\"data row2 col1\" >GridSearchCV</td> \n",
       "        <td id=\"T_7e031240_7b74_11e9_a7fd_40490f6fd5e0row2_col2\" class=\"data row2 col2\" >0.851217</td> \n",
       "        <td id=\"T_7e031240_7b74_11e9_a7fd_40490f6fd5e0row2_col3\" class=\"data row2 col3\" >0.76427</td> \n",
       "        <td id=\"T_7e031240_7b74_11e9_a7fd_40490f6fd5e0row2_col4\" class=\"data row2 col4\" >0.85325</td> \n",
       "        <td id=\"T_7e031240_7b74_11e9_a7fd_40490f6fd5e0row2_col5\" class=\"data row2 col5\" >0.769</td> \n",
       "        <td id=\"T_7e031240_7b74_11e9_a7fd_40490f6fd5e0row2_col6\" class=\"data row2 col6\" >0.0887841</td> \n",
       "        <td id=\"T_7e031240_7b74_11e9_a7fd_40490f6fd5e0row2_col7\" class=\"data row2 col7\" >20.2442</td> \n",
       "    </tr>    <tr> \n",
       "        <th id=\"T_7e031240_7b74_11e9_a7fd_40490f6fd5e0level0_row3\" class=\"row_heading level0 row3\" >3</th> \n",
       "        <td id=\"T_7e031240_7b74_11e9_a7fd_40490f6fd5e0row3_col0\" class=\"data row3 col0\" >Random Forest</td> \n",
       "        <td id=\"T_7e031240_7b74_11e9_a7fd_40490f6fd5e0row3_col1\" class=\"data row3 col1\" >RandomSearchCV</td> \n",
       "        <td id=\"T_7e031240_7b74_11e9_a7fd_40490f6fd5e0row3_col2\" class=\"data row3 col2\" >0.853021</td> \n",
       "        <td id=\"T_7e031240_7b74_11e9_a7fd_40490f6fd5e0row3_col3\" class=\"data row3 col3\" >0.763394</td> \n",
       "        <td id=\"T_7e031240_7b74_11e9_a7fd_40490f6fd5e0row3_col4\" class=\"data row3 col4\" >0.855</td> \n",
       "        <td id=\"T_7e031240_7b74_11e9_a7fd_40490f6fd5e0row3_col5\" class=\"data row3 col5\" >0.768</td> \n",
       "        <td id=\"T_7e031240_7b74_11e9_a7fd_40490f6fd5e0row3_col6\" class=\"data row3 col6\" >0.11874</td> \n",
       "        <td id=\"T_7e031240_7b74_11e9_a7fd_40490f6fd5e0row3_col7\" class=\"data row3 col7\" >9.45044</td> \n",
       "    </tr>    <tr> \n",
       "        <th id=\"T_7e031240_7b74_11e9_a7fd_40490f6fd5e0level0_row4\" class=\"row_heading level0 row4\" >4</th> \n",
       "        <td id=\"T_7e031240_7b74_11e9_a7fd_40490f6fd5e0row4_col0\" class=\"data row4 col0\" >KNeighborsClassifier</td> \n",
       "        <td id=\"T_7e031240_7b74_11e9_a7fd_40490f6fd5e0row4_col1\" class=\"data row4 col1\" >GridSearchCV</td> \n",
       "        <td id=\"T_7e031240_7b74_11e9_a7fd_40490f6fd5e0row4_col2\" class=\"data row4 col2\" >0.824036</td> \n",
       "        <td id=\"T_7e031240_7b74_11e9_a7fd_40490f6fd5e0row4_col3\" class=\"data row4 col3\" >0.701205</td> \n",
       "        <td id=\"T_7e031240_7b74_11e9_a7fd_40490f6fd5e0row4_col4\" class=\"data row4 col4\" >0.82425</td> \n",
       "        <td id=\"T_7e031240_7b74_11e9_a7fd_40490f6fd5e0row4_col5\" class=\"data row4 col5\" >0.702</td> \n",
       "        <td id=\"T_7e031240_7b74_11e9_a7fd_40490f6fd5e0row4_col6\" class=\"data row4 col6\" >0.0194275</td> \n",
       "        <td id=\"T_7e031240_7b74_11e9_a7fd_40490f6fd5e0row4_col7\" class=\"data row4 col7\" >1.30906</td> \n",
       "    </tr>    <tr> \n",
       "        <th id=\"T_7e031240_7b74_11e9_a7fd_40490f6fd5e0level0_row5\" class=\"row_heading level0 row5\" >5</th> \n",
       "        <td id=\"T_7e031240_7b74_11e9_a7fd_40490f6fd5e0row5_col0\" class=\"data row5 col0\" >KNeighborsClassifier</td> \n",
       "        <td id=\"T_7e031240_7b74_11e9_a7fd_40490f6fd5e0row5_col1\" class=\"data row5 col1\" >RandomSearchCV</td> \n",
       "        <td id=\"T_7e031240_7b74_11e9_a7fd_40490f6fd5e0row5_col2\" class=\"data row5 col2\" >0.824036</td> \n",
       "        <td id=\"T_7e031240_7b74_11e9_a7fd_40490f6fd5e0row5_col3\" class=\"data row5 col3\" >0.701205</td> \n",
       "        <td id=\"T_7e031240_7b74_11e9_a7fd_40490f6fd5e0row5_col4\" class=\"data row5 col4\" >0.82425</td> \n",
       "        <td id=\"T_7e031240_7b74_11e9_a7fd_40490f6fd5e0row5_col5\" class=\"data row5 col5\" >0.702</td> \n",
       "        <td id=\"T_7e031240_7b74_11e9_a7fd_40490f6fd5e0row5_col6\" class=\"data row5 col6\" >0.0189343</td> \n",
       "        <td id=\"T_7e031240_7b74_11e9_a7fd_40490f6fd5e0row5_col7\" class=\"data row5 col7\" >0.400724</td> \n",
       "    </tr>    <tr> \n",
       "        <th id=\"T_7e031240_7b74_11e9_a7fd_40490f6fd5e0level0_row6\" class=\"row_heading level0 row6\" >6</th> \n",
       "        <td id=\"T_7e031240_7b74_11e9_a7fd_40490f6fd5e0row6_col0\" class=\"data row6 col0\" >SVM</td> \n",
       "        <td id=\"T_7e031240_7b74_11e9_a7fd_40490f6fd5e0row6_col1\" class=\"data row6 col1\" >GridSearchCV</td> \n",
       "        <td id=\"T_7e031240_7b74_11e9_a7fd_40490f6fd5e0row6_col2\" class=\"data row6 col2\" >0.946982</td> \n",
       "        <td id=\"T_7e031240_7b74_11e9_a7fd_40490f6fd5e0row6_col3\" class=\"data row6 col3\" >0.795189</td> \n",
       "        <td id=\"T_7e031240_7b74_11e9_a7fd_40490f6fd5e0row6_col4\" class=\"data row6 col4\" >0.947</td> \n",
       "        <td id=\"T_7e031240_7b74_11e9_a7fd_40490f6fd5e0row6_col5\" class=\"data row6 col5\" >0.797</td> \n",
       "        <td id=\"T_7e031240_7b74_11e9_a7fd_40490f6fd5e0row6_col6\" class=\"data row6 col6\" >0.0247992</td> \n",
       "        <td id=\"T_7e031240_7b74_11e9_a7fd_40490f6fd5e0row6_col7\" class=\"data row6 col7\" >3.38503</td> \n",
       "    </tr>    <tr> \n",
       "        <th id=\"T_7e031240_7b74_11e9_a7fd_40490f6fd5e0level0_row7\" class=\"row_heading level0 row7\" >7</th> \n",
       "        <td id=\"T_7e031240_7b74_11e9_a7fd_40490f6fd5e0row7_col0\" class=\"data row7 col0\" >SVM</td> \n",
       "        <td id=\"T_7e031240_7b74_11e9_a7fd_40490f6fd5e0row7_col1\" class=\"data row7 col1\" >RandomSearchCV</td> \n",
       "        <td id=\"T_7e031240_7b74_11e9_a7fd_40490f6fd5e0row7_col2\" class=\"data row7 col2\" >0.932835</td> \n",
       "        <td id=\"T_7e031240_7b74_11e9_a7fd_40490f6fd5e0row7_col3\" class=\"data row7 col3\" >0.786652</td> \n",
       "        <td id=\"T_7e031240_7b74_11e9_a7fd_40490f6fd5e0row7_col4\" class=\"data row7 col4\" >0.933</td> \n",
       "        <td id=\"T_7e031240_7b74_11e9_a7fd_40490f6fd5e0row7_col5\" class=\"data row7 col5\" >0.789</td> \n",
       "        <td id=\"T_7e031240_7b74_11e9_a7fd_40490f6fd5e0row7_col6\" class=\"data row7 col6\" >0.0395802</td> \n",
       "        <td id=\"T_7e031240_7b74_11e9_a7fd_40490f6fd5e0row7_col7\" class=\"data row7 col7\" >1.43849</td> \n",
       "    </tr></tbody> \n",
       "</table> "
      ],
      "text/plain": [
       "<pandas.io.formats.style.Styler at 0x241c6b37208>"
      ]
     },
     "execution_count": 51,
     "metadata": {},
     "output_type": "execute_result"
    }
   ],
   "source": [
    "results_highlighted1"
   ]
  },
  {
   "cell_type": "markdown",
   "metadata": {},
   "source": [
    "- Pe acest set de testare rezultatele cele mai bune pentru <b>scorul f1 si acuratete</b> au fost obtinute cu modelul de clasificare <b>SVM</b> si strategia de cautare <b>GridSearchCV</b>;\n",
    "- <b>Timpul cel mai scurt pentru scoring</b> l-a avut modelul <b>Decision Tree</b>, cu strategia de cautare <b>GridSearchCV</b>;\n",
    "- <b>Timpul cel mai scurt pentru fit-ul datelor</b> a fost tot la modelul <b>Decision Tree</b>, insa cu strategia de cautare a hiperparametrilor <b>RandomSearchCV</b>;\n"
   ]
  }
 ],
 "metadata": {
  "kernelspec": {
   "display_name": "Python 3",
   "language": "python",
   "name": "python3"
  },
  "language_info": {
   "codemirror_mode": {
    "name": "ipython",
    "version": 3
   },
   "file_extension": ".py",
   "mimetype": "text/x-python",
   "name": "python",
   "nbconvert_exporter": "python",
   "pygments_lexer": "ipython3",
   "version": "3.7.1"
  }
 },
 "nbformat": 4,
 "nbformat_minor": 2
}
