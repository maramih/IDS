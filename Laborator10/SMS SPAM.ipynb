{
 "cells": [
  {
   "cell_type": "code",
   "execution_count": 1,
   "metadata": {},
   "outputs": [
    {
     "data": {
      "text/plain": [
       "'\\nEste un algoritm de învățare supervizată bazat pe asocieri care nu\\nnecesită o etapă de antrenare propriu-zisă. Se bazează pe învățarea prin analogie și\\nstabilește clasa corespunzătoare unui exemplu de testare pe baza similarității acestuia\\ncu k exemple, cele mai similare, din setul de date de antrenament.\\nCele k exemple luate în considerare vor stabili clasa exemplului de test pe baza votului majoritar. \\n'"
      ]
     },
     "execution_count": 1,
     "metadata": {},
     "output_type": "execute_result"
    }
   ],
   "source": [
    "import pandas as pd\n",
    "from sklearn.datasets import load_files\n",
    "import numpy as np\n",
    "from sklearn.model_selection import train_test_split,cross_val_score,KFold\n",
    "from sklearn import metrics\n",
    "from sklearn.metrics import accuracy_score, f1_score\n",
    "from sklearn.model_selection import GridSearchCV\n",
    "from sklearn.model_selection import cross_validate\n",
    "import warnings\n",
    "warnings.filterwarnings('ignore')\n",
    "from sklearn.model_selection import RandomizedSearchCV\n",
    "\n",
    "from sklearn.neural_network import MLPClassifier\n",
    "'''\n",
    "MLP (Perceptronul multistrat) este un algoritm supervizat de învățare.\n",
    "Acesta învață o funcție, prin antrenament pe un set de date.\n",
    "Cu ajutorul unui set de caracteristici și a rezultatului acestora poate învăța să aproximeze o funcție nonlineară,\n",
    "fie pentru clasificare, fie pentru regresie.\n",
    "Perceptronul Multistrat este diferit de regresiile logistice în sensul că între stratul de intrare și cel de ieșire\n",
    "pot exista unul sau mai multe straturi neliniare, numite straturi ascunse.\n",
    "\n",
    "https://scikit-learn.org/stable/modules/neural_networks_supervised.html\n",
    "'''\n",
    "from sklearn import svm\n",
    "'''\n",
    "În general, SVM sunt considerate a fi o abordare de clasificare, dar pot fi utilizate în ambele\n",
    "tipuri de probleme de clasificare și regresie.\n",
    "Se poate ocupa cu ușurință mai multe variabile continue și categorice.\n",
    "SVM construiește un hyperplan în spațiul multidimensional pentru a separa diferite clase.\n",
    "SVM generează un hyperplan optim într-o manieră iterativă, care este folosită pentru a minimiza o eroare.\n",
    "Ideea principală a SVM este găsirea unui hiperplan marginal maxim (MMH) care divide cel mai bine setul de date în clase.\n",
    "Clasificatorul separă punctele de date utilizând un hyperplane cu cea mai mare valoare a marjei. De aceea, un clasificator\n",
    "SVM este, de asemenea, cunoscut ca un clasificator discriminativ.\n",
    "SVM oferă o precizie foarte mare în comparație cu alți clasificatori, cum ar fi regresia logistică și arborii de decizie.\n",
    "'''\n",
    "from sklearn import tree #Decision tree\n",
    "'''\n",
    "Are ca scop divizarea unei colecţii în seturi mai mici prin aplicarea succesivă a unor reguli de decizie.\n",
    "În arborele de decizie, nodurile rădăcină și interne conțin condiții de testare a atributelor pentru a separa\n",
    "înregistrările care au caracteristici diferite.\n",
    "'''\n",
    "from sklearn.ensemble import RandomForestClassifier\n",
    "'''\n",
    "Random Forest Classifier este o metoda de clasificare, regresie si alte sarcini care opereaza prin construirea prin construirea\n",
    "unei multitudini de arbori de decizie în timpul antrenării și furnizarea clasei necesare clasificării sau a mediei (în cazul\n",
    "unei regresii) a arborilor individuali. De asemenea, corectează obiceiul de overfitting pe setul de antrenare.\n",
    "'''\n",
    "\n",
    "from sklearn.neighbors import KNeighborsClassifier\n",
    "'''\n",
    "Este un algoritm de învățare supervizată bazat pe asocieri care nu\n",
    "necesită o etapă de antrenare propriu-zisă. Se bazează pe învățarea prin analogie și\n",
    "stabilește clasa corespunzătoare unui exemplu de testare pe baza similarității acestuia\n",
    "cu k exemple, cele mai similare, din setul de date de antrenament.\n",
    "Cele k exemple luate în considerare vor stabili clasa exemplului de test pe baza votului majoritar. \n",
    "'''"
   ]
  },
  {
   "cell_type": "markdown",
   "metadata": {},
   "source": [
    "<h1> Setul de date IMDB </h1>\n",
    "\n",
    "- Descriere:\n",
    "Contine o colectie de SMS-uri care au fost colectate pentru un research.\n",
    "Este un set de 5557 de mesaje, etichetate ca ham (sigure) sau spam.\n",
    "\n",
    "- Continut/Problema:\n",
    " * o colectie  de 425 de SMS-uri spam extrase manual de pe Grumbletext Web(un forum din UK in care utilizatorii de telefoane mobile dezbat public despre SMS-urile spam, cei mai multi dintre acestia neraportand fiecare mesaj spam primit.) Identificarea textului mesajelor spam este un lucru foarte dificil si care necesita mult timp, de asemenea, implicand si scanarea a sute de pagini web.\n",
    " * un subset de 3375 de sms-uri normale preluate de la NUS SMS Corpus, care este un fond de baza cu 10 000 mesaje sigure colectate pentru un research efectuat de catre Departamentul de Computer Science at NU Singapore. (http://www.comp.nus.edu.sg/~rpnlpir/downloads/corpora/smsCorpus/)\n",
    " * o lista de 450 de SMS-uri sigure colectate din teza de doctorat a lui Caroline Tag (http://etheses.bham.ac.uk/253/1/Tagg09PhD.pdf)\n",
    " * o colectie de 1002 mesaje sigure si 332 de mesaje spam extrase din SMS Spam Corpus creat de Jose Maria Gomez Hidalgo care este public si se poate gasi aici: http://www.esp.uem.es/jmgomez/smsspamcorpus/\n",
    "\n",
    "- Format:\n",
    "Intrarile contin un mesaj pe fiecare linie.\n",
    "Fiecare linie este alcatuita din doua coloane, una pentru eticheta si alta pentru continutul mesajului.\n",
    "\n",
    "Nota: Mesajele nu sunt sortate in ordine cronologica.\n",
    "\n",
    "- Se urmareste analizarea mesajelor pentru a determina daca este un spam sau nu; \n"
   ]
  },
  {
   "cell_type": "code",
   "execution_count": 4,
   "metadata": {},
   "outputs": [],
   "source": [
    "namesCol = [\"Type\",\"Text\"]\n",
    "df=pd.read_csv('SMSSpamCollection', delimiter = '\\t', header = None, names=namesCol)"
   ]
  },
  {
   "cell_type": "code",
   "execution_count": 5,
   "metadata": {},
   "outputs": [
    {
     "data": {
      "text/html": [
       "<div>\n",
       "<style scoped>\n",
       "    .dataframe tbody tr th:only-of-type {\n",
       "        vertical-align: middle;\n",
       "    }\n",
       "\n",
       "    .dataframe tbody tr th {\n",
       "        vertical-align: top;\n",
       "    }\n",
       "\n",
       "    .dataframe thead th {\n",
       "        text-align: right;\n",
       "    }\n",
       "</style>\n",
       "<table border=\"1\" class=\"dataframe\">\n",
       "  <thead>\n",
       "    <tr style=\"text-align: right;\">\n",
       "      <th></th>\n",
       "      <th>Type</th>\n",
       "      <th>Text</th>\n",
       "    </tr>\n",
       "  </thead>\n",
       "  <tbody>\n",
       "    <tr>\n",
       "      <th>0</th>\n",
       "      <td>ham</td>\n",
       "      <td>Go until jurong point, crazy.. Available only ...</td>\n",
       "    </tr>\n",
       "    <tr>\n",
       "      <th>1</th>\n",
       "      <td>ham</td>\n",
       "      <td>Ok lar... Joking wif u oni...</td>\n",
       "    </tr>\n",
       "    <tr>\n",
       "      <th>2</th>\n",
       "      <td>spam</td>\n",
       "      <td>Free entry in 2 a wkly comp to win FA Cup fina...</td>\n",
       "    </tr>\n",
       "    <tr>\n",
       "      <th>3</th>\n",
       "      <td>ham</td>\n",
       "      <td>U dun say so early hor... U c already then say...</td>\n",
       "    </tr>\n",
       "    <tr>\n",
       "      <th>4</th>\n",
       "      <td>ham</td>\n",
       "      <td>Nah I don't think he goes to usf, he lives aro...</td>\n",
       "    </tr>\n",
       "  </tbody>\n",
       "</table>\n",
       "</div>"
      ],
      "text/plain": [
       "   Type                                               Text\n",
       "0   ham  Go until jurong point, crazy.. Available only ...\n",
       "1   ham                      Ok lar... Joking wif u oni...\n",
       "2  spam  Free entry in 2 a wkly comp to win FA Cup fina...\n",
       "3   ham  U dun say so early hor... U c already then say...\n",
       "4   ham  Nah I don't think he goes to usf, he lives aro..."
      ]
     },
     "execution_count": 5,
     "metadata": {},
     "output_type": "execute_result"
    }
   ],
   "source": [
    "df.head()"
   ]
  },
  {
   "cell_type": "code",
   "execution_count": 6,
   "metadata": {},
   "outputs": [
    {
     "name": "stdout",
     "output_type": "stream",
     "text": [
      "Dimensiunea tabelului este:  (5572, 2)\n"
     ]
    }
   ],
   "source": [
    "print(\"Dimensiunea tabelului este: \", df.shape)"
   ]
  },
  {
   "cell_type": "code",
   "execution_count": 75,
   "metadata": {},
   "outputs": [
    {
     "data": {
      "text/html": [
       "<div>\n",
       "<style scoped>\n",
       "    .dataframe tbody tr th:only-of-type {\n",
       "        vertical-align: middle;\n",
       "    }\n",
       "\n",
       "    .dataframe tbody tr th {\n",
       "        vertical-align: top;\n",
       "    }\n",
       "\n",
       "    .dataframe thead th {\n",
       "        text-align: right;\n",
       "    }\n",
       "</style>\n",
       "<table border=\"1\" class=\"dataframe\">\n",
       "  <thead>\n",
       "    <tr style=\"text-align: right;\">\n",
       "      <th></th>\n",
       "      <th>text_len</th>\n",
       "      <th>word_count</th>\n",
       "    </tr>\n",
       "  </thead>\n",
       "  <tbody>\n",
       "    <tr>\n",
       "      <th>count</th>\n",
       "      <td>5572.000000</td>\n",
       "      <td>5572.000000</td>\n",
       "    </tr>\n",
       "    <tr>\n",
       "      <th>mean</th>\n",
       "      <td>73.928212</td>\n",
       "      <td>14.957645</td>\n",
       "    </tr>\n",
       "    <tr>\n",
       "      <th>std</th>\n",
       "      <td>54.924539</td>\n",
       "      <td>10.856417</td>\n",
       "    </tr>\n",
       "    <tr>\n",
       "      <th>min</th>\n",
       "      <td>0.000000</td>\n",
       "      <td>0.000000</td>\n",
       "    </tr>\n",
       "    <tr>\n",
       "      <th>25%</th>\n",
       "      <td>33.000000</td>\n",
       "      <td>7.000000</td>\n",
       "    </tr>\n",
       "    <tr>\n",
       "      <th>50%</th>\n",
       "      <td>57.000000</td>\n",
       "      <td>12.000000</td>\n",
       "    </tr>\n",
       "    <tr>\n",
       "      <th>75%</th>\n",
       "      <td>111.000000</td>\n",
       "      <td>21.000000</td>\n",
       "    </tr>\n",
       "    <tr>\n",
       "      <th>max</th>\n",
       "      <td>888.000000</td>\n",
       "      <td>171.000000</td>\n",
       "    </tr>\n",
       "  </tbody>\n",
       "</table>\n",
       "</div>"
      ],
      "text/plain": [
       "          text_len   word_count\n",
       "count  5572.000000  5572.000000\n",
       "mean     73.928212    14.957645\n",
       "std      54.924539    10.856417\n",
       "min       0.000000     0.000000\n",
       "25%      33.000000     7.000000\n",
       "50%      57.000000    12.000000\n",
       "75%     111.000000    21.000000\n",
       "max     888.000000   171.000000"
      ]
     },
     "execution_count": 75,
     "metadata": {},
     "output_type": "execute_result"
    }
   ],
   "source": [
    "df.describe()"
   ]
  },
  {
   "cell_type": "markdown",
   "metadata": {},
   "source": [
    "- lungimea maxima a unei recenzii este de 171 de cuvinte\n",
    "- lungimea minima a unei recenzii este de 0 cuvinte, deci s-au trimis semne de punctuatie\n",
    "- lungimea medie  a unei recenzii este de 15 cuvinte"
   ]
  },
  {
   "cell_type": "code",
   "execution_count": 77,
   "metadata": {},
   "outputs": [
    {
     "data": {
      "text/html": [
       "<div>\n",
       "<style scoped>\n",
       "    .dataframe tbody tr th:only-of-type {\n",
       "        vertical-align: middle;\n",
       "    }\n",
       "\n",
       "    .dataframe tbody tr th {\n",
       "        vertical-align: top;\n",
       "    }\n",
       "\n",
       "    .dataframe thead th {\n",
       "        text-align: right;\n",
       "    }\n",
       "</style>\n",
       "<table border=\"1\" class=\"dataframe\">\n",
       "  <thead>\n",
       "    <tr style=\"text-align: right;\">\n",
       "      <th></th>\n",
       "      <th>Type</th>\n",
       "      <th>Text</th>\n",
       "    </tr>\n",
       "  </thead>\n",
       "  <tbody>\n",
       "    <tr>\n",
       "      <th>count</th>\n",
       "      <td>5572</td>\n",
       "      <td>5572</td>\n",
       "    </tr>\n",
       "    <tr>\n",
       "      <th>unique</th>\n",
       "      <td>2</td>\n",
       "      <td>5117</td>\n",
       "    </tr>\n",
       "    <tr>\n",
       "      <th>top</th>\n",
       "      <td>ham</td>\n",
       "      <td>sorry ill call later</td>\n",
       "    </tr>\n",
       "    <tr>\n",
       "      <th>freq</th>\n",
       "      <td>4825</td>\n",
       "      <td>30</td>\n",
       "    </tr>\n",
       "  </tbody>\n",
       "</table>\n",
       "</div>"
      ],
      "text/plain": [
       "        Type                  Text\n",
       "count   5572                  5572\n",
       "unique     2                  5117\n",
       "top      ham  sorry ill call later\n",
       "freq    4825                    30"
      ]
     },
     "execution_count": 77,
     "metadata": {},
     "output_type": "execute_result"
    }
   ],
   "source": [
    "df.describe(include=['O'])"
   ]
  },
  {
   "cell_type": "markdown",
   "metadata": {},
   "source": [
    "- convertim textul la scriere cu litera mica pentru a evita ca de exemplu \"Plot\" si \"plot\" sa fie luate ca elemente diferite"
   ]
  },
  {
   "cell_type": "code",
   "execution_count": 13,
   "metadata": {},
   "outputs": [],
   "source": [
    "df['Text']=df['Text'].str.lower()"
   ]
  },
  {
   "cell_type": "markdown",
   "metadata": {},
   "source": [
    "- eliminam cifrele"
   ]
  },
  {
   "cell_type": "code",
   "execution_count": 7,
   "metadata": {},
   "outputs": [],
   "source": [
    "import re\n",
    "df['Text']=df['Text'].str.replace(r'\\d+','')"
   ]
  },
  {
   "cell_type": "code",
   "execution_count": 9,
   "metadata": {},
   "outputs": [],
   "source": [
    "import string\n",
    "df['Text']=df['Text'].str.translate(str.maketrans('', '', string.punctuation))"
   ]
  },
  {
   "cell_type": "markdown",
   "metadata": {},
   "source": [
    "- adaugam coloane noi pentru numarul de cuvinte pe care il contine o recenzie si pentru lungimea recenziei\n"
   ]
  },
  {
   "cell_type": "code",
   "execution_count": 11,
   "metadata": {},
   "outputs": [],
   "source": [
    "df['text_len'] = df['Text'].astype(str).apply(len)\n",
    "df['word_count'] = df['Text'].apply(lambda x: len(str(x).split()))"
   ]
  },
  {
   "cell_type": "code",
   "execution_count": 14,
   "metadata": {},
   "outputs": [
    {
     "data": {
      "text/html": [
       "<div>\n",
       "<style scoped>\n",
       "    .dataframe tbody tr th:only-of-type {\n",
       "        vertical-align: middle;\n",
       "    }\n",
       "\n",
       "    .dataframe tbody tr th {\n",
       "        vertical-align: top;\n",
       "    }\n",
       "\n",
       "    .dataframe thead th {\n",
       "        text-align: right;\n",
       "    }\n",
       "</style>\n",
       "<table border=\"1\" class=\"dataframe\">\n",
       "  <thead>\n",
       "    <tr style=\"text-align: right;\">\n",
       "      <th></th>\n",
       "      <th>Type</th>\n",
       "      <th>Text</th>\n",
       "      <th>text_len</th>\n",
       "      <th>word_count</th>\n",
       "    </tr>\n",
       "  </thead>\n",
       "  <tbody>\n",
       "    <tr>\n",
       "      <th>0</th>\n",
       "      <td>ham</td>\n",
       "      <td>go until jurong point crazy available only in ...</td>\n",
       "      <td>102</td>\n",
       "      <td>20</td>\n",
       "    </tr>\n",
       "    <tr>\n",
       "      <th>1</th>\n",
       "      <td>ham</td>\n",
       "      <td>ok lar joking wif u oni</td>\n",
       "      <td>23</td>\n",
       "      <td>6</td>\n",
       "    </tr>\n",
       "    <tr>\n",
       "      <th>2</th>\n",
       "      <td>spam</td>\n",
       "      <td>free entry in  a wkly comp to win fa cup final...</td>\n",
       "      <td>124</td>\n",
       "      <td>25</td>\n",
       "    </tr>\n",
       "    <tr>\n",
       "      <th>3</th>\n",
       "      <td>ham</td>\n",
       "      <td>u dun say so early hor u c already then say</td>\n",
       "      <td>43</td>\n",
       "      <td>11</td>\n",
       "    </tr>\n",
       "    <tr>\n",
       "      <th>4</th>\n",
       "      <td>ham</td>\n",
       "      <td>nah i dont think he goes to usf he lives aroun...</td>\n",
       "      <td>59</td>\n",
       "      <td>13</td>\n",
       "    </tr>\n",
       "  </tbody>\n",
       "</table>\n",
       "</div>"
      ],
      "text/plain": [
       "   Type                                               Text  text_len  \\\n",
       "0   ham  go until jurong point crazy available only in ...       102   \n",
       "1   ham                            ok lar joking wif u oni        23   \n",
       "2  spam  free entry in  a wkly comp to win fa cup final...       124   \n",
       "3   ham        u dun say so early hor u c already then say        43   \n",
       "4   ham  nah i dont think he goes to usf he lives aroun...        59   \n",
       "\n",
       "   word_count  \n",
       "0          20  \n",
       "1           6  \n",
       "2          25  \n",
       "3          11  \n",
       "4          13  "
      ]
     },
     "execution_count": 14,
     "metadata": {},
     "output_type": "execute_result"
    }
   ],
   "source": [
    "df.head()"
   ]
  },
  {
   "cell_type": "code",
   "execution_count": 87,
   "metadata": {},
   "outputs": [
    {
     "data": {
      "image/png": "[encoded data removed]",
      "text/plain": [
       "<Figure size 432x288 with 1 Axes>"
      ]
     },
     "metadata": {
      "needs_background": "light"
     },
     "output_type": "display_data"
    }
   ],
   "source": [
    "import matplotlib.pyplot as plt\n",
    "ax=df.plot(1,\n",
    "    legend=True,\n",
    "    title='Review Text Length Distribution')\n",
    "ax.set_xlabel(\"Text\")\n",
    "ax.set_ylabel(\"Text length\")\n",
    "plt.show()"
   ]
  },
  {
   "cell_type": "code",
   "execution_count": 88,
   "metadata": {},
   "outputs": [
    {
     "data": {
      "image/png": "[encoded data removed]",
      "text/plain": [
       "<Figure size 432x288 with 1 Axes>"
      ]
     },
     "metadata": {
      "needs_background": "light"
     },
     "output_type": "display_data"
    }
   ],
   "source": [
    "ax=df.plot(2,3,\n",
    "    kind='scatter',\n",
    "    legend=True,\n",
    "    title='Review Sentiment Distribution')\n",
    "ax.set_xlabel(\"Text length\")\n",
    "ax.set_ylabel(\"Sentiment\")\n",
    "plt.show()"
   ]
  },
  {
   "cell_type": "code",
   "execution_count": 91,
   "metadata": {},
   "outputs": [
    {
     "data": {
      "image/png": "[encoded data removed]",
      "text/plain": [
       "<Figure size 432x288 with 1 Axes>"
      ]
     },
     "metadata": {
      "needs_background": "light"
     },
     "output_type": "display_data"
    }
   ],
   "source": [
    "ax=plt.plot(y,df['text_len'], 'ro')\n",
    "plt.show()"
   ]
  },
  {
   "cell_type": "code",
   "execution_count": 28,
   "metadata": {},
   "outputs": [
    {
     "name": "stdout",
     "output_type": "stream",
     "text": [
      "['go until jurong point crazy available only in bugis n great world la e buffet cine there got amore wat'\n",
      " 'ok lar joking wif u oni'\n",
      " 'free entry in  a wkly comp to win fa cup final tkts st may  text fa to  to receive entry questionstd txt ratetcs apply overs'\n",
      " ... 'pity  was in mood for that soany other suggestions'\n",
      " 'the guy did some bitching but i acted like id be interested in buying something else next week and he gave it to us for free'\n",
      " 'rofl its true to its name']\n"
     ]
    }
   ],
   "source": [
    "X=df.iloc[:,1].values\n",
    "y=np.array([0 if x=='ham'else 1 for x in df.iloc[:,0]])"
   ]
  },
  {
   "cell_type": "markdown",
   "metadata": {},
   "source": [
    "- se foloseste clasa <b>CountVectorizer</b>, care serveste la selectarea cuvintelor din text si calculul frecventei de aparitie;\n",
    "- prin aplicarea metodei transform se va obtine un vector <b>Bag Of Words</b>;"
   ]
  },
  {
   "cell_type": "code",
   "execution_count": 30,
   "metadata": {},
   "outputs": [],
   "source": [
    "from sklearn.feature_extraction.text import CountVectorizer\n",
    "\n",
    "vec = CountVectorizer().fit(df['Text'])\n",
    "bag_of_words = vec.transform(df['Text'])\n",
    "sum_words = bag_of_words.sum(axis=0) \n",
    "words_freq = [(word, sum_words[0, idx]) for word, idx in vec.vocabulary_.items()]\n",
    "words_freq =sorted(words_freq, key = lambda x: x[1], reverse=True)"
   ]
  },
  {
   "cell_type": "code",
   "execution_count": 31,
   "metadata": {},
   "outputs": [
    {
     "data": {
      "text/plain": [
       "[('to', 2251),\n",
       " ('you', 2130),\n",
       " ('the', 1334),\n",
       " ('and', 971),\n",
       " ('is', 893),\n",
       " ('in', 891),\n",
       " ('me', 791),\n",
       " ('my', 759),\n",
       " ('for', 711),\n",
       " ('your', 677),\n",
       " ('it', 627),\n",
       " ('of', 622),\n",
       " ('call', 581),\n",
       " ('have', 576),\n",
       " ('on', 536)]"
      ]
     },
     "execution_count": 31,
     "metadata": {},
     "output_type": "execute_result"
    }
   ],
   "source": [
    "words_freq[:15]"
   ]
  },
  {
   "cell_type": "code",
   "execution_count": 33,
   "metadata": {},
   "outputs": [
    {
     "data": {
      "image/png": "[encoded data removed]",
      "text/plain": [
       "<Figure size 432x288 with 1 Axes>"
      ]
     },
     "metadata": {
      "needs_background": "light"
     },
     "output_type": "display_data"
    }
   ],
   "source": [
    "df1 = pd.DataFrame(words_freq[:15], columns = ['ReviewText' , 'count'])\n",
    "ax=df1.groupby('ReviewText').sum()['count'].sort_values(ascending=False).plot(\n",
    "    kind='bar', title='Top 15 cuvinte in mesaje inainte de eliminarea stop words')\n",
    "ax.set_ylabel(\"Aparitii\")\n",
    "ax.set_xlabel(\"Cuvant in mesaj\")\n",
    "plt.show()"
   ]
  },
  {
   "cell_type": "markdown",
   "metadata": {},
   "source": [
    "- Excludere cuvinte neinformative(stop words)\n"
   ]
  },
  {
   "cell_type": "code",
   "execution_count": 34,
   "metadata": {},
   "outputs": [
    {
     "data": {
      "image/png": "[encoded data removed]",
      "text/plain": [
       "<Figure size 432x288 with 1 Axes>"
      ]
     },
     "metadata": {
      "needs_background": "light"
     },
     "output_type": "display_data"
    }
   ],
   "source": [
    "vec = CountVectorizer(stop_words = 'english').fit(df['Text'])\n",
    "bag_of_words = vec.transform(df['Text'])\n",
    "sum_words = bag_of_words.sum(axis=0) \n",
    "words_freq = [(word, sum_words[0, idx]) for word, idx in vec.vocabulary_.items()]\n",
    "words_freq =sorted(words_freq, key = lambda x: x[1], reverse=True)\n",
    "\n",
    "df1 = pd.DataFrame(words_freq[:15], columns = ['ReviewText' , 'count'])\n",
    "ax=df1.groupby('ReviewText').sum()['count'].sort_values(ascending=False).plot(\n",
    "    kind='bar', \n",
    "    title='Top 15 cuvinte in mesaje dupa eliminarea stop words')\n",
    "ax.set_ylabel(\"Aparitii\")\n",
    "ax.set_xlabel(\"Cuvant in mesaj\")\n",
    "plt.show()"
   ]
  },
  {
   "cell_type": "code",
   "execution_count": 39,
   "metadata": {},
   "outputs": [
    {
     "name": "stdout",
     "output_type": "stream",
     "text": [
      "8341\n"
     ]
    }
   ],
   "source": [
    "feature_names=vec.get_feature_names()\n",
    "print(len(feature_names))"
   ]
  },
  {
   "cell_type": "markdown",
   "metadata": {},
   "source": [
    "- vocabularul are un total de 8341 cuvinte;\n",
    "- pentru fiecare cuvant in parte este precizat si de cate ori a fost intalnit in texte;\n"
   ]
  },
  {
   "cell_type": "code",
   "execution_count": 40,
   "metadata": {},
   "outputs": [],
   "source": [
    "from sklearn.datasets import make_blobs\n",
    "from sklearn.cluster import KMeans\n",
    "from sklearn.feature_extraction.text import TfidfVectorizer"
   ]
  },
  {
   "cell_type": "markdown",
   "metadata": {},
   "source": [
    "- TfidfVectorizer “Term Frequency – Inverse Document”\n",
    "- Term Frequency -insumeaza aparitiile unui cuvant in documentul dat\n",
    "- Inverse Document Frequency -reduce cuvintele care apar de foarte multe ori in document"
   ]
  },
  {
   "cell_type": "code",
   "execution_count": 41,
   "metadata": {},
   "outputs": [],
   "source": [
    "tfidf_vectorizer = TfidfVectorizer()\n",
    "X_trainval, X_test, y_trainval, y_test = train_test_split(X, y, test_size=1/3,random_state=1, stratify=y)\n",
    "tfidf = tfidf_vectorizer.fit_transform(X_trainval)"
   ]
  },
  {
   "cell_type": "code",
   "execution_count": 42,
   "metadata": {},
   "outputs": [
    {
     "name": "stdout",
     "output_type": "stream",
     "text": [
      "[8.52698678 8.52698678 8.52698678 ... 8.52698678 7.8338396  8.52698678]\n"
     ]
    }
   ],
   "source": [
    "print(tfidf_vectorizer.idf_)"
   ]
  },
  {
   "cell_type": "markdown",
   "metadata": {},
   "source": [
    "K-means Clustering propune centri de cluster care sa minimizeze valoarea functiei.\n",
    "\n",
    "Scop: partitionarea datelor in grupuri. \n",
    "\n",
    "Ideal, clusterele ar trebui sa aiba urmatoarele proprietati: \n",
    "- punctele dintr-un cluster oarecare ar trebui sa fie similare\n",
    "- punctele din clustere diferite sa fie foarte diferite. \n",
    "Pentru un punct nou dat trebuie determinat clusterul de care apartine. "
   ]
  },
  {
   "cell_type": "code",
   "execution_count": 43,
   "metadata": {},
   "outputs": [],
   "source": [
    "kmeans = KMeans(n_clusters=2).fit(tfidf)\n",
    "test2=kmeans.predict(tfidf_vectorizer.transform(X_test))\n",
    "test=np.array(test2==y_test, dtype=int)\n",
    "test=pd.DataFrame(test)"
   ]
  },
  {
   "cell_type": "code",
   "execution_count": 50,
   "metadata": {},
   "outputs": [
    {
     "data": {
      "image/png": "[encoded data removed]",
      "text/plain": [
       "<Figure size 432x288 with 1 Axes>"
      ]
     },
     "metadata": {
      "needs_background": "light"
     },
     "output_type": "display_data"
    },
    {
     "data": {
      "text/plain": [
       "(3714,)"
      ]
     },
     "execution_count": 50,
     "metadata": {},
     "output_type": "execute_result"
    }
   ],
   "source": [
    "ax=test.plot(kind='hist',\n",
    "            title='Predictii incorecte vs predictii corecte')\n",
    "ax.set_xlabel(\"Sentiment\")\n",
    "ax.set_ylabel(\"No of predictions\")\n",
    "plt.show()\n",
    "X_trainval.shape"
   ]
  },
  {
   "cell_type": "markdown",
   "metadata": {},
   "source": [
    "<b>Hiperparametrii</b> sunt parametrii care nu sunt direct invatati de estimatori. In scikit-learn ei sunt dati ca argumente la constructorul claselor de estimare.\n",
    "\n",
    "O cautare are:\n",
    "- un estimator (regresor sau clasificator);\n",
    "- un spatiu pentru parametri;\n",
    "- o metoda de cautare sau de a imparti datele in sample-uri;\n",
    "- o schema pentru cross validation;\n",
    "- o functie pentru scoring;\n",
    "\n",
    "<b>Grid Search</b> genereaza in mod exhaustiv valori-candidat dintr-o lista de valori de parametri specificate prin param_grid. Instanta GridSearchCV implementeaza estimatorul obisnuit API, cand se incearca pe un set de date toate combinatiile posibile ale valorilor parametrilor, fiind evaluate, ca in final sa fie aleasa combinatia optima. \n",
    "\n",
    "Desi folosirea unui grid de valori pentru parametrii este cea mai utilizata metoda de optimizare a parametrilor, alte metode de cautare au proprietati mai favorabile. \n",
    "\n",
    "<b>RandomSearchCV</b> implementeaza o cautare aleatorie peste parametri, unde fiecare setare este luata dintr-o distributie pe valorile posibile ale parametrilor. Acest lucru are doua mari beneficii fata de modul exhaustiv de cautare:\n",
    "\n",
    "- un buget poate fi ales independent de numarul parametrilor sau posibilele valori;\n",
    "- adaugand parametri care nu influenteaza performanta, nu face sa scada eficienta;"
   ]
  },
  {
   "cell_type": "code",
   "execution_count": 51,
   "metadata": {},
   "outputs": [],
   "source": [
    "def score_report(model, parameters):\n",
    "    model_GS = GridSearchCV(model, param_grid=parameters,scoring='f1_macro', cv = 5, iid = False, return_train_score=True, n_jobs=-1)\n",
    "    model_RS = RandomizedSearchCV(estimator = model, param_distributions = parameters,scoring='f1_macro', cv=5, n_iter=5, iid=False, n_jobs=-1)\n",
    "    scores_GS = cross_validate(model_GS, bag_of_words, y, return_train_score=True, scoring=('f1_macro','accuracy'),cv=5)\n",
    "    scores_RS = cross_validate(model_RS, bag_of_words, y, return_train_score=True, scoring=('f1_macro','accuracy'),cv=5)\n",
    "    return scores_GS, scores_RS"
   ]
  },
  {
   "cell_type": "markdown",
   "metadata": {},
   "source": [
    "<h3>Creare tabel pentru rezultatele clasificatorilor</h3>"
   ]
  },
  {
   "cell_type": "code",
   "execution_count": 52,
   "metadata": {},
   "outputs": [],
   "source": [
    "results = pd.DataFrame(columns = ['Model',\n",
    "                                  'Search_strategy',\n",
    "                                  'train_f1_macro',\n",
    "                                  'test_f1_macro',\n",
    "                                  'train_accuracy',\n",
    "                                  'test_accuracy',\n",
    "                                  'score_time',\n",
    "                                  'fit_time'])\n",
    "def make_line(model:str, search_strategy:str, results):\n",
    "    results['Model'] = model\n",
    "    results['Search_strategy'] = search_strategy\n",
    "    for key, value in results.items():\n",
    "        if(type(results[key])!=str):\n",
    "            results[key] = results[key].mean()\n",
    "    return results"
   ]
  },
  {
   "cell_type": "markdown",
   "metadata": {},
   "source": [
    "<h1>Decision Tree Classifier</h1>"
   ]
  },
  {
   "cell_type": "code",
   "execution_count": 53,
   "metadata": {},
   "outputs": [],
   "source": [
    "parameters = {\n",
    "        'min_samples_split':[2,5,8, 10],\n",
    "        'splitter':['best', 'random'],\n",
    "        'max_depth':[1, 10, 20, 30]\n",
    "    }\n",
    "res_GS, res_RS = score_report(tree.DecisionTreeClassifier(), parameters=parameters)"
   ]
  },
  {
   "cell_type": "code",
   "execution_count": 54,
   "metadata": {},
   "outputs": [],
   "source": [
    "res_GSaux = make_line('Decision Tree', 'GridSearchCV', res_GS)\n",
    "res_RSaux = make_line('Decision Tree', 'RandomSearchCV', res_RS)\n",
    "results = results.append(res_GSaux, ignore_index=True)\n",
    "results = results.append(res_RSaux, ignore_index=True)"
   ]
  },
  {
   "cell_type": "markdown",
   "metadata": {},
   "source": [
    "<h1>Random Forest Classifier</h1>"
   ]
  },
  {
   "cell_type": "code",
   "execution_count": 62,
   "metadata": {},
   "outputs": [],
   "source": [
    "parameters = {\n",
    "    'n_estimators'      : [320,300,340],\n",
    "    'max_depth'         : [8, 9, 10, 11, 12],\n",
    "    'random_state'      : [0]\n",
    "    }\n",
    "res_GS2, res_RS2 = score_report(RandomForestClassifier(n_estimators=100), parameters=parameters)"
   ]
  },
  {
   "cell_type": "code",
   "execution_count": 63,
   "metadata": {},
   "outputs": [],
   "source": [
    "res_GSaux = make_line('Random Forest', 'GridSearchCV', res_GS2)\n",
    "res_RSaux = make_line('Random Forest', 'RandomSearchCV', res_RS2)\n",
    "results = results.append(res_GSaux, ignore_index=True)\n",
    "results = results.append(res_RSaux, ignore_index=True)"
   ]
  },
  {
   "cell_type": "markdown",
   "metadata": {},
   "source": [
    "<h1> KNeighbours Classifier</h1>"
   ]
  },
  {
   "cell_type": "code",
   "execution_count": 58,
   "metadata": {},
   "outputs": [],
   "source": [
    "parameters = {'n_neighbors':[4,5,7],\n",
    "              'leaf_size':[1,3,5],\n",
    "              'algorithm':['auto', 'kd_tree']\n",
    "             }\n",
    "res_GS3, res_RS3 = score_report(KNeighborsClassifier(n_neighbors=5), parameters=parameters)"
   ]
  },
  {
   "cell_type": "code",
   "execution_count": 59,
   "metadata": {},
   "outputs": [],
   "source": [
    "res_GSaux = make_line('KNeighborsClassifier', 'GridSearchCV', res_GS3)\n",
    "res_RSaux = make_line('KNeighborsClassifier', 'RandomSearchCV', res_RS3)\n",
    "results = results.append(res_GSaux, ignore_index=True)\n",
    "results = results.append(res_RSaux, ignore_index=True)"
   ]
  },
  {
   "cell_type": "markdown",
   "metadata": {},
   "source": [
    "<h1>Support Vector Machine</h1>"
   ]
  },
  {
   "cell_type": "code",
   "execution_count": 60,
   "metadata": {},
   "outputs": [],
   "source": [
    "parameters = {\n",
    "            'C':[1,5, 10],\n",
    "            'cache_size':[200, 1000],\n",
    "            'max_iter':[100, 500, 1000]\n",
    "    }\n",
    "res_GS4, res_RS4 = score_report(svm.SVC(gamma='scale'), parameters=parameters)"
   ]
  },
  {
   "cell_type": "code",
   "execution_count": 61,
   "metadata": {},
   "outputs": [],
   "source": [
    "res_GSaux = make_line('SVM', 'GridSearchCV', res_GS4)\n",
    "res_RSaux = make_line('SVM', 'RandomSearchCV', res_RS4)\n",
    "results = results.append(res_GSaux, ignore_index=True)\n",
    "results = results.append(res_RSaux, ignore_index=True)"
   ]
  },
  {
   "cell_type": "code",
   "execution_count": 64,
   "metadata": {},
   "outputs": [
    {
     "data": {
      "text/html": [
       "<div>\n",
       "<style scoped>\n",
       "    .dataframe tbody tr th:only-of-type {\n",
       "        vertical-align: middle;\n",
       "    }\n",
       "\n",
       "    .dataframe tbody tr th {\n",
       "        vertical-align: top;\n",
       "    }\n",
       "\n",
       "    .dataframe thead th {\n",
       "        text-align: right;\n",
       "    }\n",
       "</style>\n",
       "<table border=\"1\" class=\"dataframe\">\n",
       "  <thead>\n",
       "    <tr style=\"text-align: right;\">\n",
       "      <th></th>\n",
       "      <th>Model</th>\n",
       "      <th>Search_strategy</th>\n",
       "      <th>train_f1_macro</th>\n",
       "      <th>test_f1_macro</th>\n",
       "      <th>train_accuracy</th>\n",
       "      <th>test_accuracy</th>\n",
       "      <th>score_time</th>\n",
       "      <th>fit_time</th>\n",
       "    </tr>\n",
       "  </thead>\n",
       "  <tbody>\n",
       "    <tr>\n",
       "      <th>0</th>\n",
       "      <td>Decision Tree</td>\n",
       "      <td>GridSearchCV</td>\n",
       "      <td>0.967070</td>\n",
       "      <td>0.908669</td>\n",
       "      <td>0.985418</td>\n",
       "      <td>0.959437</td>\n",
       "      <td>0.004208</td>\n",
       "      <td>10.549182</td>\n",
       "    </tr>\n",
       "    <tr>\n",
       "      <th>1</th>\n",
       "      <td>Decision Tree</td>\n",
       "      <td>RandomSearchCV</td>\n",
       "      <td>0.963515</td>\n",
       "      <td>0.903673</td>\n",
       "      <td>0.983937</td>\n",
       "      <td>0.957644</td>\n",
       "      <td>0.004061</td>\n",
       "      <td>1.602062</td>\n",
       "    </tr>\n",
       "    <tr>\n",
       "      <th>2</th>\n",
       "      <td>KNeighborsClassifier</td>\n",
       "      <td>GridSearchCV</td>\n",
       "      <td>0.811709</td>\n",
       "      <td>0.753604</td>\n",
       "      <td>0.932071</td>\n",
       "      <td>0.917086</td>\n",
       "      <td>0.611470</td>\n",
       "      <td>34.891087</td>\n",
       "    </tr>\n",
       "    <tr>\n",
       "      <th>3</th>\n",
       "      <td>KNeighborsClassifier</td>\n",
       "      <td>RandomSearchCV</td>\n",
       "      <td>0.811709</td>\n",
       "      <td>0.753604</td>\n",
       "      <td>0.932071</td>\n",
       "      <td>0.917086</td>\n",
       "      <td>0.627242</td>\n",
       "      <td>10.278721</td>\n",
       "    </tr>\n",
       "    <tr>\n",
       "      <th>4</th>\n",
       "      <td>SVM</td>\n",
       "      <td>GridSearchCV</td>\n",
       "      <td>0.974231</td>\n",
       "      <td>0.944697</td>\n",
       "      <td>0.988469</td>\n",
       "      <td>0.976129</td>\n",
       "      <td>0.400579</td>\n",
       "      <td>40.368767</td>\n",
       "    </tr>\n",
       "    <tr>\n",
       "      <th>5</th>\n",
       "      <td>SVM</td>\n",
       "      <td>RandomSearchCV</td>\n",
       "      <td>0.970606</td>\n",
       "      <td>0.942375</td>\n",
       "      <td>0.986943</td>\n",
       "      <td>0.975233</td>\n",
       "      <td>0.441345</td>\n",
       "      <td>13.443117</td>\n",
       "    </tr>\n",
       "    <tr>\n",
       "      <th>6</th>\n",
       "      <td>Random Forest</td>\n",
       "      <td>GridSearchCV</td>\n",
       "      <td>0.681937</td>\n",
       "      <td>0.638911</td>\n",
       "      <td>0.901382</td>\n",
       "      <td>0.893036</td>\n",
       "      <td>0.410888</td>\n",
       "      <td>140.121895</td>\n",
       "    </tr>\n",
       "    <tr>\n",
       "      <th>7</th>\n",
       "      <td>Random Forest</td>\n",
       "      <td>RandomSearchCV</td>\n",
       "      <td>0.651889</td>\n",
       "      <td>0.605665</td>\n",
       "      <td>0.895638</td>\n",
       "      <td>0.887115</td>\n",
       "      <td>0.379646</td>\n",
       "      <td>54.751410</td>\n",
       "    </tr>\n",
       "  </tbody>\n",
       "</table>\n",
       "</div>"
      ],
      "text/plain": [
       "                  Model Search_strategy  train_f1_macro  test_f1_macro  \\\n",
       "0         Decision Tree    GridSearchCV        0.967070       0.908669   \n",
       "1         Decision Tree  RandomSearchCV        0.963515       0.903673   \n",
       "2  KNeighborsClassifier    GridSearchCV        0.811709       0.753604   \n",
       "3  KNeighborsClassifier  RandomSearchCV        0.811709       0.753604   \n",
       "4                   SVM    GridSearchCV        0.974231       0.944697   \n",
       "5                   SVM  RandomSearchCV        0.970606       0.942375   \n",
       "6         Random Forest    GridSearchCV        0.681937       0.638911   \n",
       "7         Random Forest  RandomSearchCV        0.651889       0.605665   \n",
       "\n",
       "   train_accuracy  test_accuracy  score_time    fit_time  \n",
       "0        0.985418       0.959437    0.004208   10.549182  \n",
       "1        0.983937       0.957644    0.004061    1.602062  \n",
       "2        0.932071       0.917086    0.611470   34.891087  \n",
       "3        0.932071       0.917086    0.627242   10.278721  \n",
       "4        0.988469       0.976129    0.400579   40.368767  \n",
       "5        0.986943       0.975233    0.441345   13.443117  \n",
       "6        0.901382       0.893036    0.410888  140.121895  \n",
       "7        0.895638       0.887115    0.379646   54.751410  "
      ]
     },
     "execution_count": 64,
     "metadata": {},
     "output_type": "execute_result"
    }
   ],
   "source": [
    "results"
   ]
  },
  {
   "cell_type": "code",
   "execution_count": 65,
   "metadata": {},
   "outputs": [],
   "source": [
    "def color(grid):\n",
    "    return ['background-color: red' if value == grid.max() else ('background-color: green' if value == grid.min() else '') for value in grid]"
   ]
  },
  {
   "cell_type": "code",
   "execution_count": 66,
   "metadata": {},
   "outputs": [],
   "source": [
    "results_highlighted1= results.style.apply(color, subset=[\n",
    "                                  'train_f1_macro',\n",
    "                                  'test_f1_macro',\n",
    "                                  'train_accuracy',\n",
    "                                  'test_accuracy',\n",
    "                                  'score_time',\n",
    "                                  'fit_time'])"
   ]
  },
  {
   "cell_type": "code",
   "execution_count": 67,
   "metadata": {},
   "outputs": [
    {
     "data": {
      "text/html": [
       "<style  type=\"text/css\" >\n",
       "    #T_bcc9040a_7c05_11e9_9839_40490f6fd5e0row1_col6 {\n",
       "            background-color:  green;\n",
       "        }    #T_bcc9040a_7c05_11e9_9839_40490f6fd5e0row1_col7 {\n",
       "            background-color:  green;\n",
       "        }    #T_bcc9040a_7c05_11e9_9839_40490f6fd5e0row3_col6 {\n",
       "            background-color:  red;\n",
       "        }    #T_bcc9040a_7c05_11e9_9839_40490f6fd5e0row4_col2 {\n",
       "            background-color:  red;\n",
       "        }    #T_bcc9040a_7c05_11e9_9839_40490f6fd5e0row4_col3 {\n",
       "            background-color:  red;\n",
       "        }    #T_bcc9040a_7c05_11e9_9839_40490f6fd5e0row4_col4 {\n",
       "            background-color:  red;\n",
       "        }    #T_bcc9040a_7c05_11e9_9839_40490f6fd5e0row4_col5 {\n",
       "            background-color:  red;\n",
       "        }    #T_bcc9040a_7c05_11e9_9839_40490f6fd5e0row6_col7 {\n",
       "            background-color:  red;\n",
       "        }    #T_bcc9040a_7c05_11e9_9839_40490f6fd5e0row7_col2 {\n",
       "            background-color:  green;\n",
       "        }    #T_bcc9040a_7c05_11e9_9839_40490f6fd5e0row7_col3 {\n",
       "            background-color:  green;\n",
       "        }    #T_bcc9040a_7c05_11e9_9839_40490f6fd5e0row7_col4 {\n",
       "            background-color:  green;\n",
       "        }    #T_bcc9040a_7c05_11e9_9839_40490f6fd5e0row7_col5 {\n",
       "            background-color:  green;\n",
       "        }</style>  \n",
       "<table id=\"T_bcc9040a_7c05_11e9_9839_40490f6fd5e0\" > \n",
       "<thead>    <tr> \n",
       "        <th class=\"blank level0\" ></th> \n",
       "        <th class=\"col_heading level0 col0\" >Model</th> \n",
       "        <th class=\"col_heading level0 col1\" >Search_strategy</th> \n",
       "        <th class=\"col_heading level0 col2\" >train_f1_macro</th> \n",
       "        <th class=\"col_heading level0 col3\" >test_f1_macro</th> \n",
       "        <th class=\"col_heading level0 col4\" >train_accuracy</th> \n",
       "        <th class=\"col_heading level0 col5\" >test_accuracy</th> \n",
       "        <th class=\"col_heading level0 col6\" >score_time</th> \n",
       "        <th class=\"col_heading level0 col7\" >fit_time</th> \n",
       "    </tr></thead> \n",
       "<tbody>    <tr> \n",
       "        <th id=\"T_bcc9040a_7c05_11e9_9839_40490f6fd5e0level0_row0\" class=\"row_heading level0 row0\" >0</th> \n",
       "        <td id=\"T_bcc9040a_7c05_11e9_9839_40490f6fd5e0row0_col0\" class=\"data row0 col0\" >Decision Tree</td> \n",
       "        <td id=\"T_bcc9040a_7c05_11e9_9839_40490f6fd5e0row0_col1\" class=\"data row0 col1\" >GridSearchCV</td> \n",
       "        <td id=\"T_bcc9040a_7c05_11e9_9839_40490f6fd5e0row0_col2\" class=\"data row0 col2\" >0.96707</td> \n",
       "        <td id=\"T_bcc9040a_7c05_11e9_9839_40490f6fd5e0row0_col3\" class=\"data row0 col3\" >0.908669</td> \n",
       "        <td id=\"T_bcc9040a_7c05_11e9_9839_40490f6fd5e0row0_col4\" class=\"data row0 col4\" >0.985418</td> \n",
       "        <td id=\"T_bcc9040a_7c05_11e9_9839_40490f6fd5e0row0_col5\" class=\"data row0 col5\" >0.959437</td> \n",
       "        <td id=\"T_bcc9040a_7c05_11e9_9839_40490f6fd5e0row0_col6\" class=\"data row0 col6\" >0.00420833</td> \n",
       "        <td id=\"T_bcc9040a_7c05_11e9_9839_40490f6fd5e0row0_col7\" class=\"data row0 col7\" >10.5492</td> \n",
       "    </tr>    <tr> \n",
       "        <th id=\"T_bcc9040a_7c05_11e9_9839_40490f6fd5e0level0_row1\" class=\"row_heading level0 row1\" >1</th> \n",
       "        <td id=\"T_bcc9040a_7c05_11e9_9839_40490f6fd5e0row1_col0\" class=\"data row1 col0\" >Decision Tree</td> \n",
       "        <td id=\"T_bcc9040a_7c05_11e9_9839_40490f6fd5e0row1_col1\" class=\"data row1 col1\" >RandomSearchCV</td> \n",
       "        <td id=\"T_bcc9040a_7c05_11e9_9839_40490f6fd5e0row1_col2\" class=\"data row1 col2\" >0.963515</td> \n",
       "        <td id=\"T_bcc9040a_7c05_11e9_9839_40490f6fd5e0row1_col3\" class=\"data row1 col3\" >0.903673</td> \n",
       "        <td id=\"T_bcc9040a_7c05_11e9_9839_40490f6fd5e0row1_col4\" class=\"data row1 col4\" >0.983937</td> \n",
       "        <td id=\"T_bcc9040a_7c05_11e9_9839_40490f6fd5e0row1_col5\" class=\"data row1 col5\" >0.957644</td> \n",
       "        <td id=\"T_bcc9040a_7c05_11e9_9839_40490f6fd5e0row1_col6\" class=\"data row1 col6\" >0.0040607</td> \n",
       "        <td id=\"T_bcc9040a_7c05_11e9_9839_40490f6fd5e0row1_col7\" class=\"data row1 col7\" >1.60206</td> \n",
       "    </tr>    <tr> \n",
       "        <th id=\"T_bcc9040a_7c05_11e9_9839_40490f6fd5e0level0_row2\" class=\"row_heading level0 row2\" >2</th> \n",
       "        <td id=\"T_bcc9040a_7c05_11e9_9839_40490f6fd5e0row2_col0\" class=\"data row2 col0\" >KNeighborsClassifier</td> \n",
       "        <td id=\"T_bcc9040a_7c05_11e9_9839_40490f6fd5e0row2_col1\" class=\"data row2 col1\" >GridSearchCV</td> \n",
       "        <td id=\"T_bcc9040a_7c05_11e9_9839_40490f6fd5e0row2_col2\" class=\"data row2 col2\" >0.811709</td> \n",
       "        <td id=\"T_bcc9040a_7c05_11e9_9839_40490f6fd5e0row2_col3\" class=\"data row2 col3\" >0.753604</td> \n",
       "        <td id=\"T_bcc9040a_7c05_11e9_9839_40490f6fd5e0row2_col4\" class=\"data row2 col4\" >0.932071</td> \n",
       "        <td id=\"T_bcc9040a_7c05_11e9_9839_40490f6fd5e0row2_col5\" class=\"data row2 col5\" >0.917086</td> \n",
       "        <td id=\"T_bcc9040a_7c05_11e9_9839_40490f6fd5e0row2_col6\" class=\"data row2 col6\" >0.61147</td> \n",
       "        <td id=\"T_bcc9040a_7c05_11e9_9839_40490f6fd5e0row2_col7\" class=\"data row2 col7\" >34.8911</td> \n",
       "    </tr>    <tr> \n",
       "        <th id=\"T_bcc9040a_7c05_11e9_9839_40490f6fd5e0level0_row3\" class=\"row_heading level0 row3\" >3</th> \n",
       "        <td id=\"T_bcc9040a_7c05_11e9_9839_40490f6fd5e0row3_col0\" class=\"data row3 col0\" >KNeighborsClassifier</td> \n",
       "        <td id=\"T_bcc9040a_7c05_11e9_9839_40490f6fd5e0row3_col1\" class=\"data row3 col1\" >RandomSearchCV</td> \n",
       "        <td id=\"T_bcc9040a_7c05_11e9_9839_40490f6fd5e0row3_col2\" class=\"data row3 col2\" >0.811709</td> \n",
       "        <td id=\"T_bcc9040a_7c05_11e9_9839_40490f6fd5e0row3_col3\" class=\"data row3 col3\" >0.753604</td> \n",
       "        <td id=\"T_bcc9040a_7c05_11e9_9839_40490f6fd5e0row3_col4\" class=\"data row3 col4\" >0.932071</td> \n",
       "        <td id=\"T_bcc9040a_7c05_11e9_9839_40490f6fd5e0row3_col5\" class=\"data row3 col5\" >0.917086</td> \n",
       "        <td id=\"T_bcc9040a_7c05_11e9_9839_40490f6fd5e0row3_col6\" class=\"data row3 col6\" >0.627242</td> \n",
       "        <td id=\"T_bcc9040a_7c05_11e9_9839_40490f6fd5e0row3_col7\" class=\"data row3 col7\" >10.2787</td> \n",
       "    </tr>    <tr> \n",
       "        <th id=\"T_bcc9040a_7c05_11e9_9839_40490f6fd5e0level0_row4\" class=\"row_heading level0 row4\" >4</th> \n",
       "        <td id=\"T_bcc9040a_7c05_11e9_9839_40490f6fd5e0row4_col0\" class=\"data row4 col0\" >SVM</td> \n",
       "        <td id=\"T_bcc9040a_7c05_11e9_9839_40490f6fd5e0row4_col1\" class=\"data row4 col1\" >GridSearchCV</td> \n",
       "        <td id=\"T_bcc9040a_7c05_11e9_9839_40490f6fd5e0row4_col2\" class=\"data row4 col2\" >0.974231</td> \n",
       "        <td id=\"T_bcc9040a_7c05_11e9_9839_40490f6fd5e0row4_col3\" class=\"data row4 col3\" >0.944697</td> \n",
       "        <td id=\"T_bcc9040a_7c05_11e9_9839_40490f6fd5e0row4_col4\" class=\"data row4 col4\" >0.988469</td> \n",
       "        <td id=\"T_bcc9040a_7c05_11e9_9839_40490f6fd5e0row4_col5\" class=\"data row4 col5\" >0.976129</td> \n",
       "        <td id=\"T_bcc9040a_7c05_11e9_9839_40490f6fd5e0row4_col6\" class=\"data row4 col6\" >0.400579</td> \n",
       "        <td id=\"T_bcc9040a_7c05_11e9_9839_40490f6fd5e0row4_col7\" class=\"data row4 col7\" >40.3688</td> \n",
       "    </tr>    <tr> \n",
       "        <th id=\"T_bcc9040a_7c05_11e9_9839_40490f6fd5e0level0_row5\" class=\"row_heading level0 row5\" >5</th> \n",
       "        <td id=\"T_bcc9040a_7c05_11e9_9839_40490f6fd5e0row5_col0\" class=\"data row5 col0\" >SVM</td> \n",
       "        <td id=\"T_bcc9040a_7c05_11e9_9839_40490f6fd5e0row5_col1\" class=\"data row5 col1\" >RandomSearchCV</td> \n",
       "        <td id=\"T_bcc9040a_7c05_11e9_9839_40490f6fd5e0row5_col2\" class=\"data row5 col2\" >0.970606</td> \n",
       "        <td id=\"T_bcc9040a_7c05_11e9_9839_40490f6fd5e0row5_col3\" class=\"data row5 col3\" >0.942375</td> \n",
       "        <td id=\"T_bcc9040a_7c05_11e9_9839_40490f6fd5e0row5_col4\" class=\"data row5 col4\" >0.986943</td> \n",
       "        <td id=\"T_bcc9040a_7c05_11e9_9839_40490f6fd5e0row5_col5\" class=\"data row5 col5\" >0.975233</td> \n",
       "        <td id=\"T_bcc9040a_7c05_11e9_9839_40490f6fd5e0row5_col6\" class=\"data row5 col6\" >0.441345</td> \n",
       "        <td id=\"T_bcc9040a_7c05_11e9_9839_40490f6fd5e0row5_col7\" class=\"data row5 col7\" >13.4431</td> \n",
       "    </tr>    <tr> \n",
       "        <th id=\"T_bcc9040a_7c05_11e9_9839_40490f6fd5e0level0_row6\" class=\"row_heading level0 row6\" >6</th> \n",
       "        <td id=\"T_bcc9040a_7c05_11e9_9839_40490f6fd5e0row6_col0\" class=\"data row6 col0\" >Random Forest</td> \n",
       "        <td id=\"T_bcc9040a_7c05_11e9_9839_40490f6fd5e0row6_col1\" class=\"data row6 col1\" >GridSearchCV</td> \n",
       "        <td id=\"T_bcc9040a_7c05_11e9_9839_40490f6fd5e0row6_col2\" class=\"data row6 col2\" >0.681937</td> \n",
       "        <td id=\"T_bcc9040a_7c05_11e9_9839_40490f6fd5e0row6_col3\" class=\"data row6 col3\" >0.638911</td> \n",
       "        <td id=\"T_bcc9040a_7c05_11e9_9839_40490f6fd5e0row6_col4\" class=\"data row6 col4\" >0.901382</td> \n",
       "        <td id=\"T_bcc9040a_7c05_11e9_9839_40490f6fd5e0row6_col5\" class=\"data row6 col5\" >0.893036</td> \n",
       "        <td id=\"T_bcc9040a_7c05_11e9_9839_40490f6fd5e0row6_col6\" class=\"data row6 col6\" >0.410888</td> \n",
       "        <td id=\"T_bcc9040a_7c05_11e9_9839_40490f6fd5e0row6_col7\" class=\"data row6 col7\" >140.122</td> \n",
       "    </tr>    <tr> \n",
       "        <th id=\"T_bcc9040a_7c05_11e9_9839_40490f6fd5e0level0_row7\" class=\"row_heading level0 row7\" >7</th> \n",
       "        <td id=\"T_bcc9040a_7c05_11e9_9839_40490f6fd5e0row7_col0\" class=\"data row7 col0\" >Random Forest</td> \n",
       "        <td id=\"T_bcc9040a_7c05_11e9_9839_40490f6fd5e0row7_col1\" class=\"data row7 col1\" >RandomSearchCV</td> \n",
       "        <td id=\"T_bcc9040a_7c05_11e9_9839_40490f6fd5e0row7_col2\" class=\"data row7 col2\" >0.651889</td> \n",
       "        <td id=\"T_bcc9040a_7c05_11e9_9839_40490f6fd5e0row7_col3\" class=\"data row7 col3\" >0.605665</td> \n",
       "        <td id=\"T_bcc9040a_7c05_11e9_9839_40490f6fd5e0row7_col4\" class=\"data row7 col4\" >0.895638</td> \n",
       "        <td id=\"T_bcc9040a_7c05_11e9_9839_40490f6fd5e0row7_col5\" class=\"data row7 col5\" >0.887115</td> \n",
       "        <td id=\"T_bcc9040a_7c05_11e9_9839_40490f6fd5e0row7_col6\" class=\"data row7 col6\" >0.379646</td> \n",
       "        <td id=\"T_bcc9040a_7c05_11e9_9839_40490f6fd5e0row7_col7\" class=\"data row7 col7\" >54.7514</td> \n",
       "    </tr></tbody> \n",
       "</table> "
      ],
      "text/plain": [
       "<pandas.io.formats.style.Styler at 0x11900177438>"
      ]
     },
     "execution_count": 67,
     "metadata": {},
     "output_type": "execute_result"
    }
   ],
   "source": [
    "results_highlighted1"
   ]
  },
  {
   "cell_type": "markdown",
   "metadata": {},
   "source": [
    "- Pe acest set de testare rezultatele cele mai bune pentru <b>scorul f1 si acuratete</b> au fost obtinute cu modelul de clasificare <b>SVM</b> si strategia de cautare <b>GridSearchCV</b>;\n",
    "- <b>Timpul cel mai scurt pentru scoring si pentru fit-ul datelor</b> l-a avut modelul <b>Decision Tree</b>, cu strategia de cautare <b>GridSearchCV</b>;"
   ]
  }
 ],
 "metadata": {
  "kernelspec": {
   "display_name": "Python 3",
   "language": "python",
   "name": "python3"
  },
  "language_info": {
   "codemirror_mode": {
    "name": "ipython",
    "version": 3
   },
   "file_extension": ".py",
   "mimetype": "text/x-python",
   "name": "python",
   "nbconvert_exporter": "python",
   "pygments_lexer": "ipython3",
   "version": "3.7.1"
  }
 },
 "nbformat": 4,
 "nbformat_minor": 2
}
