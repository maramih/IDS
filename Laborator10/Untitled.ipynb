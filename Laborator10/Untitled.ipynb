{
 "cells": [
  {
   "cell_type": "code",
   "execution_count": 330,
   "metadata": {},
   "outputs": [
    {
     "data": {
      "text/plain": [
       "'\\nEste un algoritm de învățare supervizată bazat pe asocieri care nu\\nnecesită o etapă de antrenare propriu-zisă. Se bazează pe învățarea prin analogie și\\nstabilește clasa corespunzătoare unui exemplu de testare pe baza similarității acestuia\\ncu k exemple, cele mai similare, din setul de date de antrenament.\\nCele k exemple luate în considerare vor stabili clasa exemplului de test pe baza votului majoritar. \\n'"
      ]
     },
     "execution_count": 330,
     "metadata": {},
     "output_type": "execute_result"
    }
   ],
   "source": [
    "import pandas as pd\n",
    "from sklearn.datasets import load_files\n",
    "import numpy as np\n",
    "from sklearn.model_selection import train_test_split,cross_val_score,KFold\n",
    "from sklearn import metrics\n",
    "from sklearn.metrics import accuracy_score, f1_score\n",
    "from sklearn.model_selection import GridSearchCV\n",
    "from sklearn.model_selection import cross_validate\n",
    "import warnings\n",
    "warnings.filterwarnings('ignore')\n",
    "from sklearn.model_selection import RandomizedSearchCV\n",
    "\n",
    "from sklearn.neural_network import MLPClassifier\n",
    "'''\n",
    "MLP (Perceptronul multistrat) este un algoritm supervizat de învățare.\n",
    "Acesta învață o funcție, prin antrenament pe un set de date.\n",
    "Cu ajutorul unui set de caracteristici și a rezultatului acestora poate învăța să aproximeze o funcție nonlineară,\n",
    "fie pentru clasificare, fie pentru regresie.\n",
    "Perceptronul Multistrat este diferit de regresiile logistice în sensul că între stratul de intrare și cel de ieșire\n",
    "pot exista unul sau mai multe straturi neliniare, numite straturi ascunse.\n",
    "\n",
    "https://scikit-learn.org/stable/modules/neural_networks_supervised.html\n",
    "'''\n",
    "from sklearn import svm\n",
    "'''\n",
    "În general, SVM sunt considerate a fi o abordare de clasificare, dar pot fi utilizate în ambele\n",
    "tipuri de probleme de clasificare și regresie.\n",
    "Se poate ocupa cu ușurință mai multe variabile continue și categorice.\n",
    "SVM construiește un hyperplan în spațiul multidimensional pentru a separa diferite clase.\n",
    "SVM generează un hyperplan optim într-o manieră iterativă, care este folosită pentru a minimiza o eroare.\n",
    "Ideea principală a SVM este găsirea unui hiperplan marginal maxim (MMH) care divide cel mai bine setul de date în clase.\n",
    "Clasificatorul separă punctele de date utilizând un hyperplane cu cea mai mare valoare a marjei. De aceea, un clasificator\n",
    "SVM este, de asemenea, cunoscut ca un clasificator discriminativ.\n",
    "SVM oferă o precizie foarte mare în comparație cu alți clasificatori, cum ar fi regresia logistică și arborii de decizie.\n",
    "'''\n",
    "from sklearn import tree #Decision tree\n",
    "'''\n",
    "Are ca scop divizarea unei colecţii în seturi mai mici prin aplicarea succesivă a unor reguli de decizie.\n",
    "În arborele de decizie, nodurile rădăcină și interne conțin condiții de testare a atributelor pentru a separa\n",
    "înregistrările care au caracteristici diferite.\n",
    "'''\n",
    "from sklearn.ensemble import RandomForestClassifier\n",
    "'''\n",
    "Random Forest Classifier este o metoda de clasificare, regresie si alte sarcini care opereaza prin construirea prin construirea\n",
    "unei multitudini de arbori de decizie în timpul antrenării și furnizarea clasei necesare clasificării sau a mediei (în cazul\n",
    "unei regresii) a arborilor individuali. De asemenea, corectează obiceiul de overfitting pe setul de antrenare.\n",
    "'''\n",
    "\n",
    "from sklearn.neighbors import KNeighborsClassifier\n",
    "'''\n",
    "Este un algoritm de învățare supervizată bazat pe asocieri care nu\n",
    "necesită o etapă de antrenare propriu-zisă. Se bazează pe învățarea prin analogie și\n",
    "stabilește clasa corespunzătoare unui exemplu de testare pe baza similarității acestuia\n",
    "cu k exemple, cele mai similare, din setul de date de antrenament.\n",
    "Cele k exemple luate în considerare vor stabili clasa exemplului de test pe baza votului majoritar. \n",
    "'''"
   ]
  },
  {
   "cell_type": "markdown",
   "metadata": {},
   "source": [
    "<h1> Setul de date IMDB </h1>\n",
    "\n",
    "- Descriere/Continut:\n",
    "Contine fraze etichetate ca parere pozitiva sau parere negativa, extrase din recenziile filmelor de pe site-ul imbd.com.\n",
    "\n",
    "- Format:\n",
    "propozitie \\t scor \\n\n",
    "\n",
    "- Detalii:\n",
    "Scorul poate fi 1 (pentru recenzie pozitiva) sau 0 (pentru recenzie negativa).\n",
    "In setul de date exista 500 de fragmente de recenzii pozitive si 500 de fragmente de recenzii negative, care au fost selectate in mod aleator pentru baze si mai mari de recenzii.\n",
    "S-a incercat selectarea frazelor care au o conotatie pozitiva/negativa clara, sperand ca nicio fraza neutra sa nu fi fost aleasa."
   ]
  },
  {
   "cell_type": "code",
   "execution_count": 115,
   "metadata": {},
   "outputs": [],
   "source": [
    "namesCol = [\"Review\",\"Sentiment\"]\n",
    "df=pd.read_csv('imdb_labelled.txt', delimiter = '\\t', header = None, names=namesCol)"
   ]
  },
  {
   "cell_type": "code",
   "execution_count": 117,
   "metadata": {},
   "outputs": [
    {
     "data": {
      "text/html": [
       "<div>\n",
       "<style scoped>\n",
       "    .dataframe tbody tr th:only-of-type {\n",
       "        vertical-align: middle;\n",
       "    }\n",
       "\n",
       "    .dataframe tbody tr th {\n",
       "        vertical-align: top;\n",
       "    }\n",
       "\n",
       "    .dataframe thead th {\n",
       "        text-align: right;\n",
       "    }\n",
       "</style>\n",
       "<table border=\"1\" class=\"dataframe\">\n",
       "  <thead>\n",
       "    <tr style=\"text-align: right;\">\n",
       "      <th></th>\n",
       "      <th>Review</th>\n",
       "      <th>Sentiment</th>\n",
       "    </tr>\n",
       "  </thead>\n",
       "  <tbody>\n",
       "    <tr>\n",
       "      <th>0</th>\n",
       "      <td>A very, very, very slow-moving, aimless movie ...</td>\n",
       "      <td>0</td>\n",
       "    </tr>\n",
       "    <tr>\n",
       "      <th>1</th>\n",
       "      <td>Not sure who was more lost - the flat characte...</td>\n",
       "      <td>0</td>\n",
       "    </tr>\n",
       "    <tr>\n",
       "      <th>2</th>\n",
       "      <td>Attempting artiness with black &amp; white and cle...</td>\n",
       "      <td>0</td>\n",
       "    </tr>\n",
       "    <tr>\n",
       "      <th>3</th>\n",
       "      <td>Very little music or anything to speak of.</td>\n",
       "      <td>0</td>\n",
       "    </tr>\n",
       "    <tr>\n",
       "      <th>4</th>\n",
       "      <td>The best scene in the movie was when Gerardo i...</td>\n",
       "      <td>1</td>\n",
       "    </tr>\n",
       "  </tbody>\n",
       "</table>\n",
       "</div>"
      ],
      "text/plain": [
       "                                              Review  Sentiment\n",
       "0  A very, very, very slow-moving, aimless movie ...          0\n",
       "1  Not sure who was more lost - the flat characte...          0\n",
       "2  Attempting artiness with black & white and cle...          0\n",
       "3       Very little music or anything to speak of.            0\n",
       "4  The best scene in the movie was when Gerardo i...          1"
      ]
     },
     "execution_count": 117,
     "metadata": {},
     "output_type": "execute_result"
    }
   ],
   "source": [
    "df.head()"
   ]
  },
  {
   "cell_type": "code",
   "execution_count": 334,
   "metadata": {},
   "outputs": [
    {
     "name": "stdout",
     "output_type": "stream",
     "text": [
      "Dimensiunea tabelului este:  (748, 4)\n"
     ]
    }
   ],
   "source": [
    "print(\"Dimensiunea tabelului este: \", df.shape)"
   ]
  },
  {
   "cell_type": "code",
   "execution_count": 332,
   "metadata": {},
   "outputs": [
    {
     "data": {
      "text/html": [
       "<div>\n",
       "<style scoped>\n",
       "    .dataframe tbody tr th:only-of-type {\n",
       "        vertical-align: middle;\n",
       "    }\n",
       "\n",
       "    .dataframe tbody tr th {\n",
       "        vertical-align: top;\n",
       "    }\n",
       "\n",
       "    .dataframe thead th {\n",
       "        text-align: right;\n",
       "    }\n",
       "</style>\n",
       "<table border=\"1\" class=\"dataframe\">\n",
       "  <thead>\n",
       "    <tr style=\"text-align: right;\">\n",
       "      <th></th>\n",
       "      <th>Sentiment</th>\n",
       "      <th>review_len</th>\n",
       "      <th>word_count</th>\n",
       "    </tr>\n",
       "  </thead>\n",
       "  <tbody>\n",
       "    <tr>\n",
       "      <th>count</th>\n",
       "      <td>748.000000</td>\n",
       "      <td>748.000000</td>\n",
       "      <td>748.000000</td>\n",
       "    </tr>\n",
       "    <tr>\n",
       "      <th>mean</th>\n",
       "      <td>0.516043</td>\n",
       "      <td>110.379679</td>\n",
       "      <td>19.127005</td>\n",
       "    </tr>\n",
       "    <tr>\n",
       "      <th>std</th>\n",
       "      <td>0.500077</td>\n",
       "      <td>375.297319</td>\n",
       "      <td>62.521225</td>\n",
       "    </tr>\n",
       "    <tr>\n",
       "      <th>min</th>\n",
       "      <td>0.000000</td>\n",
       "      <td>3.000000</td>\n",
       "      <td>1.000000</td>\n",
       "    </tr>\n",
       "    <tr>\n",
       "      <th>25%</th>\n",
       "      <td>0.000000</td>\n",
       "      <td>42.750000</td>\n",
       "      <td>8.000000</td>\n",
       "    </tr>\n",
       "    <tr>\n",
       "      <th>50%</th>\n",
       "      <td>1.000000</td>\n",
       "      <td>72.000000</td>\n",
       "      <td>12.000000</td>\n",
       "    </tr>\n",
       "    <tr>\n",
       "      <th>75%</th>\n",
       "      <td>1.000000</td>\n",
       "      <td>112.000000</td>\n",
       "      <td>20.000000</td>\n",
       "    </tr>\n",
       "    <tr>\n",
       "      <th>max</th>\n",
       "      <td>1.000000</td>\n",
       "      <td>7835.000000</td>\n",
       "      <td>1289.000000</td>\n",
       "    </tr>\n",
       "  </tbody>\n",
       "</table>\n",
       "</div>"
      ],
      "text/plain": [
       "        Sentiment   review_len   word_count\n",
       "count  748.000000   748.000000   748.000000\n",
       "mean     0.516043   110.379679    19.127005\n",
       "std      0.500077   375.297319    62.521225\n",
       "min      0.000000     3.000000     1.000000\n",
       "25%      0.000000    42.750000     8.000000\n",
       "50%      1.000000    72.000000    12.000000\n",
       "75%      1.000000   112.000000    20.000000\n",
       "max      1.000000  7835.000000  1289.000000"
      ]
     },
     "execution_count": 332,
     "metadata": {},
     "output_type": "execute_result"
    }
   ],
   "source": [
    "df.describe()"
   ]
  },
  {
   "cell_type": "markdown",
   "metadata": {},
   "source": [
    "- lungimea maxima a unei recenzii este de 1289 de cuvinte\n",
    "- lungimea minima a unei recenzii este de 1 cuvant\n",
    "- lungimea medie  a unei recenzii este de 19 cuvinte"
   ]
  },
  {
   "cell_type": "code",
   "execution_count": 226,
   "metadata": {},
   "outputs": [
    {
     "data": {
      "text/html": [
       "<div>\n",
       "<style scoped>\n",
       "    .dataframe tbody tr th:only-of-type {\n",
       "        vertical-align: middle;\n",
       "    }\n",
       "\n",
       "    .dataframe tbody tr th {\n",
       "        vertical-align: top;\n",
       "    }\n",
       "\n",
       "    .dataframe thead th {\n",
       "        text-align: right;\n",
       "    }\n",
       "</style>\n",
       "<table border=\"1\" class=\"dataframe\">\n",
       "  <thead>\n",
       "    <tr style=\"text-align: right;\">\n",
       "      <th></th>\n",
       "      <th>Review</th>\n",
       "    </tr>\n",
       "  </thead>\n",
       "  <tbody>\n",
       "    <tr>\n",
       "      <th>count</th>\n",
       "      <td>748</td>\n",
       "    </tr>\n",
       "    <tr>\n",
       "      <th>unique</th>\n",
       "      <td>745</td>\n",
       "    </tr>\n",
       "    <tr>\n",
       "      <th>top</th>\n",
       "      <td>not recommended.</td>\n",
       "    </tr>\n",
       "    <tr>\n",
       "      <th>freq</th>\n",
       "      <td>2</td>\n",
       "    </tr>\n",
       "  </tbody>\n",
       "</table>\n",
       "</div>"
      ],
      "text/plain": [
       "                    Review\n",
       "count                  748\n",
       "unique                 745\n",
       "top     not recommended.  \n",
       "freq                     2"
      ]
     },
     "execution_count": 226,
     "metadata": {},
     "output_type": "execute_result"
    }
   ],
   "source": [
    "df.describe(include=['O'])"
   ]
  },
  {
   "cell_type": "markdown",
   "metadata": {},
   "source": [
    "- convertim textul la scriere cu litera mica pentru a evita ca de exemplu \"Plot\" si \"plot\" sa fie luate ca elemente diferite"
   ]
  },
  {
   "cell_type": "code",
   "execution_count": 121,
   "metadata": {},
   "outputs": [],
   "source": [
    "df['Review']=df['Review'].str.lower()"
   ]
  },
  {
   "cell_type": "markdown",
   "metadata": {},
   "source": [
    "- eliminam cifrele"
   ]
  },
  {
   "cell_type": "code",
   "execution_count": 127,
   "metadata": {},
   "outputs": [],
   "source": [
    "import re\n",
    "df['Review']=df['Review'].str.replace(r'\\d+','')"
   ]
  },
  {
   "cell_type": "markdown",
   "metadata": {},
   "source": [
    "- adaugam coloane noi pentru numarul de cuvinte pe care il contine o recenzie si pentru lungimea recenziei\n"
   ]
  },
  {
   "cell_type": "code",
   "execution_count": 130,
   "metadata": {},
   "outputs": [],
   "source": [
    "df['review_len'] = df['Review'].astype(str).apply(len)\n",
    "df['word_count'] = df['Review'].apply(lambda x: len(str(x).split()))"
   ]
  },
  {
   "cell_type": "code",
   "execution_count": 131,
   "metadata": {},
   "outputs": [
    {
     "data": {
      "text/html": [
       "<div>\n",
       "<style scoped>\n",
       "    .dataframe tbody tr th:only-of-type {\n",
       "        vertical-align: middle;\n",
       "    }\n",
       "\n",
       "    .dataframe tbody tr th {\n",
       "        vertical-align: top;\n",
       "    }\n",
       "\n",
       "    .dataframe thead th {\n",
       "        text-align: right;\n",
       "    }\n",
       "</style>\n",
       "<table border=\"1\" class=\"dataframe\">\n",
       "  <thead>\n",
       "    <tr style=\"text-align: right;\">\n",
       "      <th></th>\n",
       "      <th>Review</th>\n",
       "      <th>Sentiment</th>\n",
       "      <th>review_len</th>\n",
       "      <th>word_count</th>\n",
       "    </tr>\n",
       "  </thead>\n",
       "  <tbody>\n",
       "    <tr>\n",
       "      <th>0</th>\n",
       "      <td>a very, very, very slow-moving, aimless movie ...</td>\n",
       "      <td>0</td>\n",
       "      <td>87</td>\n",
       "      <td>13</td>\n",
       "    </tr>\n",
       "    <tr>\n",
       "      <th>1</th>\n",
       "      <td>not sure who was more lost - the flat characte...</td>\n",
       "      <td>0</td>\n",
       "      <td>99</td>\n",
       "      <td>19</td>\n",
       "    </tr>\n",
       "    <tr>\n",
       "      <th>2</th>\n",
       "      <td>attempting artiness with black &amp; white and cle...</td>\n",
       "      <td>0</td>\n",
       "      <td>188</td>\n",
       "      <td>31</td>\n",
       "    </tr>\n",
       "    <tr>\n",
       "      <th>3</th>\n",
       "      <td>very little music or anything to speak of.</td>\n",
       "      <td>0</td>\n",
       "      <td>44</td>\n",
       "      <td>8</td>\n",
       "    </tr>\n",
       "    <tr>\n",
       "      <th>4</th>\n",
       "      <td>the best scene in the movie was when gerardo i...</td>\n",
       "      <td>1</td>\n",
       "      <td>108</td>\n",
       "      <td>21</td>\n",
       "    </tr>\n",
       "  </tbody>\n",
       "</table>\n",
       "</div>"
      ],
      "text/plain": [
       "                                              Review  Sentiment  review_len  \\\n",
       "0  a very, very, very slow-moving, aimless movie ...          0          87   \n",
       "1  not sure who was more lost - the flat characte...          0          99   \n",
       "2  attempting artiness with black & white and cle...          0         188   \n",
       "3       very little music or anything to speak of.            0          44   \n",
       "4  the best scene in the movie was when gerardo i...          1         108   \n",
       "\n",
       "   word_count  \n",
       "0          13  \n",
       "1          19  \n",
       "2          31  \n",
       "3           8  \n",
       "4          21  "
      ]
     },
     "execution_count": 131,
     "metadata": {},
     "output_type": "execute_result"
    }
   ],
   "source": [
    "df.head()"
   ]
  },
  {
   "cell_type": "code",
   "execution_count": 196,
   "metadata": {},
   "outputs": [
    {
     "data": {
      "image/png": "[encoded data removed]",
      "text/plain": [
       "<Figure size 432x288 with 1 Axes>"
      ]
     },
     "metadata": {
      "needs_background": "light"
     },
     "output_type": "display_data"
    }
   ],
   "source": [
    "import matplotlib.pyplot as plt\n",
    "#df['Sentiment'].plot(legend=True)\n",
    "#df['review_len'].plot(kind=legend=True)\n",
    "ax=df.plot(0,2,\n",
    "    legend=True,\n",
    "    title='Review Text Length Distribution')\n",
    "ax.set_xlabel(\"Review\")\n",
    "ax.set_ylabel(\"Review length\")\n",
    "plt.show()"
   ]
  },
  {
   "cell_type": "code",
   "execution_count": 215,
   "metadata": {},
   "outputs": [
    {
     "data": {
      "image/png": "[encoded data removed]",
      "text/plain": [
       "<Figure size 432x288 with 1 Axes>"
      ]
     },
     "metadata": {
      "needs_background": "light"
     },
     "output_type": "display_data"
    }
   ],
   "source": [
    "ax=df.plot(1,2,\n",
    "    kind='scatter',\n",
    "    legend=True,\n",
    "    title='Review Sentiment Distribution')\n",
    "ax.set_xlabel(\"Review length\")\n",
    "ax.set_ylabel(\"Sentiment\")\n",
    "plt.show()"
   ]
  },
  {
   "cell_type": "code",
   "execution_count": 336,
   "metadata": {},
   "outputs": [
    {
     "data": {
      "image/png": "[encoded data removed]",
      "text/plain": [
       "<Figure size 432x288 with 1 Axes>"
      ]
     },
     "metadata": {
      "needs_background": "light"
     },
     "output_type": "display_data"
    }
   ],
   "source": [
    "ax=df['Sentiment'].plot(kind='hist',\n",
    "                       title='Review Sentiment Distribution')\n",
    "ax.set_xlabel(\"Sentiment\")\n",
    "ax.set_ylabel(\"No of reviews\")\n",
    "plt.show()"
   ]
  },
  {
   "cell_type": "code",
   "execution_count": 337,
   "metadata": {},
   "outputs": [],
   "source": [
    "X=df.iloc[:,0].values\n",
    "y=np.ravel(df.iloc[:,1])"
   ]
  },
  {
   "cell_type": "markdown",
   "metadata": {},
   "source": [
    "- transformare in Bag Of Words"
   ]
  },
  {
   "cell_type": "code",
   "execution_count": 217,
   "metadata": {},
   "outputs": [],
   "source": [
    "from sklearn.feature_extraction.text import CountVectorizer\n",
    "\n",
    "vec = CountVectorizer().fit(df['Review'])\n",
    "bag_of_words = vec.transform(df['Review'])\n",
    "sum_words = bag_of_words.sum(axis=0) \n",
    "words_freq = [(word, sum_words[0, idx]) for word, idx in vec.vocabulary_.items()]\n",
    "words_freq =sorted(words_freq, key = lambda x: x[1], reverse=True)"
   ]
  },
  {
   "cell_type": "code",
   "execution_count": 219,
   "metadata": {},
   "outputs": [
    {
     "data": {
      "text/plain": [
       "[('the', 849),\n",
       " ('and', 434),\n",
       " ('of', 377),\n",
       " ('is', 340),\n",
       " ('it', 325),\n",
       " ('this', 292),\n",
       " ('to', 253),\n",
       " ('in', 203),\n",
       " ('was', 186),\n",
       " ('movie', 182),\n",
       " ('that', 165),\n",
       " ('film', 163),\n",
       " ('for', 105),\n",
       " ('as', 94),\n",
       " ('but', 93)]"
      ]
     },
     "execution_count": 219,
     "metadata": {},
     "output_type": "execute_result"
    }
   ],
   "source": [
    "words_freq[:15]"
   ]
  },
  {
   "cell_type": "code",
   "execution_count": 222,
   "metadata": {},
   "outputs": [
    {
     "data": {
      "image/png": "[encoded data removed]",
      "text/plain": [
       "<Figure size 432x288 with 1 Axes>"
      ]
     },
     "metadata": {
      "needs_background": "light"
     },
     "output_type": "display_data"
    }
   ],
   "source": [
    "df1 = pd.DataFrame(words_freq[:15], columns = ['ReviewText' , 'count'])\n",
    "ax=df1.groupby('ReviewText').sum()['count'].sort_values(ascending=False).plot(\n",
    "    kind='bar', title='Top 15 cuvinte in review inainte de eliminarea stop words')\n",
    "ax.set_ylabel(\"Aparitii\")\n",
    "ax.set_xlabel(\"Cuvant in reviews\")\n",
    "plt.show()"
   ]
  },
  {
   "cell_type": "code",
   "execution_count": 223,
   "metadata": {},
   "outputs": [
    {
     "data": {
      "image/png": "[encoded data removed]",
      "text/plain": [
       "<Figure size 432x288 with 1 Axes>"
      ]
     },
     "metadata": {
      "needs_background": "light"
     },
     "output_type": "display_data"
    }
   ],
   "source": [
    "vec = CountVectorizer(stop_words = 'english').fit(df['Review'])\n",
    "bag_of_words = vec.transform(df['Review'])\n",
    "sum_words = bag_of_words.sum(axis=0) \n",
    "words_freq = [(word, sum_words[0, idx]) for word, idx in vec.vocabulary_.items()]\n",
    "words_freq =sorted(words_freq, key = lambda x: x[1], reverse=True)\n",
    "\n",
    "df1 = pd.DataFrame(words_freq[:15], columns = ['ReviewText' , 'count'])\n",
    "ax=df1.groupby('ReviewText').sum()['count'].sort_values(ascending=False).plot(\n",
    "    kind='bar', title='Top 15 cuvinte in review dupa eliminarea stop words')\n",
    "ax.set_ylabel(\"Aparitii\")\n",
    "ax.set_xlabel(\"Cuvant in reviews\")\n",
    "plt.show()"
   ]
  },
  {
   "cell_type": "code",
   "execution_count": 224,
   "metadata": {},
   "outputs": [],
   "source": [
    "from sklearn.datasets import make_blobs\n",
    "from sklearn.cluster import KMeans"
   ]
  },
  {
   "cell_type": "code",
   "execution_count": 241,
   "metadata": {},
   "outputs": [],
   "source": [
    "tfidf_vectorizer = TfidfVectorizer()\n",
    "tfidf = tfidf_vectorizer.fit_transform(df['Review'].loc[:500])"
   ]
  },
  {
   "cell_type": "code",
   "execution_count": 275,
   "metadata": {},
   "outputs": [],
   "source": [
    "kmeans = KMeans(n_clusters=2).fit(tfidf)\n",
    "test=df['Review'].loc[500:]\n",
    "test2=kmeans.predict(tfidf_vectorizer.transform(test))\n",
    "test2=pd.DataFrame(test2)\n"
   ]
  },
  {
   "cell_type": "code",
   "execution_count": 273,
   "metadata": {},
   "outputs": [
    {
     "data": {
      "image/png": "[encoded data removed]",
      "text/plain": [
       "<Figure size 432x288 with 1 Axes>"
      ]
     },
     "metadata": {
      "needs_background": "light"
     },
     "output_type": "display_data"
    },
    {
     "name": "stdout",
     "output_type": "stream",
     "text": [
      "KMeans(algorithm='auto', copy_x=True, init='k-means++', max_iter=300,\n",
      "    n_clusters=2, n_init=10, n_jobs=None, precompute_distances='auto',\n",
      "    random_state=None, tol=0.0001, verbose=0)\n"
     ]
    }
   ],
   "source": [
    "ax=test2.plot(kind='hist')\n",
    "ax.set_xlabel(\"Sentiment\")\n",
    "ax.set_ylabel(\"No of reviews\")\n",
    "plt.show()\n"
   ]
  },
  {
   "cell_type": "code",
   "execution_count": 277,
   "metadata": {},
   "outputs": [],
   "source": [
    "def score_report(model, parameters):\n",
    "    model_GS = GridSearchCV(model, param_grid=parameters,scoring='f1_macro', cv = 5, iid = False, return_train_score=True, n_jobs=-1)\n",
    "    model_RS = RandomizedSearchCV(estimator = model, param_distributions = parameters,scoring='f1_macro', cv=5, n_iter=5, iid=False, n_jobs=-1)\n",
    "    scores_GS = cross_validate(model_GS, bag_of_words, y, return_train_score=True, scoring=('f1_macro','accuracy'),cv=5)\n",
    "    scores_RS = cross_validate(model_RS, bag_of_words, y, return_train_score=True, scoring=('f1_macro','accuracy'),cv=5)\n",
    "    return scores_GS, scores_RS"
   ]
  },
  {
   "cell_type": "code",
   "execution_count": 94,
   "metadata": {},
   "outputs": [
    {
     "name": "stdout",
     "output_type": "stream",
     "text": [
      "3047\n"
     ]
    }
   ],
   "source": [
    "from sklearn.feature_extraction.text import CountVectorizer\n",
    "\n",
    "vectorizer = CountVectorizer()\n",
    "X_data=vectorizer.fit_transform(X)\n",
    "feature_names=vectorizer.get_feature_names()\n",
    "print(len(feature_names))"
   ]
  },
  {
   "cell_type": "markdown",
   "metadata": {},
   "source": [
    "- sunt 3047 de cuvinte diferite\n",
    "- encoded vector is a sparse matrix\n",
    "- pentru fiecare cuvant in parte este afisat si de cate ori a fost intalnit in texte\n"
   ]
  },
  {
   "cell_type": "code",
   "execution_count": 95,
   "metadata": {},
   "outputs": [
    {
     "name": "stdout",
     "output_type": "stream",
     "text": [
      "[4.57421655 6.9255918  6.52012669 ... 6.9255918  6.52012669 6.9255918 ]\n"
     ]
    }
   ],
   "source": [
    "from sklearn.feature_extraction.text import TfidfVectorizer\n",
    "# create the transform\n",
    "vectorizer = TfidfVectorizer()\n",
    "# tokenize and build vocab\n",
    "vectorizer.fit(X)\n",
    "# summarize\n",
    "print(vectorizer.idf_)"
   ]
  },
  {
   "cell_type": "markdown",
   "metadata": {},
   "source": [
    "- TfidfVectorizer “Term Frequency – Inverse Document”\n",
    "- Term Frequency -insumeaza aparitiile unui cuvant in documentul dat\n",
    "- Inverse Document Frequency -reduce cuvintele care apar de foarte multe ori in document"
   ]
  },
  {
   "cell_type": "code",
   "execution_count": null,
   "metadata": {},
   "outputs": [],
   "source": []
  },
  {
   "cell_type": "code",
   "execution_count": 318,
   "metadata": {},
   "outputs": [],
   "source": [
    "results = pd.DataFrame(columns = ['Model',\n",
    "                                  'Search_strategy',\n",
    "                                  'train_f1_macro',\n",
    "                                  'test_f1_macro',\n",
    "                                  'train_accuracy',\n",
    "                                  'test_accuracy',\n",
    "                                  'score_time',\n",
    "                                  'fit_time'])\n",
    "def make_line(model:str, search_strategy:str, results):\n",
    "    results['Model'] = model\n",
    "    results['Search_strategy'] = search_strategy\n",
    "    for key, value in results.items():\n",
    "        if(type(results[key])!=str):\n",
    "            results[key] = results[key].mean()\n",
    "    return results"
   ]
  },
  {
   "cell_type": "markdown",
   "metadata": {},
   "source": [
    "<h1>Decision Tree Classifier</h1>"
   ]
  },
  {
   "cell_type": "code",
   "execution_count": 278,
   "metadata": {},
   "outputs": [],
   "source": [
    "parameters = {\n",
    "        'min_samples_split':[2,5,8, 10],\n",
    "        'splitter':['best', 'random'],\n",
    "        'max_depth':[1, 10, 20, 30]\n",
    "    }\n",
    "res_GS, res_RS = score_report(tree.DecisionTreeClassifier(), parameters=parameters)"
   ]
  },
  {
   "cell_type": "code",
   "execution_count": 319,
   "metadata": {},
   "outputs": [],
   "source": [
    "res_GSaux = make_line('Decision Tree', 'GridSearchCV', res_GS)\n",
    "res_RSaux = make_line('Decision Tree', 'RandomSearchCV', res_RS)\n",
    "results = results.append(res_GSaux, ignore_index=True)\n",
    "results = results.append(res_RSaux, ignore_index=True)"
   ]
  },
  {
   "cell_type": "markdown",
   "metadata": {},
   "source": [
    "<h1>Random Forest Classifier</h1>"
   ]
  },
  {
   "cell_type": "code",
   "execution_count": 281,
   "metadata": {},
   "outputs": [],
   "source": [
    "parameters = {\n",
    "    'n_estimators'      : [320,330,340],\n",
    "    'max_depth'         : [8, 9, 10, 11, 12],\n",
    "    'random_state'      : [0]\n",
    "    }\n",
    "res_GS2, res_RS2 = score_report(RandomForestClassifier(n_estimators=100), parameters=parameters)"
   ]
  },
  {
   "cell_type": "code",
   "execution_count": 320,
   "metadata": {},
   "outputs": [],
   "source": [
    "res_GSaux = make_line('Random Forest', 'GridSearchCV', res_GS2)\n",
    "res_RSaux = make_line('Random Forest', 'RandomSearchCV', res_RS2)\n",
    "results = results.append(res_GSaux, ignore_index=True)\n",
    "results = results.append(res_RSaux, ignore_index=True)"
   ]
  },
  {
   "cell_type": "markdown",
   "metadata": {},
   "source": [
    "<h1> KNeighbours Classifier</h1>"
   ]
  },
  {
   "cell_type": "code",
   "execution_count": 283,
   "metadata": {},
   "outputs": [],
   "source": [
    "parameters = {'n_neighbors':[4,5,7],\n",
    "              'leaf_size':[1,3,5],\n",
    "              'algorithm':['auto', 'kd_tree']\n",
    "             }\n",
    "res_GS3, res_RS3 = score_report(KNeighborsClassifier(n_neighbors=5), parameters=parameters)"
   ]
  },
  {
   "cell_type": "code",
   "execution_count": 321,
   "metadata": {},
   "outputs": [],
   "source": [
    "res_GSaux = make_line('KNeighborsClassifier', 'GridSearchCV', res_GS3)\n",
    "res_RSaux = make_line('KNeighborsClassifier', 'RandomSearchCV', res_RS3)\n",
    "results = results.append(res_GSaux, ignore_index=True)\n",
    "results = results.append(res_RSaux, ignore_index=True)"
   ]
  },
  {
   "cell_type": "markdown",
   "metadata": {},
   "source": [
    "<h1>Support Vector Machine</h1>"
   ]
  },
  {
   "cell_type": "code",
   "execution_count": 285,
   "metadata": {},
   "outputs": [],
   "source": [
    "parameters = {\n",
    "            'C':[1,5, 10],\n",
    "            'cache_size':[200, 1000],\n",
    "            'max_iter':[100, 500, 1000]\n",
    "    }\n",
    "res_GS4, res_RS4 = score_report(svm.SVC(gamma='scale'), parameters=parameters)"
   ]
  },
  {
   "cell_type": "code",
   "execution_count": 322,
   "metadata": {},
   "outputs": [],
   "source": [
    "res_GSaux = make_line('SVM', 'GridSearchCV', res_GS4)\n",
    "res_RSaux = make_line('SVM', 'RandomSearchCV', res_RS4)\n",
    "results = results.append(res_GSaux, ignore_index=True)\n",
    "results = results.append(res_RSaux, ignore_index=True)"
   ]
  },
  {
   "cell_type": "code",
   "execution_count": 323,
   "metadata": {},
   "outputs": [
    {
     "data": {
      "text/html": [
       "<div>\n",
       "<style scoped>\n",
       "    .dataframe tbody tr th:only-of-type {\n",
       "        vertical-align: middle;\n",
       "    }\n",
       "\n",
       "    .dataframe tbody tr th {\n",
       "        vertical-align: top;\n",
       "    }\n",
       "\n",
       "    .dataframe thead th {\n",
       "        text-align: right;\n",
       "    }\n",
       "</style>\n",
       "<table border=\"1\" class=\"dataframe\">\n",
       "  <thead>\n",
       "    <tr style=\"text-align: right;\">\n",
       "      <th></th>\n",
       "      <th>Model</th>\n",
       "      <th>Search_strategy</th>\n",
       "      <th>train_f1_macro</th>\n",
       "      <th>test_f1_macro</th>\n",
       "      <th>train_accuracy</th>\n",
       "      <th>test_accuracy</th>\n",
       "      <th>score_time</th>\n",
       "      <th>fit_time</th>\n",
       "    </tr>\n",
       "  </thead>\n",
       "  <tbody>\n",
       "    <tr>\n",
       "      <th>0</th>\n",
       "      <td>Decision Tree</td>\n",
       "      <td>GridSearchCV</td>\n",
       "      <td>0.774297</td>\n",
       "      <td>0.604296</td>\n",
       "      <td>0.784109</td>\n",
       "      <td>0.627018</td>\n",
       "      <td>0.001686</td>\n",
       "      <td>2.413065</td>\n",
       "    </tr>\n",
       "    <tr>\n",
       "      <th>1</th>\n",
       "      <td>Decision Tree</td>\n",
       "      <td>RandomSearchCV</td>\n",
       "      <td>0.747867</td>\n",
       "      <td>0.605514</td>\n",
       "      <td>0.766082</td>\n",
       "      <td>0.637738</td>\n",
       "      <td>0.001990</td>\n",
       "      <td>0.381391</td>\n",
       "    </tr>\n",
       "    <tr>\n",
       "      <th>2</th>\n",
       "      <td>Random Forest</td>\n",
       "      <td>GridSearchCV</td>\n",
       "      <td>0.854850</td>\n",
       "      <td>0.673388</td>\n",
       "      <td>0.858633</td>\n",
       "      <td>0.695198</td>\n",
       "      <td>0.122416</td>\n",
       "      <td>18.690832</td>\n",
       "    </tr>\n",
       "    <tr>\n",
       "      <th>3</th>\n",
       "      <td>Random Forest</td>\n",
       "      <td>RandomSearchCV</td>\n",
       "      <td>0.854498</td>\n",
       "      <td>0.677440</td>\n",
       "      <td>0.858299</td>\n",
       "      <td>0.699225</td>\n",
       "      <td>0.113592</td>\n",
       "      <td>9.332776</td>\n",
       "    </tr>\n",
       "    <tr>\n",
       "      <th>4</th>\n",
       "      <td>KNeighborsClassifier</td>\n",
       "      <td>GridSearchCV</td>\n",
       "      <td>0.703286</td>\n",
       "      <td>0.544207</td>\n",
       "      <td>0.719877</td>\n",
       "      <td>0.584350</td>\n",
       "      <td>0.015080</td>\n",
       "      <td>1.183655</td>\n",
       "    </tr>\n",
       "    <tr>\n",
       "      <th>5</th>\n",
       "      <td>KNeighborsClassifier</td>\n",
       "      <td>RandomSearchCV</td>\n",
       "      <td>0.688965</td>\n",
       "      <td>0.547422</td>\n",
       "      <td>0.710194</td>\n",
       "      <td>0.593746</td>\n",
       "      <td>0.011415</td>\n",
       "      <td>0.353373</td>\n",
       "    </tr>\n",
       "    <tr>\n",
       "      <th>6</th>\n",
       "      <td>SVM</td>\n",
       "      <td>GridSearchCV</td>\n",
       "      <td>0.948807</td>\n",
       "      <td>0.719791</td>\n",
       "      <td>0.948858</td>\n",
       "      <td>0.720621</td>\n",
       "      <td>0.028773</td>\n",
       "      <td>3.543442</td>\n",
       "    </tr>\n",
       "    <tr>\n",
       "      <th>7</th>\n",
       "      <td>SVM</td>\n",
       "      <td>RandomSearchCV</td>\n",
       "      <td>0.949144</td>\n",
       "      <td>0.719791</td>\n",
       "      <td>0.949192</td>\n",
       "      <td>0.720621</td>\n",
       "      <td>0.028971</td>\n",
       "      <td>0.990630</td>\n",
       "    </tr>\n",
       "  </tbody>\n",
       "</table>\n",
       "</div>"
      ],
      "text/plain": [
       "                  Model Search_strategy  train_f1_macro  test_f1_macro  \\\n",
       "0         Decision Tree    GridSearchCV        0.774297       0.604296   \n",
       "1         Decision Tree  RandomSearchCV        0.747867       0.605514   \n",
       "2         Random Forest    GridSearchCV        0.854850       0.673388   \n",
       "3         Random Forest  RandomSearchCV        0.854498       0.677440   \n",
       "4  KNeighborsClassifier    GridSearchCV        0.703286       0.544207   \n",
       "5  KNeighborsClassifier  RandomSearchCV        0.688965       0.547422   \n",
       "6                   SVM    GridSearchCV        0.948807       0.719791   \n",
       "7                   SVM  RandomSearchCV        0.949144       0.719791   \n",
       "\n",
       "   train_accuracy  test_accuracy  score_time   fit_time  \n",
       "0        0.784109       0.627018    0.001686   2.413065  \n",
       "1        0.766082       0.637738    0.001990   0.381391  \n",
       "2        0.858633       0.695198    0.122416  18.690832  \n",
       "3        0.858299       0.699225    0.113592   9.332776  \n",
       "4        0.719877       0.584350    0.015080   1.183655  \n",
       "5        0.710194       0.593746    0.011415   0.353373  \n",
       "6        0.948858       0.720621    0.028773   3.543442  \n",
       "7        0.949192       0.720621    0.028971   0.990630  "
      ]
     },
     "execution_count": 323,
     "metadata": {},
     "output_type": "execute_result"
    }
   ],
   "source": [
    "results"
   ]
  },
  {
   "cell_type": "code",
   "execution_count": 324,
   "metadata": {},
   "outputs": [],
   "source": [
    "def color(grid):\n",
    "    return ['background-color: red' if value == grid.max() else ('background-color: green' if value == grid.min() else '') for value in grid]"
   ]
  },
  {
   "cell_type": "code",
   "execution_count": 328,
   "metadata": {},
   "outputs": [],
   "source": [
    "results_highlighted1= results.style.apply(color, subset=[\n",
    "                                  'train_f1_macro',\n",
    "                                  'test_f1_macro',\n",
    "                                  'train_accuracy',\n",
    "                                  'test_accuracy',\n",
    "                                  'score_time',\n",
    "                                  'fit_time'])"
   ]
  },
  {
   "cell_type": "code",
   "execution_count": 329,
   "metadata": {},
   "outputs": [
    {
     "data": {
      "text/html": [
       "<style  type=\"text/css\" >\n",
       "    #T_e2cdfe22_7b6d_11e9_bcc1_40490f6fd5e0row0_col6 {\n",
       "            background-color:  green;\n",
       "        }    #T_e2cdfe22_7b6d_11e9_bcc1_40490f6fd5e0row2_col6 {\n",
       "            background-color:  red;\n",
       "        }    #T_e2cdfe22_7b6d_11e9_bcc1_40490f6fd5e0row2_col7 {\n",
       "            background-color:  red;\n",
       "        }    #T_e2cdfe22_7b6d_11e9_bcc1_40490f6fd5e0row4_col3 {\n",
       "            background-color:  green;\n",
       "        }    #T_e2cdfe22_7b6d_11e9_bcc1_40490f6fd5e0row4_col5 {\n",
       "            background-color:  green;\n",
       "        }    #T_e2cdfe22_7b6d_11e9_bcc1_40490f6fd5e0row5_col2 {\n",
       "            background-color:  green;\n",
       "        }    #T_e2cdfe22_7b6d_11e9_bcc1_40490f6fd5e0row5_col4 {\n",
       "            background-color:  green;\n",
       "        }    #T_e2cdfe22_7b6d_11e9_bcc1_40490f6fd5e0row5_col7 {\n",
       "            background-color:  green;\n",
       "        }    #T_e2cdfe22_7b6d_11e9_bcc1_40490f6fd5e0row6_col3 {\n",
       "            background-color:  red;\n",
       "        }    #T_e2cdfe22_7b6d_11e9_bcc1_40490f6fd5e0row6_col5 {\n",
       "            background-color:  red;\n",
       "        }    #T_e2cdfe22_7b6d_11e9_bcc1_40490f6fd5e0row7_col2 {\n",
       "            background-color:  red;\n",
       "        }    #T_e2cdfe22_7b6d_11e9_bcc1_40490f6fd5e0row7_col3 {\n",
       "            background-color:  red;\n",
       "        }    #T_e2cdfe22_7b6d_11e9_bcc1_40490f6fd5e0row7_col4 {\n",
       "            background-color:  red;\n",
       "        }    #T_e2cdfe22_7b6d_11e9_bcc1_40490f6fd5e0row7_col5 {\n",
       "            background-color:  red;\n",
       "        }</style>  \n",
       "<table id=\"T_e2cdfe22_7b6d_11e9_bcc1_40490f6fd5e0\" > \n",
       "<thead>    <tr> \n",
       "        <th class=\"blank level0\" ></th> \n",
       "        <th class=\"col_heading level0 col0\" >Model</th> \n",
       "        <th class=\"col_heading level0 col1\" >Search_strategy</th> \n",
       "        <th class=\"col_heading level0 col2\" >train_f1_macro</th> \n",
       "        <th class=\"col_heading level0 col3\" >test_f1_macro</th> \n",
       "        <th class=\"col_heading level0 col4\" >train_accuracy</th> \n",
       "        <th class=\"col_heading level0 col5\" >test_accuracy</th> \n",
       "        <th class=\"col_heading level0 col6\" >score_time</th> \n",
       "        <th class=\"col_heading level0 col7\" >fit_time</th> \n",
       "    </tr></thead> \n",
       "<tbody>    <tr> \n",
       "        <th id=\"T_e2cdfe22_7b6d_11e9_bcc1_40490f6fd5e0level0_row0\" class=\"row_heading level0 row0\" >0</th> \n",
       "        <td id=\"T_e2cdfe22_7b6d_11e9_bcc1_40490f6fd5e0row0_col0\" class=\"data row0 col0\" >Decision Tree</td> \n",
       "        <td id=\"T_e2cdfe22_7b6d_11e9_bcc1_40490f6fd5e0row0_col1\" class=\"data row0 col1\" >GridSearchCV</td> \n",
       "        <td id=\"T_e2cdfe22_7b6d_11e9_bcc1_40490f6fd5e0row0_col2\" class=\"data row0 col2\" >0.774297</td> \n",
       "        <td id=\"T_e2cdfe22_7b6d_11e9_bcc1_40490f6fd5e0row0_col3\" class=\"data row0 col3\" >0.604296</td> \n",
       "        <td id=\"T_e2cdfe22_7b6d_11e9_bcc1_40490f6fd5e0row0_col4\" class=\"data row0 col4\" >0.784109</td> \n",
       "        <td id=\"T_e2cdfe22_7b6d_11e9_bcc1_40490f6fd5e0row0_col5\" class=\"data row0 col5\" >0.627018</td> \n",
       "        <td id=\"T_e2cdfe22_7b6d_11e9_bcc1_40490f6fd5e0row0_col6\" class=\"data row0 col6\" >0.00168614</td> \n",
       "        <td id=\"T_e2cdfe22_7b6d_11e9_bcc1_40490f6fd5e0row0_col7\" class=\"data row0 col7\" >2.41306</td> \n",
       "    </tr>    <tr> \n",
       "        <th id=\"T_e2cdfe22_7b6d_11e9_bcc1_40490f6fd5e0level0_row1\" class=\"row_heading level0 row1\" >1</th> \n",
       "        <td id=\"T_e2cdfe22_7b6d_11e9_bcc1_40490f6fd5e0row1_col0\" class=\"data row1 col0\" >Decision Tree</td> \n",
       "        <td id=\"T_e2cdfe22_7b6d_11e9_bcc1_40490f6fd5e0row1_col1\" class=\"data row1 col1\" >RandomSearchCV</td> \n",
       "        <td id=\"T_e2cdfe22_7b6d_11e9_bcc1_40490f6fd5e0row1_col2\" class=\"data row1 col2\" >0.747867</td> \n",
       "        <td id=\"T_e2cdfe22_7b6d_11e9_bcc1_40490f6fd5e0row1_col3\" class=\"data row1 col3\" >0.605514</td> \n",
       "        <td id=\"T_e2cdfe22_7b6d_11e9_bcc1_40490f6fd5e0row1_col4\" class=\"data row1 col4\" >0.766082</td> \n",
       "        <td id=\"T_e2cdfe22_7b6d_11e9_bcc1_40490f6fd5e0row1_col5\" class=\"data row1 col5\" >0.637738</td> \n",
       "        <td id=\"T_e2cdfe22_7b6d_11e9_bcc1_40490f6fd5e0row1_col6\" class=\"data row1 col6\" >0.00199003</td> \n",
       "        <td id=\"T_e2cdfe22_7b6d_11e9_bcc1_40490f6fd5e0row1_col7\" class=\"data row1 col7\" >0.381391</td> \n",
       "    </tr>    <tr> \n",
       "        <th id=\"T_e2cdfe22_7b6d_11e9_bcc1_40490f6fd5e0level0_row2\" class=\"row_heading level0 row2\" >2</th> \n",
       "        <td id=\"T_e2cdfe22_7b6d_11e9_bcc1_40490f6fd5e0row2_col0\" class=\"data row2 col0\" >Random Forest</td> \n",
       "        <td id=\"T_e2cdfe22_7b6d_11e9_bcc1_40490f6fd5e0row2_col1\" class=\"data row2 col1\" >GridSearchCV</td> \n",
       "        <td id=\"T_e2cdfe22_7b6d_11e9_bcc1_40490f6fd5e0row2_col2\" class=\"data row2 col2\" >0.85485</td> \n",
       "        <td id=\"T_e2cdfe22_7b6d_11e9_bcc1_40490f6fd5e0row2_col3\" class=\"data row2 col3\" >0.673388</td> \n",
       "        <td id=\"T_e2cdfe22_7b6d_11e9_bcc1_40490f6fd5e0row2_col4\" class=\"data row2 col4\" >0.858633</td> \n",
       "        <td id=\"T_e2cdfe22_7b6d_11e9_bcc1_40490f6fd5e0row2_col5\" class=\"data row2 col5\" >0.695198</td> \n",
       "        <td id=\"T_e2cdfe22_7b6d_11e9_bcc1_40490f6fd5e0row2_col6\" class=\"data row2 col6\" >0.122416</td> \n",
       "        <td id=\"T_e2cdfe22_7b6d_11e9_bcc1_40490f6fd5e0row2_col7\" class=\"data row2 col7\" >18.6908</td> \n",
       "    </tr>    <tr> \n",
       "        <th id=\"T_e2cdfe22_7b6d_11e9_bcc1_40490f6fd5e0level0_row3\" class=\"row_heading level0 row3\" >3</th> \n",
       "        <td id=\"T_e2cdfe22_7b6d_11e9_bcc1_40490f6fd5e0row3_col0\" class=\"data row3 col0\" >Random Forest</td> \n",
       "        <td id=\"T_e2cdfe22_7b6d_11e9_bcc1_40490f6fd5e0row3_col1\" class=\"data row3 col1\" >RandomSearchCV</td> \n",
       "        <td id=\"T_e2cdfe22_7b6d_11e9_bcc1_40490f6fd5e0row3_col2\" class=\"data row3 col2\" >0.854498</td> \n",
       "        <td id=\"T_e2cdfe22_7b6d_11e9_bcc1_40490f6fd5e0row3_col3\" class=\"data row3 col3\" >0.67744</td> \n",
       "        <td id=\"T_e2cdfe22_7b6d_11e9_bcc1_40490f6fd5e0row3_col4\" class=\"data row3 col4\" >0.858299</td> \n",
       "        <td id=\"T_e2cdfe22_7b6d_11e9_bcc1_40490f6fd5e0row3_col5\" class=\"data row3 col5\" >0.699225</td> \n",
       "        <td id=\"T_e2cdfe22_7b6d_11e9_bcc1_40490f6fd5e0row3_col6\" class=\"data row3 col6\" >0.113592</td> \n",
       "        <td id=\"T_e2cdfe22_7b6d_11e9_bcc1_40490f6fd5e0row3_col7\" class=\"data row3 col7\" >9.33278</td> \n",
       "    </tr>    <tr> \n",
       "        <th id=\"T_e2cdfe22_7b6d_11e9_bcc1_40490f6fd5e0level0_row4\" class=\"row_heading level0 row4\" >4</th> \n",
       "        <td id=\"T_e2cdfe22_7b6d_11e9_bcc1_40490f6fd5e0row4_col0\" class=\"data row4 col0\" >KNeighborsClassifier</td> \n",
       "        <td id=\"T_e2cdfe22_7b6d_11e9_bcc1_40490f6fd5e0row4_col1\" class=\"data row4 col1\" >GridSearchCV</td> \n",
       "        <td id=\"T_e2cdfe22_7b6d_11e9_bcc1_40490f6fd5e0row4_col2\" class=\"data row4 col2\" >0.703286</td> \n",
       "        <td id=\"T_e2cdfe22_7b6d_11e9_bcc1_40490f6fd5e0row4_col3\" class=\"data row4 col3\" >0.544207</td> \n",
       "        <td id=\"T_e2cdfe22_7b6d_11e9_bcc1_40490f6fd5e0row4_col4\" class=\"data row4 col4\" >0.719877</td> \n",
       "        <td id=\"T_e2cdfe22_7b6d_11e9_bcc1_40490f6fd5e0row4_col5\" class=\"data row4 col5\" >0.58435</td> \n",
       "        <td id=\"T_e2cdfe22_7b6d_11e9_bcc1_40490f6fd5e0row4_col6\" class=\"data row4 col6\" >0.0150797</td> \n",
       "        <td id=\"T_e2cdfe22_7b6d_11e9_bcc1_40490f6fd5e0row4_col7\" class=\"data row4 col7\" >1.18366</td> \n",
       "    </tr>    <tr> \n",
       "        <th id=\"T_e2cdfe22_7b6d_11e9_bcc1_40490f6fd5e0level0_row5\" class=\"row_heading level0 row5\" >5</th> \n",
       "        <td id=\"T_e2cdfe22_7b6d_11e9_bcc1_40490f6fd5e0row5_col0\" class=\"data row5 col0\" >KNeighborsClassifier</td> \n",
       "        <td id=\"T_e2cdfe22_7b6d_11e9_bcc1_40490f6fd5e0row5_col1\" class=\"data row5 col1\" >RandomSearchCV</td> \n",
       "        <td id=\"T_e2cdfe22_7b6d_11e9_bcc1_40490f6fd5e0row5_col2\" class=\"data row5 col2\" >0.688965</td> \n",
       "        <td id=\"T_e2cdfe22_7b6d_11e9_bcc1_40490f6fd5e0row5_col3\" class=\"data row5 col3\" >0.547422</td> \n",
       "        <td id=\"T_e2cdfe22_7b6d_11e9_bcc1_40490f6fd5e0row5_col4\" class=\"data row5 col4\" >0.710194</td> \n",
       "        <td id=\"T_e2cdfe22_7b6d_11e9_bcc1_40490f6fd5e0row5_col5\" class=\"data row5 col5\" >0.593746</td> \n",
       "        <td id=\"T_e2cdfe22_7b6d_11e9_bcc1_40490f6fd5e0row5_col6\" class=\"data row5 col6\" >0.0114151</td> \n",
       "        <td id=\"T_e2cdfe22_7b6d_11e9_bcc1_40490f6fd5e0row5_col7\" class=\"data row5 col7\" >0.353373</td> \n",
       "    </tr>    <tr> \n",
       "        <th id=\"T_e2cdfe22_7b6d_11e9_bcc1_40490f6fd5e0level0_row6\" class=\"row_heading level0 row6\" >6</th> \n",
       "        <td id=\"T_e2cdfe22_7b6d_11e9_bcc1_40490f6fd5e0row6_col0\" class=\"data row6 col0\" >SVM</td> \n",
       "        <td id=\"T_e2cdfe22_7b6d_11e9_bcc1_40490f6fd5e0row6_col1\" class=\"data row6 col1\" >GridSearchCV</td> \n",
       "        <td id=\"T_e2cdfe22_7b6d_11e9_bcc1_40490f6fd5e0row6_col2\" class=\"data row6 col2\" >0.948807</td> \n",
       "        <td id=\"T_e2cdfe22_7b6d_11e9_bcc1_40490f6fd5e0row6_col3\" class=\"data row6 col3\" >0.719791</td> \n",
       "        <td id=\"T_e2cdfe22_7b6d_11e9_bcc1_40490f6fd5e0row6_col4\" class=\"data row6 col4\" >0.948858</td> \n",
       "        <td id=\"T_e2cdfe22_7b6d_11e9_bcc1_40490f6fd5e0row6_col5\" class=\"data row6 col5\" >0.720621</td> \n",
       "        <td id=\"T_e2cdfe22_7b6d_11e9_bcc1_40490f6fd5e0row6_col6\" class=\"data row6 col6\" >0.0287731</td> \n",
       "        <td id=\"T_e2cdfe22_7b6d_11e9_bcc1_40490f6fd5e0row6_col7\" class=\"data row6 col7\" >3.54344</td> \n",
       "    </tr>    <tr> \n",
       "        <th id=\"T_e2cdfe22_7b6d_11e9_bcc1_40490f6fd5e0level0_row7\" class=\"row_heading level0 row7\" >7</th> \n",
       "        <td id=\"T_e2cdfe22_7b6d_11e9_bcc1_40490f6fd5e0row7_col0\" class=\"data row7 col0\" >SVM</td> \n",
       "        <td id=\"T_e2cdfe22_7b6d_11e9_bcc1_40490f6fd5e0row7_col1\" class=\"data row7 col1\" >RandomSearchCV</td> \n",
       "        <td id=\"T_e2cdfe22_7b6d_11e9_bcc1_40490f6fd5e0row7_col2\" class=\"data row7 col2\" >0.949144</td> \n",
       "        <td id=\"T_e2cdfe22_7b6d_11e9_bcc1_40490f6fd5e0row7_col3\" class=\"data row7 col3\" >0.719791</td> \n",
       "        <td id=\"T_e2cdfe22_7b6d_11e9_bcc1_40490f6fd5e0row7_col4\" class=\"data row7 col4\" >0.949192</td> \n",
       "        <td id=\"T_e2cdfe22_7b6d_11e9_bcc1_40490f6fd5e0row7_col5\" class=\"data row7 col5\" >0.720621</td> \n",
       "        <td id=\"T_e2cdfe22_7b6d_11e9_bcc1_40490f6fd5e0row7_col6\" class=\"data row7 col6\" >0.028971</td> \n",
       "        <td id=\"T_e2cdfe22_7b6d_11e9_bcc1_40490f6fd5e0row7_col7\" class=\"data row7 col7\" >0.99063</td> \n",
       "    </tr></tbody> \n",
       "</table> "
      ],
      "text/plain": [
       "<pandas.io.formats.style.Styler at 0x23c9ce55d68>"
      ]
     },
     "execution_count": 329,
     "metadata": {},
     "output_type": "execute_result"
    }
   ],
   "source": [
    "results_highlighted1"
   ]
  }
 ],
 "metadata": {
  "kernelspec": {
   "display_name": "Python 3",
   "language": "python",
   "name": "python3"
  },
  "language_info": {
   "codemirror_mode": {
    "name": "ipython",
    "version": 3
   },
   "file_extension": ".py",
   "mimetype": "text/x-python",
   "name": "python",
   "nbconvert_exporter": "python",
   "pygments_lexer": "ipython3",
   "version": "3.7.1"
  }
 },
 "nbformat": 4,
 "nbformat_minor": 2
}
